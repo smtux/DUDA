{
 "cells": [
  {
   "cell_type": "code",
   "execution_count": 1,
   "id": "ab02c838-601a-44fd-a794-c94e6642425c",
   "metadata": {},
   "outputs": [],
   "source": [
    "import pandas as pd\n",
    "import numpy as np\n",
    "import matplotlib.pyplot as plt\n",
    "import seaborn as sns\n",
    "import missingno as msno"
   ]
  },
  {
   "cell_type": "code",
   "execution_count": 2,
   "id": "9e159acc-af77-4417-b15c-3bada294234d",
   "metadata": {},
   "outputs": [],
   "source": [
    "Phd_v1 = pd.read_csv('/home/mertes/Documents/DU_Data_Analyst/PhD.dataset.csv', dtype={\"Date de premiere inscription en doctorat\": \"object\"})"
   ]
  },
  {
   "cell_type": "code",
   "execution_count": 3,
   "id": "3451bb64-a726-4cd5-8bec-d9228bee138c",
   "metadata": {},
   "outputs": [
    {
     "name": "stdout",
     "output_type": "stream",
     "text": [
      "<class 'pandas.core.frame.DataFrame'>\n",
      "RangeIndex: 448047 entries, 0 to 448046\n",
      "Data columns (total 23 columns):\n",
      " #   Column                                    Non-Null Count   Dtype  \n",
      "---  ------                                    --------------   -----  \n",
      " 0   Unnamed: 0                                448047 non-null  object \n",
      " 1   Auteur                                    448047 non-null  object \n",
      " 2   Identifiant auteur                        317700 non-null  object \n",
      " 3   Titre                                     448040 non-null  object \n",
      " 4   Directeur de these                        448034 non-null  object \n",
      " 5   Directeur de these (nom prenom)           448034 non-null  object \n",
      " 6   Identifiant directeur                     448047 non-null  object \n",
      " 7   Etablissement de soutenance               448046 non-null  object \n",
      " 8   Identifiant etablissement                 430965 non-null  object \n",
      " 9   Discipline                                448047 non-null  object \n",
      " 10  Statut                                    448047 non-null  object \n",
      " 11  Date de premiere inscription en doctorat  64331 non-null   object \n",
      " 12  Date de soutenance                        390961 non-null  object \n",
      " 13  Year                                      390961 non-null  float64\n",
      " 14  Langue de la these                        448047 non-null  object \n",
      " 15  Identifiant de la these                   448047 non-null  object \n",
      " 16  Accessible en ligne                       448047 non-null  object \n",
      " 17  Publication dans theses.fr                448047 non-null  object \n",
      " 18  Mise a jour dans theses.fr                447870 non-null  object \n",
      " 19  Discipline_prÃ©di                         448047 non-null  object \n",
      " 20  Genre                                     448047 non-null  object \n",
      " 21  etablissement_rec                         444973 non-null  object \n",
      " 22  Langue_rec;;;;;;;;;;;;;;;;                448047 non-null  object \n",
      "dtypes: float64(1), object(22)\n",
      "memory usage: 78.6+ MB\n"
     ]
    }
   ],
   "source": [
    "Phd_v1.info()"
   ]
  },
  {
   "cell_type": "code",
   "execution_count": 4,
   "id": "a854900f-9210-4b6b-98af-a15c583e8556",
   "metadata": {},
   "outputs": [],
   "source": [
    "# Correction du nommage de la variable discipline\n",
    "Phd_v1.rename(columns={19: \"Discipline\"}, inplace=True)"
   ]
  },
  {
   "cell_type": "code",
   "execution_count": 5,
   "id": "49039b8f-df24-4d90-b755-90fd18d1a52a",
   "metadata": {},
   "outputs": [
    {
     "data": {
      "text/plain": [
       "0              '0\n",
       "1              '1\n",
       "2              '2\n",
       "3               3\n",
       "4              '4\n",
       "           ...   \n",
       "448042     448042\n",
       "448043    '448043\n",
       "448044    '448044\n",
       "448045    '448045\n",
       "448046    '448046\n",
       "Name: Unnamed: 0, Length: 448047, dtype: object"
      ]
     },
     "execution_count": 5,
     "metadata": {},
     "output_type": "execute_result"
    }
   ],
   "source": [
    "Phd_v1.iloc[:,0]"
   ]
  },
  {
   "cell_type": "code",
   "execution_count": 6,
   "id": "a4ea0fbd-a792-40a7-93f3-d470ed6a8a17",
   "metadata": {},
   "outputs": [
    {
     "data": {
      "text/plain": [
       "0           Droit et Science Politique\n",
       "1         Materiaux, Milieux et Chimie\n",
       "2                             Medecine\n",
       "3           Droit et Science Politique\n",
       "4                                  SHS\n",
       "                      ...             \n",
       "448042    Materiaux, Milieux et Chimie\n",
       "448043        Science de l''ingÃ©nieur\n",
       "448044                    Informatique\n",
       "448045                  MathÃ©matiques\n",
       "448046                        Medecine\n",
       "Name: Discipline_prÃ©di, Length: 448047, dtype: object"
      ]
     },
     "execution_count": 6,
     "metadata": {},
     "output_type": "execute_result"
    }
   ],
   "source": [
    "Phd_v1.iloc[:,19]"
   ]
  },
  {
   "cell_type": "code",
   "execution_count": 7,
   "id": "2a6d91e1-a046-49dc-a3e7-1be240a8a15a",
   "metadata": {},
   "outputs": [
    {
     "data": {
      "text/html": [
       "<div>\n",
       "<style scoped>\n",
       "    .dataframe tbody tr th:only-of-type {\n",
       "        vertical-align: middle;\n",
       "    }\n",
       "\n",
       "    .dataframe tbody tr th {\n",
       "        vertical-align: top;\n",
       "    }\n",
       "\n",
       "    .dataframe thead th {\n",
       "        text-align: right;\n",
       "    }\n",
       "</style>\n",
       "<table border=\"1\" class=\"dataframe\">\n",
       "  <thead>\n",
       "    <tr style=\"text-align: right;\">\n",
       "      <th></th>\n",
       "      <th>Discipline</th>\n",
       "    </tr>\n",
       "  </thead>\n",
       "  <tbody>\n",
       "    <tr>\n",
       "      <th>0</th>\n",
       "      <td>Driot prive</td>\n",
       "    </tr>\n",
       "    <tr>\n",
       "      <th>1</th>\n",
       "      <td>Mecanique des solides, des materiaux, des stru...</td>\n",
       "    </tr>\n",
       "    <tr>\n",
       "      <th>2</th>\n",
       "      <td>Medecine</td>\n",
       "    </tr>\n",
       "    <tr>\n",
       "      <th>3</th>\n",
       "      <td>Science politique</td>\n",
       "    </tr>\n",
       "    <tr>\n",
       "      <th>4</th>\n",
       "      <td>Geographie</td>\n",
       "    </tr>\n",
       "  </tbody>\n",
       "</table>\n",
       "</div>"
      ],
      "text/plain": [
       "                                          Discipline\n",
       "0                                        Driot prive\n",
       "1  Mecanique des solides, des materiaux, des stru...\n",
       "2                                           Medecine\n",
       "3                                  Science politique\n",
       "4                                         Geographie"
      ]
     },
     "execution_count": 7,
     "metadata": {},
     "output_type": "execute_result"
    }
   ],
   "source": [
    "Phd_v1[[\"Discipline\"]].head()"
   ]
  },
  {
   "cell_type": "code",
   "execution_count": 8,
   "id": "6586cfaf-65d5-4c87-be48-b460d28ff0e9",
   "metadata": {},
   "outputs": [
    {
     "data": {
      "text/plain": [
       "array([\"NA';;;;;;;;;;;;;;;;\", \"Français';;;;;;;;;;;;;;;;\",\n",
       "       'NA;;;;;;;;;;;;;;;;', 'Français;;;;;;;;;;;;;;;;',\n",
       "       \"Anglais';;;;;;;;;;;;;;;;\", 'Anglais;;;;;;;;;;;;;;;;',\n",
       "       \"Autre';;;;;;;;;;;;;;;;\", 'Autre;;;;;;;;;;;;;;;;',\n",
       "       'NA;;;;;;;;;;;;;;', \"Bilingue';;;;;;;;;;;;;;;;\",\n",
       "       'Bilingue;;;;;;;;;;;;;;;;', \"Français';;;;;;;;;;;;;;\",\n",
       "       \"NA';;;;;;;;;;;;;;\", 'Français;;;;;;;;;;;;;;',\n",
       "       'Anglais;;;;;;;;;;;;;;', 'Autre;;;;;;;;;;;;;;'], dtype=object)"
      ]
     },
     "execution_count": 8,
     "metadata": {},
     "output_type": "execute_result"
    }
   ],
   "source": [
    "# Détection d'une erreur dans les données. Elle peut être corrigée en modifiant le caractère de fin de ligne par l'option lineterminator\n",
    "Phd_v1[\"Langue_rec;;;;;;;;;;;;;;;;\"].unique()"
   ]
  },
  {
   "cell_type": "code",
   "execution_count": 9,
   "id": "522d547b-6838-4622-9e4b-24a7b3ea9553",
   "metadata": {},
   "outputs": [],
   "source": [
    "# Correction des Erreurs de type pour les variables \"Identifiant auteur\", \"Date de premiere inscription en doctorat\" et \"Date de soutenance\"\n",
    "Phd_v1 = pd.read_csv('/home/mertes/Documents/DU_Data_Analyst/PhD.dataset.csv',\n",
    "                     parse_dates=[\"Date de premiere inscription en doctorat\", \n",
    "                                  \"Date de soutenance\"],\n",
    "                     lineterminator=\";\")"
   ]
  },
  {
   "cell_type": "code",
   "execution_count": 10,
   "id": "7cf7f57e-1163-4a74-a101-ae7013989037",
   "metadata": {},
   "outputs": [
    {
     "data": {
      "text/plain": [
       "array([\"NA'\", \"Français'\", nan, 'Français', \"Anglais'\", 'Anglais',\n",
       "       \"Autre'\", 'Autre', \"Bilingue'\", 'Bilingue'], dtype=object)"
      ]
     },
     "execution_count": 10,
     "metadata": {},
     "output_type": "execute_result"
    }
   ],
   "source": [
    "Phd_v1[\"Langue_rec\"].unique()"
   ]
  },
  {
   "cell_type": "code",
   "execution_count": 11,
   "id": "4f8ea065-0a1e-45c9-b935-daef88700755",
   "metadata": {},
   "outputs": [],
   "source": [
    "# Transformation des valeurs manquantes non détectées\n",
    "Phd_v1[\"Langue_rec\"].replace({\"NA'\": np.nan}, inplace=True)"
   ]
  },
  {
   "cell_type": "code",
   "execution_count": 12,
   "id": "427e3756-bf7b-498f-bbca-25964f7a00cf",
   "metadata": {},
   "outputs": [
    {
     "data": {
      "text/plain": [
       "array([nan, \"Français'\", 'Français', \"Anglais'\", 'Anglais', \"Autre'\",\n",
       "       'Autre', \"Bilingue'\", 'Bilingue'], dtype=object)"
      ]
     },
     "execution_count": 12,
     "metadata": {},
     "output_type": "execute_result"
    }
   ],
   "source": [
    "Phd_v1[\"Langue_rec\"].unique()"
   ]
  },
  {
   "cell_type": "code",
   "execution_count": 13,
   "id": "8c658936-c0e7-477e-bfd4-4848791a3086",
   "metadata": {},
   "outputs": [
    {
     "name": "stdout",
     "output_type": "stream",
     "text": [
      "<class 'pandas.core.frame.DataFrame'>\n",
      "RangeIndex: 448048 entries, 0 to 448047\n",
      "Data columns (total 1 columns):\n",
      " #   Column      Non-Null Count   Dtype \n",
      "---  ------      --------------   ----- \n",
      " 0   Langue_rec  383927 non-null  object\n",
      "dtypes: object(1)\n",
      "memory usage: 3.4+ MB\n"
     ]
    }
   ],
   "source": [
    "# Affichage du jeu de données corrigé avec la variable Langue_rec\n",
    "Phd_v1[[\"Langue_rec\"]].info()"
   ]
  },
  {
   "cell_type": "code",
   "execution_count": 14,
   "id": "0f322ef0-0bab-42b6-ad25-686398f5388c",
   "metadata": {},
   "outputs": [
    {
     "name": "stdout",
     "output_type": "stream",
     "text": [
      "<class 'pandas.core.frame.DataFrame'>\n",
      "RangeIndex: 447644 entries, 0 to 447643\n",
      "Data columns (total 18 columns):\n",
      " #   Column                                    Non-Null Count   Dtype  \n",
      "---  ------                                    --------------   -----  \n",
      " 0   Auteur                                    447644 non-null  object \n",
      " 1   Identifiant auteur                        317655 non-null  object \n",
      " 2   Titre                                     447635 non-null  object \n",
      " 3   Directeur de these                        447629 non-null  object \n",
      " 4   Directeur de these (nom prenom)           447629 non-null  object \n",
      " 5   Identifiant directeur                     447644 non-null  object \n",
      " 6   Etablissement de soutenance               447640 non-null  object \n",
      " 7   Identifiant etablissement                 430559 non-null  object \n",
      " 8   Discipline                                447639 non-null  object \n",
      " 9   Statut                                    447644 non-null  object \n",
      " 10  Date de premiere inscription en doctorat  63976 non-null   object \n",
      " 11  Date de soutenance                        390898 non-null  object \n",
      " 12  Year                                      390898 non-null  float64\n",
      " 13  Langue de la these                        383879 non-null  object \n",
      " 14  Identifiant de la these                   447644 non-null  object \n",
      " 15  Accessible en ligne                       447644 non-null  object \n",
      " 16  Publication dans theses.fr                447644 non-null  object \n",
      " 17  Mise a jour dans theses.fr                447467 non-null  object \n",
      "dtypes: float64(1), object(17)\n",
      "memory usage: 61.5+ MB\n"
     ]
    }
   ],
   "source": [
    "# Chargement du nouveau jeu de donnée PhD_v2\n",
    "Phd_v2 = pd.read_csv('/home/mertes/Documents/DU_Data_Analyst/projet_1/PhD_v2.csv', low_memory=False)\n",
    "Phd_v2.info()"
   ]
  },
  {
   "cell_type": "code",
   "execution_count": 15,
   "id": "ba9d24c9-3189-487b-862c-b72b6ada5826",
   "metadata": {},
   "outputs": [
    {
     "data": {
      "text/plain": [
       "0    26-01-12\n",
       "1    22-11-13\n",
       "2    24-05-13\n",
       "3    12-07-13\n",
       "4    13-07-13\n",
       "Name: Publication dans theses.fr, dtype: object"
      ]
     },
     "execution_count": 15,
     "metadata": {},
     "output_type": "execute_result"
    }
   ],
   "source": [
    "# Type erronné pour la variable 'Publication dans theses.fr'qui contient des dates\n",
    "Phd_v2[\"Publication dans theses.fr\"].head()"
   ]
  },
  {
   "cell_type": "code",
   "execution_count": 16,
   "id": "7601f61b-bf4f-4fb4-ae37-efee3b84d416",
   "metadata": {},
   "outputs": [],
   "source": [
    "# Changement de type pour les colonnes indiquant des dates\n",
    "Phd_v2[\"Date de premiere inscription en doctorat\"] = pd.to_datetime(Phd_v2[\"Date de premiere inscription en doctorat\"])\n",
    "Phd_v2[\"Date de soutenance\"] = pd.to_datetime(Phd_v2[\"Date de soutenance\"])\n",
    "Phd_v2[\"Publication dans theses.fr\"] = pd.to_datetime(Phd_v2[\"Publication dans theses.fr\"])\n",
    "Phd_v2[\"Mise a jour dans theses.fr\"] = pd.to_datetime(Phd_v2[\"Mise a jour dans theses.fr\"])"
   ]
  },
  {
   "cell_type": "code",
   "execution_count": 17,
   "id": "bf892374-ba87-42f3-b5eb-728f8093c380",
   "metadata": {},
   "outputs": [
    {
     "name": "stdout",
     "output_type": "stream",
     "text": [
      "<class 'pandas.core.frame.DataFrame'>\n",
      "RangeIndex: 447644 entries, 0 to 447643\n",
      "Data columns (total 4 columns):\n",
      " #   Column                                    Non-Null Count   Dtype         \n",
      "---  ------                                    --------------   -----         \n",
      " 0   Date de premiere inscription en doctorat  63976 non-null   datetime64[ns]\n",
      " 1   Date de soutenance                        390898 non-null  datetime64[ns]\n",
      " 2   Publication dans theses.fr                447644 non-null  datetime64[ns]\n",
      " 3   Mise a jour dans theses.fr                447467 non-null  datetime64[ns]\n",
      "dtypes: datetime64[ns](4)\n",
      "memory usage: 13.7 MB\n"
     ]
    }
   ],
   "source": [
    "Phd_v2[[\"Date de premiere inscription en doctorat\", \n",
    "        \"Date de soutenance\", \n",
    "        \"Publication dans theses.fr\", \n",
    "        \"Mise a jour dans theses.fr\"]].info()"
   ]
  },
  {
   "cell_type": "code",
   "execution_count": 18,
   "id": "3210174f-b5c6-41d8-b069-e3019eb2bb4e",
   "metadata": {},
   "outputs": [],
   "source": [
    "# Nombre de valeurs manquantes par variable\n",
    "missing_vars = Phd_v2.isna().sum()"
   ]
  },
  {
   "cell_type": "code",
   "execution_count": 19,
   "id": "948b4673-8090-4b4d-805c-c43602ab3b4d",
   "metadata": {},
   "outputs": [
    {
     "data": {
      "text/plain": [
       "Auteur                                           0\n",
       "Identifiant auteur                          129989\n",
       "Titre                                            9\n",
       "Directeur de these                              15\n",
       "Directeur de these (nom prenom)                 15\n",
       "Identifiant directeur                            0\n",
       "Etablissement de soutenance                      4\n",
       "Identifiant etablissement                    17085\n",
       "Discipline                                       5\n",
       "Statut                                           0\n",
       "Date de premiere inscription en doctorat    383668\n",
       "Date de soutenance                           56746\n",
       "Year                                         56746\n",
       "Langue de la these                           63765\n",
       "Identifiant de la these                          0\n",
       "Accessible en ligne                              0\n",
       "Publication dans theses.fr                       0\n",
       "Mise a jour dans theses.fr                     177\n",
       "dtype: int64"
      ]
     },
     "execution_count": 19,
     "metadata": {},
     "output_type": "execute_result"
    }
   ],
   "source": [
    "missing_vars"
   ]
  },
  {
   "cell_type": "code",
   "execution_count": 20,
   "id": "74e96b05-1a2d-4549-9c0c-dc96bc12b15a",
   "metadata": {},
   "outputs": [],
   "source": [
    "# Calcul du pourcentage de valeur manquantes par variables\n",
    "missing_percent = Phd_v2.isna().mean() * 100"
   ]
  },
  {
   "cell_type": "code",
   "execution_count": 21,
   "id": "4a371def-9aa7-4606-ab53-4da1987ebc40",
   "metadata": {},
   "outputs": [
    {
     "data": {
      "text/plain": [
       "Auteur                                       0.000000\n",
       "Identifiant auteur                          29.038477\n",
       "Titre                                        0.002011\n",
       "Directeur de these                           0.003351\n",
       "Directeur de these (nom prenom)              0.003351\n",
       "Identifiant directeur                        0.000000\n",
       "Etablissement de soutenance                  0.000894\n",
       "Identifiant etablissement                    3.816649\n",
       "Discipline                                   0.001117\n",
       "Statut                                       0.000000\n",
       "Date de premiere inscription en doctorat    85.708286\n",
       "Date de soutenance                          12.676591\n",
       "Year                                        12.676591\n",
       "Langue de la these                          14.244578\n",
       "Identifiant de la these                      0.000000\n",
       "Accessible en ligne                          0.000000\n",
       "Publication dans theses.fr                   0.000000\n",
       "Mise a jour dans theses.fr                   0.039540\n",
       "dtype: float64"
      ]
     },
     "execution_count": 21,
     "metadata": {},
     "output_type": "execute_result"
    }
   ],
   "source": [
    "missing_percent"
   ]
  },
  {
   "cell_type": "code",
   "execution_count": 22,
   "id": "304a9af7-9bc0-4221-a995-5b51e50eb75f",
   "metadata": {},
   "outputs": [],
   "source": [
    "# Création du DataFrame contenant le pourcentage des valeurs manquantes\n",
    "Phd_missing = pd.DataFrame({\"categories\": missing_percent.index, \"percent missing\": missing_percent.values})"
   ]
  },
  {
   "cell_type": "code",
   "execution_count": 23,
   "id": "d7a380ff-89d3-42ac-a288-eea24ca4c1a2",
   "metadata": {},
   "outputs": [
    {
     "data": {
      "image/png": "[encoded data removed]",
      "text/plain": [
       "<Figure size 1800x720 with 2 Axes>"
      ]
     },
     "metadata": {
      "needs_background": "light"
     },
     "output_type": "display_data"
    }
   ],
   "source": [
    "# Représentation graphique des valeurs manquantes par colonne\n",
    "msno.matrix(Phd_v2)\n",
    "plt.show()"
   ]
  },
  {
   "cell_type": "code",
   "execution_count": 24,
   "id": "2430eec2-fdb4-44f5-8b7c-e9f579527412",
   "metadata": {},
   "outputs": [
    {
     "data": {
      "image/png": "[encoded data removed]",
      "text/plain": [
       "<Figure size 1800x720 with 2 Axes>"
      ]
     },
     "metadata": {
      "needs_background": "light"
     },
     "output_type": "display_data"
    }
   ],
   "source": [
    "# Triage des données pour évaluer si les valeurs manquantes sont réparties au hazard\n",
    "Phd_sort = Phd_v2.sort_values(\"Date de soutenance\")\n",
    "msno.matrix(Phd_sort)\n",
    "plt.savefig(\"/home/mertes/Documents/DU_Data_Analyst/graphs/val_manquantes.png\", bbox_inches='tight')\n",
    "plt.show()"
   ]
  },
  {
   "cell_type": "code",
   "execution_count": 25,
   "id": "8238bb42-3740-4fe4-9d48-214cbd6dde1e",
   "metadata": {},
   "outputs": [
    {
     "data": {
      "text/plain": [
       "array([nan, 'fr', 'en', 'ro', 'es', 'de', 'FR', 'zh', 'bs', 'it', 'co',\n",
       "       'fren', 'enfr', 'enzh', 'pt', 'frensl', 'fres', 'zhen', 'esen',\n",
       "       'itfr', 'frel', 'cs', 'frpten', 'hu', 'enfrde', 'esenfr', 'frpl',\n",
       "       'elfr', 'frhu', 'frar', 'itfren', 'frit', 'frzh', 'enfrzh', 'frvi',\n",
       "       'frenes', 'ru', 'defr', 'pl', 'bg', 'frkm', 'kkenfr', 'frcs',\n",
       "       'ptfren', 'el', 'enfreu', 'pten', 'frpt', 'esfr', 'ptfr', 'rufr',\n",
       "       'br', 'cafr', 'sr', 'enru', 'ensl', 'frde', 'frja', 'frla', 'ar',\n",
       "       'ca', 'fraf', 'eu', 'enesfr', 'freu', 'rofr', 'frgrc', 'enpt',\n",
       "       'encsfr', 'he', 'enptfr', 'enit', 'fresen', 'enpl', 'sv', 'eufr',\n",
       "       'enfrpt', 'frbr', 'ukfren', 'frruen', 'arfr', 'hyfrru', 'csfrsk',\n",
       "       'frhe', 'frru', 'brfr', 'akfr', 'zhfr', 'frms', 'enfrpl', 'frmn',\n",
       "       'enfrit', 'envi', 'frro', 'frfy', 'frsl', 'enfres', 'frqu', 'as',\n",
       "       'frln', 'frenpt', 'abfr', 'uk', 'roen', 'plen', 'frenzh',\n",
       "       'frendees', 'enfrcs', 'itzh', 'cofr', 'frtch', 'eufres', 'ja',\n",
       "       'enbo', 'frsa', 'itfrhe', 'froc', 'frkmsa', 'hyfr', 'zhfrit', 'nl',\n",
       "       'nlen', 'csfr', 'enesfrca', 'enar', 'amfr', 'frtr', 'frsakm',\n",
       "       'enarfr', 'itlafr', 'frff', 'itfrla', 'sq', 'entr', 'deenfr',\n",
       "       'itla', 'enro', 'plfr', 'endefr', 'ptenfr', 'enes', 'frka', 'fafr',\n",
       "       'akes', 'frmg', 'elenfr', 'csenfr', 'sqfr', 'zhenfr', 'ee',\n",
       "       'bgenfr', 'frfr', 'enfrsk', 'encs', 'enfrro', 'fris', 'bgfr',\n",
       "       'frgl', 'frko', 'enhu', 'deenfrit', 'azfr', 'fritla', 'enth',\n",
       "       'frth', 'arenfrit', 'frfa', 'frty', 'eo', 'frid', 'frsv', 'aefr',\n",
       "       'csfrla', 'enfrhu', 'zhfrug', 'myfr', 'enfrja', 'deen', 'amarfr',\n",
       "       'aafr', 'frsi', 'enla', 'frlaptes', 'ares', 'arenfr', 'frnv',\n",
       "       'enitfr', 'frplen', 'ad', 'frund', 'enfrvi', 'ab', 'frhi',\n",
       "       'fritlaoc', 'am', 'enfrru', 'frukr', 'hy', 'enzhfr', 'enfrar',\n",
       "       'et', 'id', 'cafres', 'frruuk', 'fi', 'nlenfr'], dtype=object)"
      ]
     },
     "execution_count": 25,
     "metadata": {},
     "output_type": "execute_result"
    }
   ],
   "source": [
    "# Vérification du codage des valeurs manquantes dans les langues de thèse\n",
    "Phd_v2[\"Langue de la these\"].unique()"
   ]
  },
  {
   "cell_type": "code",
   "execution_count": 26,
   "id": "c048ce4d-93b8-42bd-b015-2dd12b8bdc80",
   "metadata": {},
   "outputs": [
    {
     "data": {
      "text/plain": [
       "soutenue    381315\n",
       "enCours      66329\n",
       "Name: Statut, dtype: int64"
      ]
     },
     "execution_count": 26,
     "metadata": {},
     "output_type": "execute_result"
    }
   ],
   "source": [
    "Phd_v2['Statut'].value_counts()"
   ]
  },
  {
   "cell_type": "code",
   "execution_count": 27,
   "id": "9ef538c9-d47f-4212-a247-454a7aa1e28c",
   "metadata": {},
   "outputs": [
    {
     "data": {
      "text/plain": [
       "array(['enCours'], dtype=object)"
      ]
     },
     "execution_count": 27,
     "metadata": {},
     "output_type": "execute_result"
    }
   ],
   "source": [
    "# Affichage des valeurs de la variable Statut lorsque les date de première inscription en doctorat sont fournies\n",
    "Phd_sort[Phd_sort['Date de premiere inscription en doctorat'].notna()][\"Statut\"].unique()"
   ]
  },
  {
   "cell_type": "code",
   "execution_count": 28,
   "id": "7206f487-88bd-4af8-9cb0-c230b1e01b80",
   "metadata": {},
   "outputs": [
    {
     "data": {
      "text/plain": [
       "fr      510\n",
       "en       58\n",
       "fren      5\n",
       "enfr      1\n",
       "Name: Langue de la these, dtype: int64"
      ]
     },
     "execution_count": 28,
     "metadata": {},
     "output_type": "execute_result"
    }
   ],
   "source": [
    "# Affichage des langues de la thèse lorsque les date de première inscription en doctorat sont fournies\n",
    "Phd_sort[Phd_sort['Date de premiere inscription en doctorat'].notna()][\"Langue de la these\"].value_counts()"
   ]
  },
  {
   "cell_type": "code",
   "execution_count": 29,
   "id": "8f7cd414-4552-415d-b92f-6d9e236852b0",
   "metadata": {},
   "outputs": [
    {
     "data": {
      "text/plain": [
       "63402"
      ]
     },
     "execution_count": 29,
     "metadata": {},
     "output_type": "execute_result"
    }
   ],
   "source": [
    "# Nombre de valeurs manquantes pour les langues de thèse lorsque la date de première inscription est fournie\n",
    "Phd_sort[Phd_sort['Date de premiere inscription en doctorat'].notna()][\"Langue de la these\"].isna().sum()"
   ]
  },
  {
   "cell_type": "code",
   "execution_count": 30,
   "id": "aaf42294-36ac-4ebb-875d-cc1771c40628",
   "metadata": {},
   "outputs": [
    {
     "name": "stdout",
     "output_type": "stream",
     "text": [
      "['fr' 'enfr' 'en' 'deenfr' 'frla' 'zhfr' 'brfr' 'fres' 'de' nan 'arfr'\n",
      " 'enfres' 'abfr' 'it' 'enfrpt' 'cafr' 'fris' 'frmg' 'csfrsk' 'frln' 'es'\n",
      " 'frfy' 'frpl' 'frru' 'frko' 'elenfr' 'frpt' 'defr' 'frit' 'enfrit'\n",
      " 'zhenfr' 'frid' 'frja' 'frro' 'ca' 'frhe' 'elfr' 'frff' 'frtr' 'csfr'\n",
      " 'pt' 'eu' 'frruuk' 'akes' 'froc' 'enro' 'frkm' 'csenfr' 'frhu' 'enfrro'\n",
      " 'ro' 'ru' 'hyfrru' 'hu' 'pl' 'enfrpl' 'zh' 'eo' 'ee' 'fafr' 'as' 'enpt'\n",
      " 'hyfr' 'sqfr' 'br' 'frsa' 'id' 'frhi' 'cs' 'eufr' 'bg' 'co' 'enit' 'nl'\n",
      " 'enes' 'itla' 'fi' 'ar' 'frth' 'frvi' 'nlen' 'enhu' 'fritla' 'amfr'\n",
      " 'zhfrit' 'fritlaoc' 'frsi' 'ab' 'enfrhu' 'envi' 'et' 'deenfrit' 'csfrla'\n",
      " 'zhen' 'hy' 'am' 'arenfrit' 'azfr' 'fren' 'frkmsa' 'enpl' 'frqu'\n",
      " 'frlaptes' 'frmn' 'enfrru' 'enfrja' 'cofr' 'frgl' 'enru' 'enfrde' 'frar'\n",
      " 'aafr' 'frka' 'enla' 'aefr' 'sq' 'arenfr' 'bgfr' 'itfr' 'ja' 'ensl'\n",
      " 'enth' 'frsl' 'frms' 'deen' 'nlenfr' 'ukfren' 'frde' 'rufr' 'plen' 'pten'\n",
      " 'frsv' 'ares' 'frnv' 'eufres' 'ptfr' 'frenes' 'esen' 'frzh' 'el' 'enzh'\n",
      " 'enfrcs' 'frruen' 'amarfr' 'ad' 'cafres' 'frpten' 'frensl' 'frel' 'esfr'\n",
      " 'fresen' 'bs' 'frfa' 'enfrsk' 'encs' 'myfr' 'frty' 'rofr' 'uk' 'akfr'\n",
      " 'zhfrug' 'enfrzh' 'enesfr' 'FR' 'kkenfr' 'esenfr' 'frfr' 'fraf' 'frtch'\n",
      " 'itfren' 'he' 'enfrvi' 'frbr' 'frcs' 'plfr' 'itfrhe' 'enfreu' 'frenpt'\n",
      " 'enesfrca' 'sr' 'ptfren' 'roen' 'enitfr' 'frukr' 'itlafr' 'enzhfr' 'freu'\n",
      " 'bgenfr' 'frgrc' 'enarfr' 'itfrla' 'enbo' 'frsakm' 'entr' 'enar' 'enfrar'\n",
      " 'encsfr' 'enptfr' 'ptenfr' 'frendees' 'itzh' 'frplen' 'sv' 'frenzh'\n",
      " 'endefr' 'frund']\n"
     ]
    }
   ],
   "source": [
    "# Affichage des langues de la thèse lorsque les date de première inscription en doctorat ne sont pas fournies\n",
    "print(Phd_sort[Phd_sort['Date de premiere inscription en doctorat'].isna()][\"Langue de la these\"].unique())"
   ]
  },
  {
   "cell_type": "code",
   "execution_count": 31,
   "id": "24b0d771-3735-4f52-842b-6f3dc933a667",
   "metadata": {},
   "outputs": [
    {
     "data": {
      "image/png": "[encoded data removed]",
      "text/plain": [
       "<Figure size 1440x864 with 2 Axes>"
      ]
     },
     "metadata": {
      "needs_background": "light"
     },
     "output_type": "display_data"
    }
   ],
   "source": [
    "# Heatmap des corrélations des valeurs manquantes entre les différentes variables\n",
    "msno.heatmap(Phd_v2)\n",
    "plt.savefig(\"/home/mertes/Documents/DU_Data_Analyst/graphs/heatmap_corr.png\", bbox_inches='tight')\n",
    "plt.show()"
   ]
  },
  {
   "cell_type": "code",
   "execution_count": 32,
   "id": "339d79b2-f8fc-474a-a892-ce9740b9ea34",
   "metadata": {},
   "outputs": [],
   "source": [
    "# Creation d'un dataframe indiquant les valeurs mnanquantes des variables avec leur statut\n",
    "Phd_missing = pd.DataFrame({\"Date de soutenance\": Phd_v2[\"Date de soutenance\"].isna(), \n",
    "                            \"Date de premiere inscription en doctorat\": Phd_v2[\"Date de premiere inscription en doctorat\"].isna(),\n",
    "                            \"Langue de la these\": Phd_v2[\"Langue de la these\"].isna(),\n",
    "                            \"Statut\": Phd_v2[\"Statut\"]})"
   ]
  },
  {
   "cell_type": "code",
   "execution_count": 33,
   "id": "1a7e73af-a77a-494e-a843-ea96146c5a89",
   "metadata": {},
   "outputs": [
    {
     "data": {
      "text/html": [
       "<div>\n",
       "<style scoped>\n",
       "    .dataframe tbody tr th:only-of-type {\n",
       "        vertical-align: middle;\n",
       "    }\n",
       "\n",
       "    .dataframe tbody tr th {\n",
       "        vertical-align: top;\n",
       "    }\n",
       "\n",
       "    .dataframe thead th {\n",
       "        text-align: right;\n",
       "    }\n",
       "</style>\n",
       "<table border=\"1\" class=\"dataframe\">\n",
       "  <thead>\n",
       "    <tr style=\"text-align: right;\">\n",
       "      <th></th>\n",
       "      <th>Date de soutenance</th>\n",
       "      <th>Date de premiere inscription en doctorat</th>\n",
       "      <th>Langue de la these</th>\n",
       "    </tr>\n",
       "    <tr>\n",
       "      <th>Statut</th>\n",
       "      <th></th>\n",
       "      <th></th>\n",
       "      <th></th>\n",
       "    </tr>\n",
       "  </thead>\n",
       "  <tbody>\n",
       "    <tr>\n",
       "      <th>enCours</th>\n",
       "      <td>56627</td>\n",
       "      <td>2353</td>\n",
       "      <td>63639</td>\n",
       "    </tr>\n",
       "    <tr>\n",
       "      <th>soutenue</th>\n",
       "      <td>119</td>\n",
       "      <td>381315</td>\n",
       "      <td>126</td>\n",
       "    </tr>\n",
       "  </tbody>\n",
       "</table>\n",
       "</div>"
      ],
      "text/plain": [
       "          Date de soutenance  Date de premiere inscription en doctorat  \\\n",
       "Statut                                                                   \n",
       "enCours                56627                                      2353   \n",
       "soutenue                 119                                    381315   \n",
       "\n",
       "          Langue de la these  \n",
       "Statut                        \n",
       "enCours                63639  \n",
       "soutenue                 126  "
      ]
     },
     "execution_count": 33,
     "metadata": {},
     "output_type": "execute_result"
    }
   ],
   "source": [
    "# Nombre de valeurs manquantes par variables selon leur statut\n",
    "Phd_missing.groupby(by=\"Statut\").sum()"
   ]
  },
  {
   "cell_type": "code",
   "execution_count": 34,
   "id": "797553aa-8f59-4a07-bd03-97118fe3aca7",
   "metadata": {},
   "outputs": [],
   "source": [
    "# Pourcentage de valeurs manquantes selon le statut pour certaines variables significatives\n",
    "def percent(values):\n",
    "    result = values.mean() * 100\n",
    "    return result\n",
    "\n",
    "Phd_percent_missing = pd.pivot_table(Phd_missing, values=[\"Date de soutenance\", \"Date de premiere inscription en doctorat\", \"Langue de la these\"], index=\"Statut\", aggfunc=percent)"
   ]
  },
  {
   "cell_type": "code",
   "execution_count": 35,
   "id": "554ffac8-1768-4170-ae7a-c8331905812c",
   "metadata": {},
   "outputs": [
    {
     "data": {
      "text/html": [
       "<div>\n",
       "<style scoped>\n",
       "    .dataframe tbody tr th:only-of-type {\n",
       "        vertical-align: middle;\n",
       "    }\n",
       "\n",
       "    .dataframe tbody tr th {\n",
       "        vertical-align: top;\n",
       "    }\n",
       "\n",
       "    .dataframe thead th {\n",
       "        text-align: right;\n",
       "    }\n",
       "</style>\n",
       "<table border=\"1\" class=\"dataframe\">\n",
       "  <thead>\n",
       "    <tr style=\"text-align: right;\">\n",
       "      <th></th>\n",
       "      <th>Date de premiere inscription en doctorat</th>\n",
       "      <th>Date de soutenance</th>\n",
       "      <th>Langue de la these</th>\n",
       "    </tr>\n",
       "    <tr>\n",
       "      <th>Statut</th>\n",
       "      <th></th>\n",
       "      <th></th>\n",
       "      <th></th>\n",
       "    </tr>\n",
       "  </thead>\n",
       "  <tbody>\n",
       "    <tr>\n",
       "      <th>enCours</th>\n",
       "      <td>3.547468</td>\n",
       "      <td>85.372914</td>\n",
       "      <td>95.944459</td>\n",
       "    </tr>\n",
       "    <tr>\n",
       "      <th>soutenue</th>\n",
       "      <td>100.000000</td>\n",
       "      <td>0.031208</td>\n",
       "      <td>0.033044</td>\n",
       "    </tr>\n",
       "  </tbody>\n",
       "</table>\n",
       "</div>"
      ],
      "text/plain": [
       "          Date de premiere inscription en doctorat  Date de soutenance  \\\n",
       "Statut                                                                   \n",
       "enCours                                   3.547468           85.372914   \n",
       "soutenue                                100.000000            0.031208   \n",
       "\n",
       "          Langue de la these  \n",
       "Statut                        \n",
       "enCours            95.944459  \n",
       "soutenue            0.033044  "
      ]
     },
     "execution_count": 35,
     "metadata": {},
     "output_type": "execute_result"
    }
   ],
   "source": [
    "Phd_percent_missing"
   ]
  },
  {
   "cell_type": "code",
   "execution_count": 36,
   "id": "3bf8479d-82e6-4b91-b4b7-3a361b05acc9",
   "metadata": {},
   "outputs": [],
   "source": [
    "# Inversion des lignes et des colonnes\n",
    "Phd_percent_missing = Phd_percent_missing.transpose()"
   ]
  },
  {
   "cell_type": "code",
   "execution_count": 37,
   "id": "bc10944e-b9b2-47f4-b9d4-85594ae1e30a",
   "metadata": {},
   "outputs": [
    {
     "data": {
      "text/html": [
       "<div>\n",
       "<style scoped>\n",
       "    .dataframe tbody tr th:only-of-type {\n",
       "        vertical-align: middle;\n",
       "    }\n",
       "\n",
       "    .dataframe tbody tr th {\n",
       "        vertical-align: top;\n",
       "    }\n",
       "\n",
       "    .dataframe thead th {\n",
       "        text-align: right;\n",
       "    }\n",
       "</style>\n",
       "<table border=\"1\" class=\"dataframe\">\n",
       "  <thead>\n",
       "    <tr style=\"text-align: right;\">\n",
       "      <th>Statut</th>\n",
       "      <th>enCours</th>\n",
       "      <th>soutenue</th>\n",
       "    </tr>\n",
       "  </thead>\n",
       "  <tbody>\n",
       "    <tr>\n",
       "      <th>Date de premiere inscription en doctorat</th>\n",
       "      <td>3.547468</td>\n",
       "      <td>100.000000</td>\n",
       "    </tr>\n",
       "    <tr>\n",
       "      <th>Date de soutenance</th>\n",
       "      <td>85.372914</td>\n",
       "      <td>0.031208</td>\n",
       "    </tr>\n",
       "    <tr>\n",
       "      <th>Langue de la these</th>\n",
       "      <td>95.944459</td>\n",
       "      <td>0.033044</td>\n",
       "    </tr>\n",
       "  </tbody>\n",
       "</table>\n",
       "</div>"
      ],
      "text/plain": [
       "Statut                                      enCours    soutenue\n",
       "Date de premiere inscription en doctorat   3.547468  100.000000\n",
       "Date de soutenance                        85.372914    0.031208\n",
       "Langue de la these                        95.944459    0.033044"
      ]
     },
     "execution_count": 37,
     "metadata": {},
     "output_type": "execute_result"
    }
   ],
   "source": [
    "Phd_percent_missing"
   ]
  },
  {
   "cell_type": "code",
   "execution_count": 38,
   "id": "bf1b472e-8652-4c23-a316-4393c5942582",
   "metadata": {},
   "outputs": [
    {
     "data": {
      "image/png": "[encoded data removed]",
      "text/plain": [
       "<Figure size 432x288 with 2 Axes>"
      ]
     },
     "metadata": {
      "needs_background": "light"
     },
     "output_type": "display_data"
    }
   ],
   "source": [
    "# Heatmap du pourcentage de valeurs manquantes de certaines variables selon le statut de la thèse\n",
    "sns.heatmap(Phd_percent_missing, cmap=\"Blues\", annot=True, fmt=\".1f\", xticklabels=[\"En cours\", \"Soutenue\"])\n",
    "plt.title(\"Pourcentage de valeurs manquantes\")\n",
    "plt.savefig(\"/home/mertes/Documents/DU_Data_Analyst/graphs/heatmap.png\", bbox_inches='tight')\n",
    "plt.show()"
   ]
  },
  {
   "cell_type": "markdown",
   "id": "616fa55b-0a4d-448f-a80b-501347653b22",
   "metadata": {},
   "source": [
    "Le référencement numérique des thèses se fait depuis 1985 depuis le catalogue national historique Sudoc et dans le système STAR pour les thèses soutenues.\n",
    "Les établissements ont une obligation légale de référencement des thèses produites.\n",
    "Le système STEP archivant les thèses en préparation, depuis 1970, ne constitue pas une obligation légale de référencement par les établissements.\n",
    "Seuls Sudoc et STAR doivent obigatoirement être utilsés pour référencer les thèses produites.\n",
    "Il est donc plausible que les établissements ne réferencent que les thèses produites ou soutenues puisque cela est une obligation légale.\n",
    "Par conséquent, il est normal que la majorité des dates des thèses en préparation soient manquantes, contrairement aux thèse soutenues, puisque pour ces dernières c'est une obligation légale de les référencer."
   ]
  },
  {
   "cell_type": "code",
   "execution_count": 39,
   "id": "9ced7545-15d8-44e0-ab8b-3a678a325311",
   "metadata": {},
   "outputs": [],
   "source": [
    "# Nombre de theses par année\n",
    "dates_soutenance = Phd_v2.loc[Phd_v2[\"Statut\"] == \"soutenue\", \"Date de soutenance\"].sort_values().value_counts()\n",
    "nb_theses_year = dates_soutenance.groupby(by=dates_soutenance.index.year).sum()"
   ]
  },
  {
   "cell_type": "code",
   "execution_count": 40,
   "id": "699f9215-78ac-4177-a1c9-2b3e68debb66",
   "metadata": {},
   "outputs": [
    {
     "data": {
      "text/plain": [
       "1973        1\n",
       "1976        1\n",
       "1979        1\n",
       "1980        1\n",
       "1982        1\n",
       "1984        6\n",
       "1985     3007\n",
       "1986     5162\n",
       "1987     8439\n",
       "1988    11045\n",
       "Name: Date de soutenance, dtype: int64"
      ]
     },
     "execution_count": 40,
     "metadata": {},
     "output_type": "execute_result"
    }
   ],
   "source": [
    "nb_theses_year.head(10)"
   ]
  },
  {
   "cell_type": "code",
   "execution_count": 41,
   "id": "c8d1c77d-0049-41fd-b397-81c732d819b9",
   "metadata": {},
   "outputs": [
    {
     "data": {
      "image/png": "[encoded data removed]",
      "text/plain": [
       "<Figure size 720x360 with 1 Axes>"
      ]
     },
     "metadata": {
      "needs_background": "light"
     },
     "output_type": "display_data"
    }
   ],
   "source": [
    "# Production de thèses sur la période 1984-2020\n",
    "nb_theses_year = nb_theses_year.loc[\"1984\":\"2020\"]\n",
    "\n",
    "fig, ax = plt.subplots(figsize=(10,5))\n",
    "ax.plot(nb_theses_year.index, nb_theses_year.values)\n",
    "ax.xaxis.set_major_locator(plt.MaxNLocator(20)) # nombre de divisions sur l'axe x pour augmenter la précision\n",
    "#plt.title(\"Production de thèses\")\n",
    "plt.xlabel(\"Année\")\n",
    "plt.ylabel(\"Nombre de thèses\")\n",
    "plt.grid(True)\n",
    "plt.savefig(\"/home/mertes/Documents/DU_Data_Analyst/graphs/production_theses.png\")\n",
    "plt.show()"
   ]
  },
  {
   "cell_type": "markdown",
   "id": "427e1e79-87b6-4edb-a3d5-bef85cb683fa",
   "metadata": {},
   "source": [
    "La production de thèses a commencé à chuter en 2018."
   ]
  },
  {
   "cell_type": "code",
   "execution_count": 42,
   "id": "928d6f6a-6b6c-412f-ba4c-1f603a260c2a",
   "metadata": {},
   "outputs": [],
   "source": [
    "# Distribution des soutenances pour chaque mois sur toute la période\n",
    "d_theses = pd.DataFrame({\"date\": Phd_v2[Phd_v2[\"Statut\"] == \"soutenue\"][\"Date de soutenance\"]}).dropna()\n",
    "dates_year_month = pd.DataFrame({\"annee\": d_theses[\"date\"].dt.year, \n",
    "                                 \"mois\": d_theses[\"date\"].dt.month, \n",
    "                                 \"jour\": d_theses[\"date\"].dt.day})\n",
    "dist_year_month = dates_year_month.groupby([\"annee\", \"mois\"], as_index=False)[\"annee\"].value_counts()"
   ]
  },
  {
   "cell_type": "code",
   "execution_count": 43,
   "id": "6e3fca3a-74b9-4184-a478-93f43a95ce71",
   "metadata": {},
   "outputs": [
    {
     "data": {
      "text/html": [
       "<div>\n",
       "<style scoped>\n",
       "    .dataframe tbody tr th:only-of-type {\n",
       "        vertical-align: middle;\n",
       "    }\n",
       "\n",
       "    .dataframe tbody tr th {\n",
       "        vertical-align: top;\n",
       "    }\n",
       "\n",
       "    .dataframe thead th {\n",
       "        text-align: right;\n",
       "    }\n",
       "</style>\n",
       "<table border=\"1\" class=\"dataframe\">\n",
       "  <thead>\n",
       "    <tr style=\"text-align: right;\">\n",
       "      <th></th>\n",
       "      <th>annee</th>\n",
       "      <th>mois</th>\n",
       "      <th>count</th>\n",
       "    </tr>\n",
       "  </thead>\n",
       "  <tbody>\n",
       "    <tr>\n",
       "      <th>0</th>\n",
       "      <td>1973</td>\n",
       "      <td>1</td>\n",
       "      <td>1</td>\n",
       "    </tr>\n",
       "    <tr>\n",
       "      <th>1</th>\n",
       "      <td>1976</td>\n",
       "      <td>1</td>\n",
       "      <td>1</td>\n",
       "    </tr>\n",
       "    <tr>\n",
       "      <th>2</th>\n",
       "      <td>1979</td>\n",
       "      <td>1</td>\n",
       "      <td>1</td>\n",
       "    </tr>\n",
       "    <tr>\n",
       "      <th>3</th>\n",
       "      <td>1980</td>\n",
       "      <td>1</td>\n",
       "      <td>1</td>\n",
       "    </tr>\n",
       "    <tr>\n",
       "      <th>4</th>\n",
       "      <td>1982</td>\n",
       "      <td>1</td>\n",
       "      <td>1</td>\n",
       "    </tr>\n",
       "    <tr>\n",
       "      <th>5</th>\n",
       "      <td>1984</td>\n",
       "      <td>1</td>\n",
       "      <td>6</td>\n",
       "    </tr>\n",
       "    <tr>\n",
       "      <th>6</th>\n",
       "      <td>1985</td>\n",
       "      <td>1</td>\n",
       "      <td>3007</td>\n",
       "    </tr>\n",
       "    <tr>\n",
       "      <th>7</th>\n",
       "      <td>1986</td>\n",
       "      <td>1</td>\n",
       "      <td>5162</td>\n",
       "    </tr>\n",
       "    <tr>\n",
       "      <th>8</th>\n",
       "      <td>1987</td>\n",
       "      <td>1</td>\n",
       "      <td>8439</td>\n",
       "    </tr>\n",
       "    <tr>\n",
       "      <th>9</th>\n",
       "      <td>1988</td>\n",
       "      <td>1</td>\n",
       "      <td>11045</td>\n",
       "    </tr>\n",
       "  </tbody>\n",
       "</table>\n",
       "</div>"
      ],
      "text/plain": [
       "   annee  mois  count\n",
       "0   1973     1      1\n",
       "1   1976     1      1\n",
       "2   1979     1      1\n",
       "3   1980     1      1\n",
       "4   1982     1      1\n",
       "5   1984     1      6\n",
       "6   1985     1   3007\n",
       "7   1986     1   5162\n",
       "8   1987     1   8439\n",
       "9   1988     1  11045"
      ]
     },
     "execution_count": 43,
     "metadata": {},
     "output_type": "execute_result"
    }
   ],
   "source": [
    "dist_year_month.head(10)"
   ]
  },
  {
   "cell_type": "code",
   "execution_count": 44,
   "id": "1cb1a96a-90d8-4842-b126-363e20926d07",
   "metadata": {},
   "outputs": [],
   "source": [
    "# Distribution du nombre de thèses pour chaque mois sur toute la période de 1984 à 2018\n",
    "full_dist = dist_year_month.groupby(by=\"mois\")[\"count\"].agg([\"sum\"]).reset_index()"
   ]
  },
  {
   "cell_type": "code",
   "execution_count": 45,
   "id": "91a7d3ea-8c9a-4876-a937-0dd5a72f10ba",
   "metadata": {},
   "outputs": [],
   "source": [
    "# Conversion des mois \n",
    "months = [\"Jan\", \"Fev\", \"Mar\", \"Avr\", \"Mai\", \"Jui\", \"juil\", \"Aout\", \"Sept\", \"Oct\", \"Nov\", \"Dec\"]"
   ]
  },
  {
   "cell_type": "code",
   "execution_count": 46,
   "id": "e46a5ba3-a94c-4f82-b7bd-5a5bd6e3bda1",
   "metadata": {
    "tags": []
   },
   "outputs": [
    {
     "data": {
      "image/png": "[encoded data removed]",
      "text/plain": [
       "<Figure size 432x288 with 1 Axes>"
      ]
     },
     "metadata": {
      "needs_background": "light"
     },
     "output_type": "display_data"
    }
   ],
   "source": [
    "# Distribution du mois de soutenance sur la période de 1984 à 2018\n",
    "sns.barplot(data=full_dist ,x=\"mois\", y=\"sum\").set_xticklabels(months)\n",
    "#plt.title(\"Distribution du nombre de soutenances (1984 à 2018)\")\n",
    "plt.xlabel(\"Mois de soutenance\")\n",
    "plt.ylabel(\"Nombre de soutenances\")\n",
    "plt.savefig(\"/home/mertes/Documents/DU_Data_Analyst/graphs/distrib_mois.png\", bbox_inches='tight')\n",
    "plt.show()"
   ]
  },
  {
   "cell_type": "code",
   "execution_count": 47,
   "id": "6d8e07c5-20dd-4b62-a883-2c3e3bed6634",
   "metadata": {
    "tags": []
   },
   "outputs": [],
   "source": [
    "# Calcul du nombre de thèses soutenues par mois de chaque année sur toute la période\n",
    "theses_month = dist_year_month.groupby([\"annee\", \"mois\"])[\"count\"].agg([\"sum\"]).reset_index()\n",
    "\n",
    "# Calcul du nombre total de thèses pour chaque année sur toute la période\n",
    "theses_year = theses_month.groupby(\"annee\")[\"sum\"].sum().reset_index()\n",
    "\n",
    "# Fusion du nombre total de thèses de chaque année avec le nombre de thèses par mois pour chaque année\n",
    "total_theses = theses_month.merge(theses_year, on=\"annee\", how=\"inner\", suffixes=[\"_mois\", \"_annee\"]).set_index([\"annee\", \"mois\"])"
   ]
  },
  {
   "cell_type": "code",
   "execution_count": 48,
   "id": "14263379-5f2a-4c50-9626-5a0f5820436e",
   "metadata": {},
   "outputs": [
    {
     "data": {
      "text/html": [
       "<div>\n",
       "<style scoped>\n",
       "    .dataframe tbody tr th:only-of-type {\n",
       "        vertical-align: middle;\n",
       "    }\n",
       "\n",
       "    .dataframe tbody tr th {\n",
       "        vertical-align: top;\n",
       "    }\n",
       "\n",
       "    .dataframe thead th {\n",
       "        text-align: right;\n",
       "    }\n",
       "</style>\n",
       "<table border=\"1\" class=\"dataframe\">\n",
       "  <thead>\n",
       "    <tr style=\"text-align: right;\">\n",
       "      <th></th>\n",
       "      <th></th>\n",
       "      <th>sum_mois</th>\n",
       "      <th>sum_annee</th>\n",
       "    </tr>\n",
       "    <tr>\n",
       "      <th>annee</th>\n",
       "      <th>mois</th>\n",
       "      <th></th>\n",
       "      <th></th>\n",
       "    </tr>\n",
       "  </thead>\n",
       "  <tbody>\n",
       "    <tr>\n",
       "      <th>1973</th>\n",
       "      <th>1</th>\n",
       "      <td>1</td>\n",
       "      <td>1</td>\n",
       "    </tr>\n",
       "    <tr>\n",
       "      <th>1976</th>\n",
       "      <th>1</th>\n",
       "      <td>1</td>\n",
       "      <td>1</td>\n",
       "    </tr>\n",
       "    <tr>\n",
       "      <th>1979</th>\n",
       "      <th>1</th>\n",
       "      <td>1</td>\n",
       "      <td>1</td>\n",
       "    </tr>\n",
       "    <tr>\n",
       "      <th>1980</th>\n",
       "      <th>1</th>\n",
       "      <td>1</td>\n",
       "      <td>1</td>\n",
       "    </tr>\n",
       "    <tr>\n",
       "      <th>1982</th>\n",
       "      <th>1</th>\n",
       "      <td>1</td>\n",
       "      <td>1</td>\n",
       "    </tr>\n",
       "  </tbody>\n",
       "</table>\n",
       "</div>"
      ],
      "text/plain": [
       "            sum_mois  sum_annee\n",
       "annee mois                     \n",
       "1973  1            1          1\n",
       "1976  1            1          1\n",
       "1979  1            1          1\n",
       "1980  1            1          1\n",
       "1982  1            1          1"
      ]
     },
     "execution_count": 48,
     "metadata": {},
     "output_type": "execute_result"
    }
   ],
   "source": [
    "total_theses.head()"
   ]
  },
  {
   "cell_type": "code",
   "execution_count": 49,
   "id": "eb1d778c-8eae-4f88-9850-c1ab97950160",
   "metadata": {},
   "outputs": [],
   "source": [
    "# Calcul du pourcentage de theses par mois sur une année sur toute la période\n",
    "total_theses[\"pourcentage\"] = total_theses[\"sum_mois\"] / total_theses[\"sum_annee\"] * 100\n",
    "proportion_2005_2018 = total_theses[\"2005\":\"2018\"].reset_index()"
   ]
  },
  {
   "cell_type": "code",
   "execution_count": 50,
   "id": "dc32052c-9d18-49f0-af80-312e10d14ef0",
   "metadata": {
    "tags": []
   },
   "outputs": [
    {
     "data": {
      "image/png": "[encoded data removed]",
      "text/plain": [
       "<Figure size 972x1080 with 14 Axes>"
      ]
     },
     "metadata": {
      "needs_background": "light"
     },
     "output_type": "display_data"
    }
   ],
   "source": [
    "# Graphiques de la proportion du nombre de soutenances par mois pour chaque annee entre 2005 et 2018 \n",
    "grid = sns.FacetGrid(proportion_2005_2018, col=\"annee\", col_wrap=3, aspect=1.5, height=3)\n",
    "grid.map(sns.barplot, \"mois\", \"pourcentage\", order=range(1,13))\n",
    "grid.set_xticklabels(months)\n",
    "grid.set_ylabels(\"pourcentage de thèses\")\n",
    "plt.savefig(\"/home/mertes/Documents/DU_Data_Analyst/graphs/facet_grid.png\", bbox_inches='tight')\n",
    "plt.show()"
   ]
  },
  {
   "cell_type": "code",
   "execution_count": 51,
   "id": "fb552bd9-092c-45f3-b7c2-3a7983680b08",
   "metadata": {},
   "outputs": [],
   "source": [
    "# Calcul de la somme des thèses soutenues par mois et de l'écart type pour toute la période de 2005 à 2018\n",
    "total_theses_month = total_theses[\"2005\":\"2018\"].groupby(\"mois\")[\"sum_mois\"].agg([\"sum\", \"std\"])\n",
    "\n",
    "# Calcul du nombre total de theses soutenues sur toute la période de 2005 à 2018\n",
    "total_theses = theses_year[\"sum\"].sum()"
   ]
  },
  {
   "cell_type": "code",
   "execution_count": 52,
   "id": "3a1c1116-e958-4524-b653-5acd543975a8",
   "metadata": {},
   "outputs": [],
   "source": [
    "# calcul du pourcentage de theses soutenues par mois sur toute la période de 2005 à 2018\n",
    "total_theses_month[\"percent_theses\"] = total_theses_month[\"sum\"] / total_theses * 100\n",
    "\n",
    "# calcul du pourcentage de l'écart à la moyenne du nombre de thèses par mois sur toute la période de 2005 à 2018\n",
    "total_theses_month[\"percent_std\"] = total_theses_month[\"std\"] / total_theses * 100"
   ]
  },
  {
   "cell_type": "code",
   "execution_count": 53,
   "id": "1b4f2a5d-6221-41dc-ac30-e7110e88bb30",
   "metadata": {},
   "outputs": [
    {
     "data": {
      "text/html": [
       "<div>\n",
       "<style scoped>\n",
       "    .dataframe tbody tr th:only-of-type {\n",
       "        vertical-align: middle;\n",
       "    }\n",
       "\n",
       "    .dataframe tbody tr th {\n",
       "        vertical-align: top;\n",
       "    }\n",
       "\n",
       "    .dataframe thead th {\n",
       "        text-align: right;\n",
       "    }\n",
       "</style>\n",
       "<table border=\"1\" class=\"dataframe\">\n",
       "  <thead>\n",
       "    <tr style=\"text-align: right;\">\n",
       "      <th></th>\n",
       "      <th>sum</th>\n",
       "      <th>std</th>\n",
       "      <th>percent_theses</th>\n",
       "      <th>percent_std</th>\n",
       "    </tr>\n",
       "    <tr>\n",
       "      <th>mois</th>\n",
       "      <th></th>\n",
       "      <th></th>\n",
       "      <th></th>\n",
       "      <th></th>\n",
       "    </tr>\n",
       "  </thead>\n",
       "  <tbody>\n",
       "    <tr>\n",
       "      <th>1</th>\n",
       "      <td>83220</td>\n",
       "      <td>4204.121374</td>\n",
       "      <td>21.831289</td>\n",
       "      <td>1.102877</td>\n",
       "    </tr>\n",
       "    <tr>\n",
       "      <th>2</th>\n",
       "      <td>4151</td>\n",
       "      <td>209.651858</td>\n",
       "      <td>1.088941</td>\n",
       "      <td>0.054998</td>\n",
       "    </tr>\n",
       "    <tr>\n",
       "      <th>3</th>\n",
       "      <td>5684</td>\n",
       "      <td>306.775204</td>\n",
       "      <td>1.491096</td>\n",
       "      <td>0.080477</td>\n",
       "    </tr>\n",
       "    <tr>\n",
       "      <th>4</th>\n",
       "      <td>4583</td>\n",
       "      <td>244.345935</td>\n",
       "      <td>1.202269</td>\n",
       "      <td>0.064100</td>\n",
       "    </tr>\n",
       "    <tr>\n",
       "      <th>5</th>\n",
       "      <td>5745</td>\n",
       "      <td>318.217552</td>\n",
       "      <td>1.507099</td>\n",
       "      <td>0.083479</td>\n",
       "    </tr>\n",
       "  </tbody>\n",
       "</table>\n",
       "</div>"
      ],
      "text/plain": [
       "        sum          std  percent_theses  percent_std\n",
       "mois                                                 \n",
       "1     83220  4204.121374       21.831289     1.102877\n",
       "2      4151   209.651858        1.088941     0.054998\n",
       "3      5684   306.775204        1.491096     0.080477\n",
       "4      4583   244.345935        1.202269     0.064100\n",
       "5      5745   318.217552        1.507099     0.083479"
      ]
     },
     "execution_count": 53,
     "metadata": {},
     "output_type": "execute_result"
    }
   ],
   "source": [
    "total_theses_month.head()"
   ]
  },
  {
   "cell_type": "code",
   "execution_count": 54,
   "id": "ec5e33a1-f60e-46c5-b252-cb7e668a2cf1",
   "metadata": {},
   "outputs": [
    {
     "data": {
      "image/png": "[encoded data removed]",
      "text/plain": [
       "<Figure size 432x288 with 1 Axes>"
      ]
     },
     "metadata": {
      "needs_background": "light"
     },
     "output_type": "display_data"
    }
   ],
   "source": [
    "# Proportion du nombre de thèses par mois sur toute la période de 2005 à 2018 \n",
    "sns.barplot(data=total_theses_month.reset_index(), x=\"mois\", y=\"percent_theses\", yerr=total_theses_month[\"percent_std\"]).set_xticklabels(months)\n",
    "#plt.title(\"Proportion des thèses (2005 à 2018)\")\n",
    "plt.xlabel(\"mois\")\n",
    "plt.ylabel(\"poucentage des soutenances\")\n",
    "plt.savefig(\"/home/mertes/Documents/DU_Data_Analyst/graphs/proportion_theses.png\")\n",
    "plt.show()"
   ]
  },
  {
   "cell_type": "code",
   "execution_count": 55,
   "id": "696df3b8-78a2-418a-ac2c-465195016c16",
   "metadata": {},
   "outputs": [],
   "source": [
    "# Nombre de soutenances journalier par mois pour toute la période entre 2005-2018\n",
    "df = dates_year_month[(dates_year_month[\"annee\"] >= 2005) & (dates_year_month[\"annee\"] <= 2018)].groupby([\"mois\", \"jour\"], as_index=False).count()"
   ]
  },
  {
   "cell_type": "code",
   "execution_count": 56,
   "id": "88a58a8b-c0a1-40d2-8abc-313d551e6f45",
   "metadata": {},
   "outputs": [],
   "source": [
    "# Calcul du pourcentage de thèses par jour dans le mois.\n",
    "df[\"pourcent\"] = round(df[\"annee\"] / total_theses * 100, 2)"
   ]
  },
  {
   "cell_type": "code",
   "execution_count": 57,
   "id": "af6a950a-df6d-4cc1-8595-e2bb19bd650f",
   "metadata": {},
   "outputs": [
    {
     "data": {
      "text/html": [
       "<div>\n",
       "<style scoped>\n",
       "    .dataframe tbody tr th:only-of-type {\n",
       "        vertical-align: middle;\n",
       "    }\n",
       "\n",
       "    .dataframe tbody tr th {\n",
       "        vertical-align: top;\n",
       "    }\n",
       "\n",
       "    .dataframe thead th {\n",
       "        text-align: right;\n",
       "    }\n",
       "</style>\n",
       "<table border=\"1\" class=\"dataframe\">\n",
       "  <thead>\n",
       "    <tr style=\"text-align: right;\">\n",
       "      <th></th>\n",
       "      <th>mois</th>\n",
       "      <th>jour</th>\n",
       "      <th>annee</th>\n",
       "      <th>pourcent</th>\n",
       "    </tr>\n",
       "  </thead>\n",
       "  <tbody>\n",
       "    <tr>\n",
       "      <th>0</th>\n",
       "      <td>1</td>\n",
       "      <td>1</td>\n",
       "      <td>77809</td>\n",
       "      <td>20.41</td>\n",
       "    </tr>\n",
       "    <tr>\n",
       "      <th>1</th>\n",
       "      <td>1</td>\n",
       "      <td>2</td>\n",
       "      <td>128</td>\n",
       "      <td>0.03</td>\n",
       "    </tr>\n",
       "    <tr>\n",
       "      <th>2</th>\n",
       "      <td>1</td>\n",
       "      <td>3</td>\n",
       "      <td>62</td>\n",
       "      <td>0.02</td>\n",
       "    </tr>\n",
       "    <tr>\n",
       "      <th>3</th>\n",
       "      <td>1</td>\n",
       "      <td>4</td>\n",
       "      <td>108</td>\n",
       "      <td>0.03</td>\n",
       "    </tr>\n",
       "    <tr>\n",
       "      <th>4</th>\n",
       "      <td>1</td>\n",
       "      <td>5</td>\n",
       "      <td>5</td>\n",
       "      <td>0.00</td>\n",
       "    </tr>\n",
       "    <tr>\n",
       "      <th>...</th>\n",
       "      <td>...</td>\n",
       "      <td>...</td>\n",
       "      <td>...</td>\n",
       "      <td>...</td>\n",
       "    </tr>\n",
       "    <tr>\n",
       "      <th>358</th>\n",
       "      <td>12</td>\n",
       "      <td>27</td>\n",
       "      <td>8</td>\n",
       "      <td>0.00</td>\n",
       "    </tr>\n",
       "    <tr>\n",
       "      <th>359</th>\n",
       "      <td>12</td>\n",
       "      <td>28</td>\n",
       "      <td>8</td>\n",
       "      <td>0.00</td>\n",
       "    </tr>\n",
       "    <tr>\n",
       "      <th>360</th>\n",
       "      <td>12</td>\n",
       "      <td>29</td>\n",
       "      <td>5</td>\n",
       "      <td>0.00</td>\n",
       "    </tr>\n",
       "    <tr>\n",
       "      <th>361</th>\n",
       "      <td>12</td>\n",
       "      <td>30</td>\n",
       "      <td>2</td>\n",
       "      <td>0.00</td>\n",
       "    </tr>\n",
       "    <tr>\n",
       "      <th>362</th>\n",
       "      <td>12</td>\n",
       "      <td>31</td>\n",
       "      <td>2</td>\n",
       "      <td>0.00</td>\n",
       "    </tr>\n",
       "  </tbody>\n",
       "</table>\n",
       "<p>363 rows × 4 columns</p>\n",
       "</div>"
      ],
      "text/plain": [
       "     mois  jour  annee  pourcent\n",
       "0       1     1  77809     20.41\n",
       "1       1     2    128      0.03\n",
       "2       1     3     62      0.02\n",
       "3       1     4    108      0.03\n",
       "4       1     5      5      0.00\n",
       "..    ...   ...    ...       ...\n",
       "358    12    27      8      0.00\n",
       "359    12    28      8      0.00\n",
       "360    12    29      5      0.00\n",
       "361    12    30      2      0.00\n",
       "362    12    31      2      0.00\n",
       "\n",
       "[363 rows x 4 columns]"
      ]
     },
     "execution_count": 57,
     "metadata": {},
     "output_type": "execute_result"
    }
   ],
   "source": [
    "df"
   ]
  },
  {
   "cell_type": "code",
   "execution_count": 58,
   "id": "bebd5657-f4e5-4a47-a4fd-24386bb37ca5",
   "metadata": {},
   "outputs": [],
   "source": [
    "# Proportion des soutenances du mois de janvier pour chaque année sur la période de 2005 à 2018\n",
    "proportion_janvier = proportion_2005_2018[proportion_2005_2018[\"mois\"] == 1]"
   ]
  },
  {
   "cell_type": "code",
   "execution_count": 59,
   "id": "b01ee456-71df-4067-88a6-a6288212f502",
   "metadata": {},
   "outputs": [
    {
     "data": {
      "text/html": [
       "<div>\n",
       "<style scoped>\n",
       "    .dataframe tbody tr th:only-of-type {\n",
       "        vertical-align: middle;\n",
       "    }\n",
       "\n",
       "    .dataframe tbody tr th {\n",
       "        vertical-align: top;\n",
       "    }\n",
       "\n",
       "    .dataframe thead th {\n",
       "        text-align: right;\n",
       "    }\n",
       "</style>\n",
       "<table border=\"1\" class=\"dataframe\">\n",
       "  <thead>\n",
       "    <tr style=\"text-align: right;\">\n",
       "      <th></th>\n",
       "      <th>annee</th>\n",
       "      <th>mois</th>\n",
       "      <th>sum_mois</th>\n",
       "      <th>sum_annee</th>\n",
       "      <th>pourcentage</th>\n",
       "    </tr>\n",
       "  </thead>\n",
       "  <tbody>\n",
       "    <tr>\n",
       "      <th>0</th>\n",
       "      <td>2005</td>\n",
       "      <td>1</td>\n",
       "      <td>10522</td>\n",
       "      <td>10522</td>\n",
       "      <td>100.000000</td>\n",
       "    </tr>\n",
       "    <tr>\n",
       "      <th>1</th>\n",
       "      <td>2006</td>\n",
       "      <td>1</td>\n",
       "      <td>10887</td>\n",
       "      <td>10932</td>\n",
       "      <td>99.588364</td>\n",
       "    </tr>\n",
       "    <tr>\n",
       "      <th>12</th>\n",
       "      <td>2007</td>\n",
       "      <td>1</td>\n",
       "      <td>11351</td>\n",
       "      <td>11620</td>\n",
       "      <td>97.685026</td>\n",
       "    </tr>\n",
       "    <tr>\n",
       "      <th>24</th>\n",
       "      <td>2008</td>\n",
       "      <td>1</td>\n",
       "      <td>10742</td>\n",
       "      <td>11745</td>\n",
       "      <td>91.460196</td>\n",
       "    </tr>\n",
       "    <tr>\n",
       "      <th>36</th>\n",
       "      <td>2009</td>\n",
       "      <td>1</td>\n",
       "      <td>9684</td>\n",
       "      <td>11909</td>\n",
       "      <td>81.316651</td>\n",
       "    </tr>\n",
       "  </tbody>\n",
       "</table>\n",
       "</div>"
      ],
      "text/plain": [
       "    annee  mois  sum_mois  sum_annee  pourcentage\n",
       "0    2005     1     10522      10522   100.000000\n",
       "1    2006     1     10887      10932    99.588364\n",
       "12   2007     1     11351      11620    97.685026\n",
       "24   2008     1     10742      11745    91.460196\n",
       "36   2009     1      9684      11909    81.316651"
      ]
     },
     "execution_count": 59,
     "metadata": {},
     "output_type": "execute_result"
    }
   ],
   "source": [
    "proportion_janvier.head()"
   ]
  },
  {
   "cell_type": "code",
   "execution_count": 60,
   "id": "fca82ce4-1dc7-4777-96cf-f9f541a8b505",
   "metadata": {},
   "outputs": [
    {
     "data": {
      "image/png": "[encoded data removed]",
      "text/plain": [
       "<Figure size 432x288 with 1 Axes>"
      ]
     },
     "metadata": {
      "needs_background": "light"
     },
     "output_type": "display_data"
    }
   ],
   "source": [
    "# Représentation graphique de la proportion du nombre de thèses en janvier\n",
    "sns.lineplot(data=proportion_janvier, x=\"annee\", y=\"pourcentage\")\n",
    "#plt.title(\"Proportion des thèses en janvier\")\n",
    "plt.xlabel(\"Année\")\n",
    "plt.ylabel(\"Pourcentage thèses\")\n",
    "plt.savefig(\"/home/mertes/Documents/DU_Data_Analyst/graphs/proportion_theses_janvier.png\")\n",
    "plt.show()"
   ]
  },
  {
   "cell_type": "code",
   "execution_count": 99,
   "id": "f703c75c-2ac9-48d9-b9fe-de5a6b69d021",
   "metadata": {},
   "outputs": [],
   "source": [
    "# Suppression de la date du 1er du mois de janvier\n",
    "d_theses = pd.DataFrame({\"date\": Phd_v2[Phd_v2[\"Statut\"] == \"soutenue\"][\"Date de soutenance\"]}).dropna()\n",
    "d_theses = d_theses.drop(d_theses[d_theses[\"date\"].dt.month == 1 & (d_theses[\"date\"].dt.day == 1)].index)\n",
    "\n",
    "# Selection de la période 2005-2018\n",
    "theses_p = d_theses[(d_theses[\"date\"].dt.year >= 2005) & (d_theses[\"date\"].dt.year <= 2018)]\n",
    "theses_p = pd.DataFrame({\"annee\": theses_p[\"date\"].dt.year, \n",
    "                         \"mois\": theses_p[\"date\"].dt.month})\n",
    "\n",
    "# Nombre de soutenances par mois de chaque année\n",
    "theses_p = theses_p.groupby(by=[\"annee\", \"mois\"], as_index=False).value_counts()\n",
    "\n",
    "# Nombre total de soutenances par mois sur toute la période\n",
    "new_dist_month = theses_p.groupby(by=[\"mois\"], as_index=False)[\"count\"].agg([\"sum\", \"std\"])\n",
    "\n",
    "# Nombre total de soutenances sur toute la période\n",
    "total_soutenances = new_dist_month[\"sum\"].sum()\n",
    "\n",
    "# Calcul du pourcentage et de l'écart-type par mois sur toute la période\n",
    "new_dist_month[\"percent_theses\"] = round(new_dist_month[\"sum\"] / total_soutenances * 100, 1)\n",
    "new_dist_month[\"percent_std\"] = round(new_dist_month[\"std\"] / total_soutenances * 100, 1)"
   ]
  },
  {
   "cell_type": "code",
   "execution_count": 100,
   "id": "1641ad14-1a70-4528-8c9d-bd6fabbbedab",
   "metadata": {},
   "outputs": [
    {
     "data": {
      "text/html": [
       "<div>\n",
       "<style scoped>\n",
       "    .dataframe tbody tr th:only-of-type {\n",
       "        vertical-align: middle;\n",
       "    }\n",
       "\n",
       "    .dataframe tbody tr th {\n",
       "        vertical-align: top;\n",
       "    }\n",
       "\n",
       "    .dataframe thead th {\n",
       "        text-align: right;\n",
       "    }\n",
       "</style>\n",
       "<table border=\"1\" class=\"dataframe\">\n",
       "  <thead>\n",
       "    <tr style=\"text-align: right;\">\n",
       "      <th></th>\n",
       "      <th>sum</th>\n",
       "      <th>std</th>\n",
       "      <th>percent_theses</th>\n",
       "      <th>percent_std</th>\n",
       "    </tr>\n",
       "    <tr>\n",
       "      <th>mois</th>\n",
       "      <th></th>\n",
       "      <th></th>\n",
       "      <th></th>\n",
       "      <th></th>\n",
       "    </tr>\n",
       "  </thead>\n",
       "  <tbody>\n",
       "    <tr>\n",
       "      <th>1</th>\n",
       "      <td>5411</td>\n",
       "      <td>296.309285</td>\n",
       "      <td>5.9</td>\n",
       "      <td>0.3</td>\n",
       "    </tr>\n",
       "    <tr>\n",
       "      <th>2</th>\n",
       "      <td>4151</td>\n",
       "      <td>209.651858</td>\n",
       "      <td>4.5</td>\n",
       "      <td>0.2</td>\n",
       "    </tr>\n",
       "    <tr>\n",
       "      <th>3</th>\n",
       "      <td>5684</td>\n",
       "      <td>306.775204</td>\n",
       "      <td>6.2</td>\n",
       "      <td>0.3</td>\n",
       "    </tr>\n",
       "    <tr>\n",
       "      <th>4</th>\n",
       "      <td>4583</td>\n",
       "      <td>244.345935</td>\n",
       "      <td>5.0</td>\n",
       "      <td>0.3</td>\n",
       "    </tr>\n",
       "    <tr>\n",
       "      <th>5</th>\n",
       "      <td>5745</td>\n",
       "      <td>318.217552</td>\n",
       "      <td>6.2</td>\n",
       "      <td>0.3</td>\n",
       "    </tr>\n",
       "    <tr>\n",
       "      <th>6</th>\n",
       "      <td>8649</td>\n",
       "      <td>463.829061</td>\n",
       "      <td>9.4</td>\n",
       "      <td>0.5</td>\n",
       "    </tr>\n",
       "    <tr>\n",
       "      <th>7</th>\n",
       "      <td>4334</td>\n",
       "      <td>226.303093</td>\n",
       "      <td>4.7</td>\n",
       "      <td>0.2</td>\n",
       "    </tr>\n",
       "    <tr>\n",
       "      <th>8</th>\n",
       "      <td>3310</td>\n",
       "      <td>182.630564</td>\n",
       "      <td>3.6</td>\n",
       "      <td>0.2</td>\n",
       "    </tr>\n",
       "    <tr>\n",
       "      <th>9</th>\n",
       "      <td>10916</td>\n",
       "      <td>616.807423</td>\n",
       "      <td>11.9</td>\n",
       "      <td>0.7</td>\n",
       "    </tr>\n",
       "    <tr>\n",
       "      <th>10</th>\n",
       "      <td>9503</td>\n",
       "      <td>480.597371</td>\n",
       "      <td>10.3</td>\n",
       "      <td>0.5</td>\n",
       "    </tr>\n",
       "    <tr>\n",
       "      <th>11</th>\n",
       "      <td>14250</td>\n",
       "      <td>756.314181</td>\n",
       "      <td>15.5</td>\n",
       "      <td>0.8</td>\n",
       "    </tr>\n",
       "    <tr>\n",
       "      <th>12</th>\n",
       "      <td>15556</td>\n",
       "      <td>813.813097</td>\n",
       "      <td>16.9</td>\n",
       "      <td>0.9</td>\n",
       "    </tr>\n",
       "  </tbody>\n",
       "</table>\n",
       "</div>"
      ],
      "text/plain": [
       "        sum         std  percent_theses  percent_std\n",
       "mois                                                \n",
       "1      5411  296.309285             5.9          0.3\n",
       "2      4151  209.651858             4.5          0.2\n",
       "3      5684  306.775204             6.2          0.3\n",
       "4      4583  244.345935             5.0          0.3\n",
       "5      5745  318.217552             6.2          0.3\n",
       "6      8649  463.829061             9.4          0.5\n",
       "7      4334  226.303093             4.7          0.2\n",
       "8      3310  182.630564             3.6          0.2\n",
       "9     10916  616.807423            11.9          0.7\n",
       "10     9503  480.597371            10.3          0.5\n",
       "11    14250  756.314181            15.5          0.8\n",
       "12    15556  813.813097            16.9          0.9"
      ]
     },
     "execution_count": 100,
     "metadata": {},
     "output_type": "execute_result"
    }
   ],
   "source": [
    "new_dist_month.head(12)"
   ]
  },
  {
   "cell_type": "code",
   "execution_count": 63,
   "id": "cb115f31-590a-4546-8ada-d90e3a326cf2",
   "metadata": {},
   "outputs": [
    {
     "data": {
      "image/png": "[encoded data removed]",
      "text/plain": [
       "<Figure size 432x288 with 1 Axes>"
      ]
     },
     "metadata": {
      "needs_background": "light"
     },
     "output_type": "display_data"
    }
   ],
   "source": [
    "sns.barplot(data=new_dist_month.reset_index(), x=\"mois\", y=\"percent_theses\", yerr=new_dist_month[\"percent_std\"]).set_xticklabels([\"Jan\", \"Fev\", \"Mar\", \"Avr\", \"Mai\", \"Jui\", \"juil\", \"Aout\", \"Sept\", \"Oct\", \"Nov\", \"Dec\"])\n",
    "#plt.title(\"Proportion de thèses (2005 à 2018)\")\n",
    "plt.xlabel(\"mois\")\n",
    "plt.ylabel(\"pourcentage de thèses\")\n",
    "plt.savefig(\"/home/mertes/Documents/DU_Data_Analyst/graphs/proportion_theses_mois.png\")\n",
    "plt.show()"
   ]
  },
  {
   "cell_type": "code",
   "execution_count": 96,
   "id": "6ed2b986-162f-47b9-9e7a-dd74751e9ba4",
   "metadata": {},
   "outputs": [],
   "source": [
    "# Dataframe contenant la liste des auteurs et encadrants de thèses soutenues sur la période 1984-2018\n",
    "Phd_periode = Phd_v2[(Phd_v2[\"Date de soutenance\"] >= \"1984\") & (Phd_v2[\"Date de soutenance\"] < \"2019\")].sort_values(\"Date de soutenance\")"
   ]
  },
  {
   "cell_type": "code",
   "execution_count": 98,
   "id": "cfe90db7-9202-4aab-9fa1-84468caf2fa3",
   "metadata": {},
   "outputs": [
    {
     "data": {
      "text/html": [
       "<div>\n",
       "<style scoped>\n",
       "    .dataframe tbody tr th:only-of-type {\n",
       "        vertical-align: middle;\n",
       "    }\n",
       "\n",
       "    .dataframe tbody tr th {\n",
       "        vertical-align: top;\n",
       "    }\n",
       "\n",
       "    .dataframe thead th {\n",
       "        text-align: right;\n",
       "    }\n",
       "</style>\n",
       "<table border=\"1\" class=\"dataframe\">\n",
       "  <thead>\n",
       "    <tr style=\"text-align: right;\">\n",
       "      <th></th>\n",
       "      <th>Identifiant auteur</th>\n",
       "      <th>Auteur</th>\n",
       "      <th>Etablissement de soutenance</th>\n",
       "      <th>Date de soutenance</th>\n",
       "      <th>Discipline</th>\n",
       "    </tr>\n",
       "  </thead>\n",
       "  <tbody>\n",
       "    <tr>\n",
       "      <th>432070</th>\n",
       "      <td>182118703</td>\n",
       "      <td>Cecile Martin</td>\n",
       "      <td>Paris 11</td>\n",
       "      <td>1989-01-01</td>\n",
       "      <td>Physique</td>\n",
       "    </tr>\n",
       "    <tr>\n",
       "      <th>414771</th>\n",
       "      <td>81323557</td>\n",
       "      <td>Cecile Martin</td>\n",
       "      <td>Bordeaux 2</td>\n",
       "      <td>1991-01-01</td>\n",
       "      <td>Neurosciences</td>\n",
       "    </tr>\n",
       "    <tr>\n",
       "      <th>426351</th>\n",
       "      <td>81323557</td>\n",
       "      <td>Cecile Martin</td>\n",
       "      <td>Clermont-Ferrand 2</td>\n",
       "      <td>1994-01-01</td>\n",
       "      <td>Sciences biologiques et fondamentales applique...</td>\n",
       "    </tr>\n",
       "    <tr>\n",
       "      <th>166820</th>\n",
       "      <td>81323557</td>\n",
       "      <td>Cecile Martin</td>\n",
       "      <td>Institut national agronomique Paris-Grignon</td>\n",
       "      <td>2000-01-01</td>\n",
       "      <td>Sciences biologiques fondamentales et applique...</td>\n",
       "    </tr>\n",
       "    <tr>\n",
       "      <th>410228</th>\n",
       "      <td>81323557</td>\n",
       "      <td>Cecile Martin</td>\n",
       "      <td>Compiegne</td>\n",
       "      <td>2001-01-01</td>\n",
       "      <td>Genie des procedes industriels</td>\n",
       "    </tr>\n",
       "    <tr>\n",
       "      <th>267565</th>\n",
       "      <td>179423568</td>\n",
       "      <td>Cecile Martin</td>\n",
       "      <td>Paris 9</td>\n",
       "      <td>2014-01-24</td>\n",
       "      <td>Sciences economiques</td>\n",
       "    </tr>\n",
       "    <tr>\n",
       "      <th>61289</th>\n",
       "      <td>203208145</td>\n",
       "      <td>Cecile Martin</td>\n",
       "      <td>Sorbonne Paris Cite</td>\n",
       "      <td>2017-01-16</td>\n",
       "      <td>Etudes cinematographiques et audiovisuelles</td>\n",
       "    </tr>\n",
       "  </tbody>\n",
       "</table>\n",
       "</div>"
      ],
      "text/plain": [
       "       Identifiant auteur         Auteur  \\\n",
       "432070          182118703  Cecile Martin   \n",
       "414771           81323557  Cecile Martin   \n",
       "426351           81323557  Cecile Martin   \n",
       "166820           81323557  Cecile Martin   \n",
       "410228           81323557  Cecile Martin   \n",
       "267565          179423568  Cecile Martin   \n",
       "61289           203208145  Cecile Martin   \n",
       "\n",
       "                        Etablissement de soutenance Date de soutenance  \\\n",
       "432070                                     Paris 11         1989-01-01   \n",
       "414771                                   Bordeaux 2         1991-01-01   \n",
       "426351                           Clermont-Ferrand 2         1994-01-01   \n",
       "166820  Institut national agronomique Paris-Grignon         2000-01-01   \n",
       "410228                                    Compiegne         2001-01-01   \n",
       "267565                                      Paris 9         2014-01-24   \n",
       "61289                           Sorbonne Paris Cite         2017-01-16   \n",
       "\n",
       "                                               Discipline  \n",
       "432070                                           Physique  \n",
       "414771                                      Neurosciences  \n",
       "426351  Sciences biologiques et fondamentales applique...  \n",
       "166820  Sciences biologiques fondamentales et applique...  \n",
       "410228                     Genie des procedes industriels  \n",
       "267565                               Sciences economiques  \n",
       "61289         Etudes cinematographiques et audiovisuelles  "
      ]
     },
     "execution_count": 98,
     "metadata": {},
     "output_type": "execute_result"
    }
   ],
   "source": [
    "# Liste des thèses soutenues pour Cécile Martin\n",
    "Phd_periode[[\"Identifiant auteur\", \"Auteur\",  \n",
    "             \"Etablissement de soutenance\", \n",
    "             \"Date de soutenance\",\n",
    "             \"Discipline\"]][(Phd_periode[\"Auteur\"].str.contains('^[Cc][Eeé]cile [Mm]artin$', regex=True))]"
   ]
  },
  {
   "cell_type": "code",
   "execution_count": 67,
   "id": "7a59d8b3-4b1c-4b2b-9914-23db11cd8cbc",
   "metadata": {},
   "outputs": [],
   "source": [
    "auteur_these = Phd_periode.groupby(by=\"Auteur\").agg(these = (\"Auteur\", \"count\")).sort_values(by=\"these\", ascending=False)"
   ]
  },
  {
   "cell_type": "code",
   "execution_count": 68,
   "id": "31f7e208-428c-428d-80dd-30846c42f3aa",
   "metadata": {},
   "outputs": [
    {
     "data": {
      "text/html": [
       "<div>\n",
       "<style scoped>\n",
       "    .dataframe tbody tr th:only-of-type {\n",
       "        vertical-align: middle;\n",
       "    }\n",
       "\n",
       "    .dataframe tbody tr th {\n",
       "        vertical-align: top;\n",
       "    }\n",
       "\n",
       "    .dataframe thead th {\n",
       "        text-align: right;\n",
       "    }\n",
       "</style>\n",
       "<table border=\"1\" class=\"dataframe\">\n",
       "  <thead>\n",
       "    <tr style=\"text-align: right;\">\n",
       "      <th></th>\n",
       "      <th>these</th>\n",
       "    </tr>\n",
       "    <tr>\n",
       "      <th>Auteur</th>\n",
       "      <th></th>\n",
       "    </tr>\n",
       "  </thead>\n",
       "  <tbody>\n",
       "    <tr>\n",
       "      <th>Nicolas Martin</th>\n",
       "      <td>14</td>\n",
       "    </tr>\n",
       "    <tr>\n",
       "      <th>Philippe Michel</th>\n",
       "      <td>13</td>\n",
       "    </tr>\n",
       "    <tr>\n",
       "      <th>Franck Martin</th>\n",
       "      <td>11</td>\n",
       "    </tr>\n",
       "    <tr>\n",
       "      <th>Bruno Martin</th>\n",
       "      <td>10</td>\n",
       "    </tr>\n",
       "    <tr>\n",
       "      <th>Thierry Martin</th>\n",
       "      <td>10</td>\n",
       "    </tr>\n",
       "    <tr>\n",
       "      <th>...</th>\n",
       "      <td>...</td>\n",
       "    </tr>\n",
       "    <tr>\n",
       "      <th>Florian Longnos</th>\n",
       "      <td>1</td>\n",
       "    </tr>\n",
       "    <tr>\n",
       "      <th>Florian Loitsch</th>\n",
       "      <td>1</td>\n",
       "    </tr>\n",
       "    <tr>\n",
       "      <th>Florian Linditch</th>\n",
       "      <td>1</td>\n",
       "    </tr>\n",
       "    <tr>\n",
       "      <th>Florian Linde</th>\n",
       "      <td>1</td>\n",
       "    </tr>\n",
       "    <tr>\n",
       "      <th>wafae Iraqi</th>\n",
       "      <td>1</td>\n",
       "    </tr>\n",
       "  </tbody>\n",
       "</table>\n",
       "<p>352799 rows × 1 columns</p>\n",
       "</div>"
      ],
      "text/plain": [
       "                  these\n",
       "Auteur                 \n",
       "Nicolas Martin       14\n",
       "Philippe Michel      13\n",
       "Franck Martin        11\n",
       "Bruno Martin         10\n",
       "Thierry Martin       10\n",
       "...                 ...\n",
       "Florian Longnos       1\n",
       "Florian Loitsch       1\n",
       "Florian Linditch      1\n",
       "Florian Linde         1\n",
       "wafae Iraqi           1\n",
       "\n",
       "[352799 rows x 1 columns]"
      ]
     },
     "execution_count": 68,
     "metadata": {},
     "output_type": "execute_result"
    }
   ],
   "source": [
    "auteur_these"
   ]
  },
  {
   "cell_type": "code",
   "execution_count": 69,
   "id": "cc000a50-eb55-41ac-a373-3bfbfa6bcb93",
   "metadata": {},
   "outputs": [],
   "source": [
    "# Directeurs ayant encadrés des thèses (1984-2018)\n",
    "dir_theses = Phd_periode[Phd_periode[\"Statut\"] == \"soutenue\"][[\"Directeur de these (nom prenom)\", \n",
    "                                                               \"Etablissement de soutenance\", \n",
    "                                                               \"Discipline\", \n",
    "                                                               \"Date de soutenance\"]]"
   ]
  },
  {
   "cell_type": "code",
   "execution_count": 70,
   "id": "ff81f46c-7af8-4880-8801-8b25bf2d304b",
   "metadata": {},
   "outputs": [],
   "source": [
    "# Calcul du mombre de thèses dirigées par directeur par année\n",
    "#dir_theses = dir_theses.groupby(\"Directeur de these (nom prenom)\", as_index=False)[\"Directeur de these (nom prenom)\"].value_counts()\n",
    "dir_count = dir_theses.groupby([\"Directeur de these (nom prenom)\", \"Discipline\", \"Etablissement de soutenance\", \"Date de soutenance\"]).agg(these=(\"Directeur de these (nom prenom)\", \"count\"))"
   ]
  },
  {
   "cell_type": "code",
   "execution_count": 71,
   "id": "e2fd62b9-ab7c-4d84-937e-4b2c881c0654",
   "metadata": {},
   "outputs": [],
   "source": [
    "dir_count.sort_values(\"these\", ascending=False, inplace=True)"
   ]
  },
  {
   "cell_type": "code",
   "execution_count": 72,
   "id": "1fd99785-fc34-45c5-95a5-07de4b917f4f",
   "metadata": {},
   "outputs": [
    {
     "data": {
      "text/html": [
       "<div>\n",
       "<style scoped>\n",
       "    .dataframe tbody tr th:only-of-type {\n",
       "        vertical-align: middle;\n",
       "    }\n",
       "\n",
       "    .dataframe tbody tr th {\n",
       "        vertical-align: top;\n",
       "    }\n",
       "\n",
       "    .dataframe thead th {\n",
       "        text-align: right;\n",
       "    }\n",
       "</style>\n",
       "<table border=\"1\" class=\"dataframe\">\n",
       "  <thead>\n",
       "    <tr style=\"text-align: right;\">\n",
       "      <th></th>\n",
       "      <th>Directeur de these (nom prenom)</th>\n",
       "      <th>Discipline</th>\n",
       "      <th>Etablissement de soutenance</th>\n",
       "      <th>Date de soutenance</th>\n",
       "      <th>these</th>\n",
       "    </tr>\n",
       "  </thead>\n",
       "  <tbody>\n",
       "    <tr>\n",
       "      <th>0</th>\n",
       "      <td>Directeur de these inconnu</td>\n",
       "      <td>Pharmacie</td>\n",
       "      <td>Universite Louis Pasteur (Strasbourg)</td>\n",
       "      <td>1987-01-01</td>\n",
       "      <td>105</td>\n",
       "    </tr>\n",
       "    <tr>\n",
       "      <th>1</th>\n",
       "      <td>Scherrmann Jean-Michel</td>\n",
       "      <td>Pharmacie</td>\n",
       "      <td>Paris 5</td>\n",
       "      <td>1994-01-01</td>\n",
       "      <td>39</td>\n",
       "    </tr>\n",
       "    <tr>\n",
       "      <th>2</th>\n",
       "      <td>Bertucat Michel</td>\n",
       "      <td>Pharmacie</td>\n",
       "      <td>Bordeaux 2</td>\n",
       "      <td>1995-01-01</td>\n",
       "      <td>28</td>\n",
       "    </tr>\n",
       "    <tr>\n",
       "      <th>3</th>\n",
       "      <td>Scherrmann Jean-Michel</td>\n",
       "      <td>Pharmacie</td>\n",
       "      <td>Paris 5</td>\n",
       "      <td>1995-01-01</td>\n",
       "      <td>27</td>\n",
       "    </tr>\n",
       "    <tr>\n",
       "      <th>4</th>\n",
       "      <td>Scherrmann Jean-Michel</td>\n",
       "      <td>Pharmacie</td>\n",
       "      <td>Paris 5</td>\n",
       "      <td>1993-01-01</td>\n",
       "      <td>27</td>\n",
       "    </tr>\n",
       "    <tr>\n",
       "      <th>...</th>\n",
       "      <td>...</td>\n",
       "      <td>...</td>\n",
       "      <td>...</td>\n",
       "      <td>...</td>\n",
       "      <td>...</td>\n",
       "    </tr>\n",
       "    <tr>\n",
       "      <th>314253</th>\n",
       "      <td>Fabiani Jean-Louis,Janssen Susanne</td>\n",
       "      <td>SociologieSociologie</td>\n",
       "      <td>Paris, EHESS</td>\n",
       "      <td>2012-01-01</td>\n",
       "      <td>1</td>\n",
       "    </tr>\n",
       "    <tr>\n",
       "      <th>314254</th>\n",
       "      <td>Fabiani Jean-Louis,Gaudez Florent</td>\n",
       "      <td>Sociologie</td>\n",
       "      <td>Paris, EHESS</td>\n",
       "      <td>2015-01-01</td>\n",
       "      <td>1</td>\n",
       "    </tr>\n",
       "    <tr>\n",
       "      <th>314255</th>\n",
       "      <td>Fabiani Jean-Louis,Abou-Zeid Agnes</td>\n",
       "      <td>Sociologie</td>\n",
       "      <td>Paris, EHESS</td>\n",
       "      <td>2017-12-22</td>\n",
       "      <td>1</td>\n",
       "    </tr>\n",
       "    <tr>\n",
       "      <th>314256</th>\n",
       "      <td>Fabiani Jean-Louis</td>\n",
       "      <td>Sociologie</td>\n",
       "      <td>Paris, EHESS</td>\n",
       "      <td>2017-06-26</td>\n",
       "      <td>1</td>\n",
       "    </tr>\n",
       "    <tr>\n",
       "      <th>314257</th>\n",
       "      <td>van Isacker Pieter</td>\n",
       "      <td>Physique</td>\n",
       "      <td>Caen</td>\n",
       "      <td>1999-01-01</td>\n",
       "      <td>1</td>\n",
       "    </tr>\n",
       "  </tbody>\n",
       "</table>\n",
       "<p>314258 rows × 5 columns</p>\n",
       "</div>"
      ],
      "text/plain": [
       "           Directeur de these (nom prenom)            Discipline  \\\n",
       "0               Directeur de these inconnu             Pharmacie   \n",
       "1                   Scherrmann Jean-Michel             Pharmacie   \n",
       "2                          Bertucat Michel             Pharmacie   \n",
       "3                   Scherrmann Jean-Michel             Pharmacie   \n",
       "4                   Scherrmann Jean-Michel             Pharmacie   \n",
       "...                                    ...                   ...   \n",
       "314253  Fabiani Jean-Louis,Janssen Susanne  SociologieSociologie   \n",
       "314254   Fabiani Jean-Louis,Gaudez Florent            Sociologie   \n",
       "314255  Fabiani Jean-Louis,Abou-Zeid Agnes            Sociologie   \n",
       "314256                  Fabiani Jean-Louis            Sociologie   \n",
       "314257                  van Isacker Pieter              Physique   \n",
       "\n",
       "                  Etablissement de soutenance Date de soutenance  these  \n",
       "0       Universite Louis Pasteur (Strasbourg)         1987-01-01    105  \n",
       "1                                     Paris 5         1994-01-01     39  \n",
       "2                                  Bordeaux 2         1995-01-01     28  \n",
       "3                                     Paris 5         1995-01-01     27  \n",
       "4                                     Paris 5         1993-01-01     27  \n",
       "...                                       ...                ...    ...  \n",
       "314253                           Paris, EHESS         2012-01-01      1  \n",
       "314254                           Paris, EHESS         2015-01-01      1  \n",
       "314255                           Paris, EHESS         2017-12-22      1  \n",
       "314256                           Paris, EHESS         2017-06-26      1  \n",
       "314257                                   Caen         1999-01-01      1  \n",
       "\n",
       "[314258 rows x 5 columns]"
      ]
     },
     "execution_count": 72,
     "metadata": {},
     "output_type": "execute_result"
    }
   ],
   "source": [
    "dir_count.reset_index()"
   ]
  },
  {
   "cell_type": "code",
   "execution_count": 73,
   "id": "5b869752-ed9c-48a4-9eef-f00c5151465a",
   "metadata": {},
   "outputs": [],
   "source": [
    "# Suppression de l'erreur de nom d'un directeur appelé \"inconnu\"\n",
    "dir_count.drop(\"Directeur de these inconnu\", axis=0, level=0, inplace=True)"
   ]
  },
  {
   "cell_type": "code",
   "execution_count": 74,
   "id": "567e6f1a-0874-470a-a032-289fe5d6272a",
   "metadata": {},
   "outputs": [],
   "source": [
    "# Nombre d'encadrements de thèses par directeur \n",
    "dir_enc = dir_count.reset_index()[[\"Directeur de these (nom prenom)\", \"these\"]].groupby(\"Directeur de these (nom prenom)\").sum()"
   ]
  },
  {
   "cell_type": "code",
   "execution_count": 75,
   "id": "dc640f6f-3f8e-4e78-8b31-af3af564f55c",
   "metadata": {},
   "outputs": [
    {
     "data": {
      "text/html": [
       "<div>\n",
       "<style scoped>\n",
       "    .dataframe tbody tr th:only-of-type {\n",
       "        vertical-align: middle;\n",
       "    }\n",
       "\n",
       "    .dataframe tbody tr th {\n",
       "        vertical-align: top;\n",
       "    }\n",
       "\n",
       "    .dataframe thead th {\n",
       "        text-align: right;\n",
       "    }\n",
       "</style>\n",
       "<table border=\"1\" class=\"dataframe\">\n",
       "  <thead>\n",
       "    <tr style=\"text-align: right;\">\n",
       "      <th></th>\n",
       "      <th>these</th>\n",
       "    </tr>\n",
       "    <tr>\n",
       "      <th>Directeur de these (nom prenom)</th>\n",
       "      <th></th>\n",
       "    </tr>\n",
       "  </thead>\n",
       "  <tbody>\n",
       "    <tr>\n",
       "      <th>Scherrmann Jean-Michel</th>\n",
       "      <td>208</td>\n",
       "    </tr>\n",
       "    <tr>\n",
       "      <th>Blanc Francois-Paul</th>\n",
       "      <td>199</td>\n",
       "    </tr>\n",
       "    <tr>\n",
       "      <th>Brunel Pierre</th>\n",
       "      <td>195</td>\n",
       "    </tr>\n",
       "    <tr>\n",
       "      <th>Bertucat Michel</th>\n",
       "      <td>173</td>\n",
       "    </tr>\n",
       "    <tr>\n",
       "      <th>Pujolle Guy</th>\n",
       "      <td>170</td>\n",
       "    </tr>\n",
       "    <tr>\n",
       "      <th>Teyssie Bernard</th>\n",
       "      <td>134</td>\n",
       "    </tr>\n",
       "    <tr>\n",
       "      <th>Lumley Henry de</th>\n",
       "      <td>132</td>\n",
       "    </tr>\n",
       "    <tr>\n",
       "      <th>Chaumeil Jean-Claude</th>\n",
       "      <td>131</td>\n",
       "    </tr>\n",
       "    <tr>\n",
       "      <th>Foucart Bruno</th>\n",
       "      <td>130</td>\n",
       "    </tr>\n",
       "    <tr>\n",
       "      <th>Maffesoli Michel</th>\n",
       "      <td>128</td>\n",
       "    </tr>\n",
       "  </tbody>\n",
       "</table>\n",
       "</div>"
      ],
      "text/plain": [
       "                                 these\n",
       "Directeur de these (nom prenom)       \n",
       "Scherrmann Jean-Michel             208\n",
       "Blanc Francois-Paul                199\n",
       "Brunel Pierre                      195\n",
       "Bertucat Michel                    173\n",
       "Pujolle Guy                        170\n",
       "Teyssie Bernard                    134\n",
       "Lumley Henry de                    132\n",
       "Chaumeil Jean-Claude               131\n",
       "Foucart Bruno                      130\n",
       "Maffesoli Michel                   128"
      ]
     },
     "execution_count": 75,
     "metadata": {},
     "output_type": "execute_result"
    }
   ],
   "source": [
    "# Liste des 10 directeurs les plus \"prolifiques\"\n",
    "dir_enc.sort_values(\"these\", ascending=False).iloc[0:10]"
   ]
  },
  {
   "cell_type": "code",
   "execution_count": 76,
   "id": "e08edbde-e9da-4a53-8b6d-9a4bf9dbbaef",
   "metadata": {},
   "outputs": [],
   "source": [
    "# Nombre d'encadrements par discipline et date de soutenance pour chaque directeur \n",
    "dir_count = dir_count.groupby([\"Directeur de these (nom prenom)\", \"Discipline\", \"Etablissement de soutenance\", \"Date de soutenance\"])\n",
    "dir_count = dir_count.sum().sort_values(\"these\", ascending=False).reset_index()"
   ]
  },
  {
   "cell_type": "code",
   "execution_count": 77,
   "id": "896c8340-9df1-499f-8ea3-fd0266a4c3ae",
   "metadata": {},
   "outputs": [
    {
     "data": {
      "text/html": [
       "<div>\n",
       "<style scoped>\n",
       "    .dataframe tbody tr th:only-of-type {\n",
       "        vertical-align: middle;\n",
       "    }\n",
       "\n",
       "    .dataframe tbody tr th {\n",
       "        vertical-align: top;\n",
       "    }\n",
       "\n",
       "    .dataframe thead th {\n",
       "        text-align: right;\n",
       "    }\n",
       "</style>\n",
       "<table border=\"1\" class=\"dataframe\">\n",
       "  <thead>\n",
       "    <tr style=\"text-align: right;\">\n",
       "      <th></th>\n",
       "      <th>Directeur de these (nom prenom)</th>\n",
       "      <th>Discipline</th>\n",
       "      <th>Etablissement de soutenance</th>\n",
       "      <th>Date de soutenance</th>\n",
       "      <th>these</th>\n",
       "    </tr>\n",
       "  </thead>\n",
       "  <tbody>\n",
       "    <tr>\n",
       "      <th>0</th>\n",
       "      <td>Scherrmann Jean-Michel</td>\n",
       "      <td>Pharmacie</td>\n",
       "      <td>Paris 5</td>\n",
       "      <td>1994-01-01</td>\n",
       "      <td>39</td>\n",
       "    </tr>\n",
       "    <tr>\n",
       "      <th>1</th>\n",
       "      <td>Bertucat Michel</td>\n",
       "      <td>Pharmacie</td>\n",
       "      <td>Bordeaux 2</td>\n",
       "      <td>1995-01-01</td>\n",
       "      <td>28</td>\n",
       "    </tr>\n",
       "    <tr>\n",
       "      <th>2</th>\n",
       "      <td>Scherrmann Jean-Michel</td>\n",
       "      <td>Pharmacie</td>\n",
       "      <td>Paris 5</td>\n",
       "      <td>1993-01-01</td>\n",
       "      <td>27</td>\n",
       "    </tr>\n",
       "    <tr>\n",
       "      <th>3</th>\n",
       "      <td>Scherrmann Jean-Michel</td>\n",
       "      <td>Pharmacie</td>\n",
       "      <td>Paris 5</td>\n",
       "      <td>1995-01-01</td>\n",
       "      <td>27</td>\n",
       "    </tr>\n",
       "    <tr>\n",
       "      <th>4</th>\n",
       "      <td>Bertucat Michel</td>\n",
       "      <td>Pharmacie</td>\n",
       "      <td>Bordeaux 2</td>\n",
       "      <td>1993-01-01</td>\n",
       "      <td>26</td>\n",
       "    </tr>\n",
       "    <tr>\n",
       "      <th>...</th>\n",
       "      <td>...</td>\n",
       "      <td>...</td>\n",
       "      <td>...</td>\n",
       "      <td>...</td>\n",
       "      <td>...</td>\n",
       "    </tr>\n",
       "    <tr>\n",
       "      <th>313969</th>\n",
       "      <td>Fabre Genevieve</td>\n",
       "      <td>Etudes latino-americaines</td>\n",
       "      <td>Paris 7</td>\n",
       "      <td>1998-01-01</td>\n",
       "      <td>1</td>\n",
       "    </tr>\n",
       "    <tr>\n",
       "      <th>313970</th>\n",
       "      <td>Fabre Genevieve</td>\n",
       "      <td>Etudes anglophones</td>\n",
       "      <td>Paris 7</td>\n",
       "      <td>1995-01-01</td>\n",
       "      <td>1</td>\n",
       "    </tr>\n",
       "    <tr>\n",
       "      <th>313971</th>\n",
       "      <td>Fabre Genevieve</td>\n",
       "      <td>Etudes anglophones</td>\n",
       "      <td>Paris 7</td>\n",
       "      <td>1991-01-01</td>\n",
       "      <td>1</td>\n",
       "    </tr>\n",
       "    <tr>\n",
       "      <th>313972</th>\n",
       "      <td>Fabre Genevieve</td>\n",
       "      <td>Etudes anglaises</td>\n",
       "      <td>Paris 7</td>\n",
       "      <td>1993-01-01</td>\n",
       "      <td>1</td>\n",
       "    </tr>\n",
       "    <tr>\n",
       "      <th>313973</th>\n",
       "      <td>van Isacker Pieter</td>\n",
       "      <td>Physique</td>\n",
       "      <td>Caen</td>\n",
       "      <td>1999-01-01</td>\n",
       "      <td>1</td>\n",
       "    </tr>\n",
       "  </tbody>\n",
       "</table>\n",
       "<p>313974 rows × 5 columns</p>\n",
       "</div>"
      ],
      "text/plain": [
       "       Directeur de these (nom prenom)                 Discipline  \\\n",
       "0               Scherrmann Jean-Michel                  Pharmacie   \n",
       "1                      Bertucat Michel                  Pharmacie   \n",
       "2               Scherrmann Jean-Michel                  Pharmacie   \n",
       "3               Scherrmann Jean-Michel                  Pharmacie   \n",
       "4                      Bertucat Michel                  Pharmacie   \n",
       "...                                ...                        ...   \n",
       "313969                 Fabre Genevieve  Etudes latino-americaines   \n",
       "313970                 Fabre Genevieve         Etudes anglophones   \n",
       "313971                 Fabre Genevieve         Etudes anglophones   \n",
       "313972                 Fabre Genevieve           Etudes anglaises   \n",
       "313973              van Isacker Pieter                   Physique   \n",
       "\n",
       "       Etablissement de soutenance Date de soutenance  these  \n",
       "0                          Paris 5         1994-01-01     39  \n",
       "1                       Bordeaux 2         1995-01-01     28  \n",
       "2                          Paris 5         1993-01-01     27  \n",
       "3                          Paris 5         1995-01-01     27  \n",
       "4                       Bordeaux 2         1993-01-01     26  \n",
       "...                            ...                ...    ...  \n",
       "313969                     Paris 7         1998-01-01      1  \n",
       "313970                     Paris 7         1995-01-01      1  \n",
       "313971                     Paris 7         1991-01-01      1  \n",
       "313972                     Paris 7         1993-01-01      1  \n",
       "313973                        Caen         1999-01-01      1  \n",
       "\n",
       "[313974 rows x 5 columns]"
      ]
     },
     "execution_count": 77,
     "metadata": {},
     "output_type": "execute_result"
    }
   ],
   "source": [
    "dir_count"
   ]
  },
  {
   "cell_type": "code",
   "execution_count": 78,
   "id": "5ce08e89-2421-4594-9195-99b407a5109f",
   "metadata": {},
   "outputs": [
    {
     "data": {
      "text/html": [
       "<div>\n",
       "<style scoped>\n",
       "    .dataframe tbody tr th:only-of-type {\n",
       "        vertical-align: middle;\n",
       "    }\n",
       "\n",
       "    .dataframe tbody tr th {\n",
       "        vertical-align: top;\n",
       "    }\n",
       "\n",
       "    .dataframe thead th {\n",
       "        text-align: right;\n",
       "    }\n",
       "</style>\n",
       "<table border=\"1\" class=\"dataframe\">\n",
       "  <thead>\n",
       "    <tr style=\"text-align: right;\">\n",
       "      <th></th>\n",
       "      <th>Directeur de these (nom prenom)</th>\n",
       "      <th>Discipline</th>\n",
       "      <th>Etablissement de soutenance</th>\n",
       "      <th>Date de soutenance</th>\n",
       "      <th>these</th>\n",
       "    </tr>\n",
       "  </thead>\n",
       "  <tbody>\n",
       "    <tr>\n",
       "      <th>1</th>\n",
       "      <td>Bertucat Michel</td>\n",
       "      <td>Pharmacie</td>\n",
       "      <td>Bordeaux 2</td>\n",
       "      <td>1995-01-01</td>\n",
       "      <td>28</td>\n",
       "    </tr>\n",
       "    <tr>\n",
       "      <th>4</th>\n",
       "      <td>Bertucat Michel</td>\n",
       "      <td>Pharmacie</td>\n",
       "      <td>Bordeaux 2</td>\n",
       "      <td>1993-01-01</td>\n",
       "      <td>26</td>\n",
       "    </tr>\n",
       "    <tr>\n",
       "      <th>5</th>\n",
       "      <td>Bertucat Michel</td>\n",
       "      <td>Pharmacie</td>\n",
       "      <td>Bordeaux 2</td>\n",
       "      <td>1992-01-01</td>\n",
       "      <td>25</td>\n",
       "    </tr>\n",
       "    <tr>\n",
       "      <th>9</th>\n",
       "      <td>Bertucat Michel</td>\n",
       "      <td>Pharmacie</td>\n",
       "      <td>Bordeaux 2</td>\n",
       "      <td>1994-01-01</td>\n",
       "      <td>23</td>\n",
       "    </tr>\n",
       "    <tr>\n",
       "      <th>12</th>\n",
       "      <td>Bertucat Michel</td>\n",
       "      <td>Pharmacie</td>\n",
       "      <td>Bordeaux 2</td>\n",
       "      <td>1997-01-01</td>\n",
       "      <td>22</td>\n",
       "    </tr>\n",
       "    <tr>\n",
       "      <th>31</th>\n",
       "      <td>Bertucat Michel</td>\n",
       "      <td>Pharmacie</td>\n",
       "      <td>Bordeaux 2</td>\n",
       "      <td>1996-01-01</td>\n",
       "      <td>16</td>\n",
       "    </tr>\n",
       "    <tr>\n",
       "      <th>40</th>\n",
       "      <td>Bertucat Michel</td>\n",
       "      <td>Pharmacie</td>\n",
       "      <td>Bordeaux 2</td>\n",
       "      <td>1991-01-01</td>\n",
       "      <td>14</td>\n",
       "    </tr>\n",
       "    <tr>\n",
       "      <th>63</th>\n",
       "      <td>Bertucat Michel</td>\n",
       "      <td>Pharmacie</td>\n",
       "      <td>Bordeaux 2</td>\n",
       "      <td>1998-01-01</td>\n",
       "      <td>12</td>\n",
       "    </tr>\n",
       "    <tr>\n",
       "      <th>5868</th>\n",
       "      <td>Bertucat Michel</td>\n",
       "      <td>Pharmacie</td>\n",
       "      <td>Bordeaux 2</td>\n",
       "      <td>2000-01-01</td>\n",
       "      <td>3</td>\n",
       "    </tr>\n",
       "    <tr>\n",
       "      <th>236958</th>\n",
       "      <td>Bertucat Michel</td>\n",
       "      <td>Sciences pharmaceutiques</td>\n",
       "      <td>Bordeaux 2</td>\n",
       "      <td>1992-01-01</td>\n",
       "      <td>1</td>\n",
       "    </tr>\n",
       "    <tr>\n",
       "      <th>236960</th>\n",
       "      <td>Bertucat Michel</td>\n",
       "      <td>Sciences pharmaceutiques</td>\n",
       "      <td>Bordeaux 2</td>\n",
       "      <td>1990-01-01</td>\n",
       "      <td>1</td>\n",
       "    </tr>\n",
       "    <tr>\n",
       "      <th>236961</th>\n",
       "      <td>Bertucat Michel</td>\n",
       "      <td>Pharmacie</td>\n",
       "      <td>Bordeaux 2</td>\n",
       "      <td>1999-01-01</td>\n",
       "      <td>1</td>\n",
       "    </tr>\n",
       "    <tr>\n",
       "      <th>236962</th>\n",
       "      <td>Bertucat Michel</td>\n",
       "      <td>Pharmacie</td>\n",
       "      <td>Bordeaux 2</td>\n",
       "      <td>1988-01-01</td>\n",
       "      <td>1</td>\n",
       "    </tr>\n",
       "  </tbody>\n",
       "</table>\n",
       "</div>"
      ],
      "text/plain": [
       "       Directeur de these (nom prenom)                Discipline  \\\n",
       "1                      Bertucat Michel                 Pharmacie   \n",
       "4                      Bertucat Michel                 Pharmacie   \n",
       "5                      Bertucat Michel                 Pharmacie   \n",
       "9                      Bertucat Michel                 Pharmacie   \n",
       "12                     Bertucat Michel                 Pharmacie   \n",
       "31                     Bertucat Michel                 Pharmacie   \n",
       "40                     Bertucat Michel                 Pharmacie   \n",
       "63                     Bertucat Michel                 Pharmacie   \n",
       "5868                   Bertucat Michel                 Pharmacie   \n",
       "236958                 Bertucat Michel  Sciences pharmaceutiques   \n",
       "236960                 Bertucat Michel  Sciences pharmaceutiques   \n",
       "236961                 Bertucat Michel                 Pharmacie   \n",
       "236962                 Bertucat Michel                 Pharmacie   \n",
       "\n",
       "       Etablissement de soutenance Date de soutenance  these  \n",
       "1                       Bordeaux 2         1995-01-01     28  \n",
       "4                       Bordeaux 2         1993-01-01     26  \n",
       "5                       Bordeaux 2         1992-01-01     25  \n",
       "9                       Bordeaux 2         1994-01-01     23  \n",
       "12                      Bordeaux 2         1997-01-01     22  \n",
       "31                      Bordeaux 2         1996-01-01     16  \n",
       "40                      Bordeaux 2         1991-01-01     14  \n",
       "63                      Bordeaux 2         1998-01-01     12  \n",
       "5868                    Bordeaux 2         2000-01-01      3  \n",
       "236958                  Bordeaux 2         1992-01-01      1  \n",
       "236960                  Bordeaux 2         1990-01-01      1  \n",
       "236961                  Bordeaux 2         1999-01-01      1  \n",
       "236962                  Bordeaux 2         1988-01-01      1  "
      ]
     },
     "execution_count": 78,
     "metadata": {},
     "output_type": "execute_result"
    }
   ],
   "source": [
    "dir_count[dir_count[\"Directeur de these (nom prenom)\"] == \"Bertucat Michel\"]"
   ]
  },
  {
   "cell_type": "code",
   "execution_count": 79,
   "id": "0e238eb6-cda1-45ba-a6c1-2afabdf6ff1c",
   "metadata": {},
   "outputs": [],
   "source": [
    "Phd = pd.DataFrame({\"Date\": Phd_v2[\"Date de soutenance\"], \"Langue\": Phd_v2[\"Langue de la these\"]}).dropna()"
   ]
  },
  {
   "cell_type": "code",
   "execution_count": 80,
   "id": "2de92081-2fe3-4249-a632-a00a7e0c807c",
   "metadata": {},
   "outputs": [],
   "source": [
    "# Extraction de l'année de soutenance\n",
    "Phd[\"Date\"] = Phd[\"Date\"].dt.year"
   ]
  },
  {
   "cell_type": "code",
   "execution_count": 81,
   "id": "7209cab4-e833-46bb-b319-7c8e12f2f5e5",
   "metadata": {},
   "outputs": [],
   "source": [
    "# Fonction de recodage des langues\n",
    "def r_langues(langue):\n",
    "    if langue == \"fr\" or langue == \"FR\":\n",
    "        return \"Français\"\n",
    "    elif langue == \"en\" or langue == \"EN\":\n",
    "        return \"Anglais\"\n",
    "    elif langue == \"fren\" or langue == \"enfr\":\n",
    "        return \"Bilingue\"\n",
    "    else:\n",
    "        return \"Autres\"\n",
    "    "
   ]
  },
  {
   "cell_type": "code",
   "execution_count": 82,
   "id": "b9cd268c-3922-4419-89cd-7ca735401d3e",
   "metadata": {},
   "outputs": [],
   "source": [
    "Phd[\"language.rec\"] = Phd[\"Langue\"].apply(r_langues)"
   ]
  },
  {
   "cell_type": "code",
   "execution_count": 83,
   "id": "1fbd2592-a21e-4a00-a967-d1fc297c5604",
   "metadata": {},
   "outputs": [
    {
     "data": {
      "text/plain": [
       "array(['Français', 'Anglais', 'Autres', 'Bilingue'], dtype=object)"
      ]
     },
     "execution_count": 83,
     "metadata": {},
     "output_type": "execute_result"
    }
   ],
   "source": [
    "Phd[\"language.rec\"].unique()"
   ]
  },
  {
   "cell_type": "code",
   "execution_count": 84,
   "id": "eb1fbb47-847f-4f78-8906-645842407de6",
   "metadata": {},
   "outputs": [
    {
     "data": {
      "text/html": [
       "<div>\n",
       "<style scoped>\n",
       "    .dataframe tbody tr th:only-of-type {\n",
       "        vertical-align: middle;\n",
       "    }\n",
       "\n",
       "    .dataframe tbody tr th {\n",
       "        vertical-align: top;\n",
       "    }\n",
       "\n",
       "    .dataframe thead th {\n",
       "        text-align: right;\n",
       "    }\n",
       "</style>\n",
       "<table border=\"1\" class=\"dataframe\">\n",
       "  <thead>\n",
       "    <tr style=\"text-align: right;\">\n",
       "      <th></th>\n",
       "      <th>Date</th>\n",
       "      <th>Langue</th>\n",
       "      <th>language.rec</th>\n",
       "    </tr>\n",
       "  </thead>\n",
       "  <tbody>\n",
       "    <tr>\n",
       "      <th>2</th>\n",
       "      <td>1993</td>\n",
       "      <td>fr</td>\n",
       "      <td>Français</td>\n",
       "    </tr>\n",
       "    <tr>\n",
       "      <th>79</th>\n",
       "      <td>2015</td>\n",
       "      <td>fr</td>\n",
       "      <td>Français</td>\n",
       "    </tr>\n",
       "    <tr>\n",
       "      <th>134</th>\n",
       "      <td>2015</td>\n",
       "      <td>fr</td>\n",
       "      <td>Français</td>\n",
       "    </tr>\n",
       "    <tr>\n",
       "      <th>318</th>\n",
       "      <td>2013</td>\n",
       "      <td>fr</td>\n",
       "      <td>Français</td>\n",
       "    </tr>\n",
       "    <tr>\n",
       "      <th>376</th>\n",
       "      <td>2013</td>\n",
       "      <td>fr</td>\n",
       "      <td>Français</td>\n",
       "    </tr>\n",
       "  </tbody>\n",
       "</table>\n",
       "</div>"
      ],
      "text/plain": [
       "     Date Langue language.rec\n",
       "2    1993     fr     Français\n",
       "79   2015     fr     Français\n",
       "134  2015     fr     Français\n",
       "318  2013     fr     Français\n",
       "376  2013     fr     Français"
      ]
     },
     "execution_count": 84,
     "metadata": {},
     "output_type": "execute_result"
    }
   ],
   "source": [
    "Phd.head()"
   ]
  },
  {
   "cell_type": "code",
   "execution_count": 85,
   "id": "a6f64492-28fd-4bfc-8253-dd58f9d4a5b9",
   "metadata": {},
   "outputs": [],
   "source": [
    "#Selection pour les 2 dernières décennies\n",
    "Phd = Phd[(Phd[\"Date\"] >= 2005) & (Phd[\"Date\"] <= 2018)][[\"Date\", \"language.rec\"]]"
   ]
  },
  {
   "cell_type": "code",
   "execution_count": 86,
   "id": "2ef6aca2-0748-4dcc-9944-48eaed42d8d7",
   "metadata": {},
   "outputs": [],
   "source": [
    "# distribution des langues par année\n",
    "#dist_lang = Phd.groupby([\"Date\", \"language.rec\"]).value_counts().reset_index(name=\"these\")\n",
    "dist_lang = Phd.groupby([\"Date\", \"language.rec\"]).agg(these = (\"language.rec\", \"count\")).reset_index()"
   ]
  },
  {
   "cell_type": "code",
   "execution_count": 87,
   "id": "005c41f4-f6f7-46cc-8b9f-877faa4304d4",
   "metadata": {},
   "outputs": [
    {
     "data": {
      "text/html": [
       "<div>\n",
       "<style scoped>\n",
       "    .dataframe tbody tr th:only-of-type {\n",
       "        vertical-align: middle;\n",
       "    }\n",
       "\n",
       "    .dataframe tbody tr th {\n",
       "        vertical-align: top;\n",
       "    }\n",
       "\n",
       "    .dataframe thead th {\n",
       "        text-align: right;\n",
       "    }\n",
       "</style>\n",
       "<table border=\"1\" class=\"dataframe\">\n",
       "  <thead>\n",
       "    <tr style=\"text-align: right;\">\n",
       "      <th></th>\n",
       "      <th>Date</th>\n",
       "      <th>language.rec</th>\n",
       "      <th>these</th>\n",
       "    </tr>\n",
       "  </thead>\n",
       "  <tbody>\n",
       "    <tr>\n",
       "      <th>0</th>\n",
       "      <td>2005</td>\n",
       "      <td>Anglais</td>\n",
       "      <td>437</td>\n",
       "    </tr>\n",
       "    <tr>\n",
       "      <th>1</th>\n",
       "      <td>2005</td>\n",
       "      <td>Autres</td>\n",
       "      <td>121</td>\n",
       "    </tr>\n",
       "    <tr>\n",
       "      <th>2</th>\n",
       "      <td>2005</td>\n",
       "      <td>Bilingue</td>\n",
       "      <td>611</td>\n",
       "    </tr>\n",
       "    <tr>\n",
       "      <th>3</th>\n",
       "      <td>2005</td>\n",
       "      <td>Français</td>\n",
       "      <td>9352</td>\n",
       "    </tr>\n",
       "    <tr>\n",
       "      <th>4</th>\n",
       "      <td>2006</td>\n",
       "      <td>Anglais</td>\n",
       "      <td>527</td>\n",
       "    </tr>\n",
       "    <tr>\n",
       "      <th>5</th>\n",
       "      <td>2006</td>\n",
       "      <td>Autres</td>\n",
       "      <td>179</td>\n",
       "    </tr>\n",
       "    <tr>\n",
       "      <th>6</th>\n",
       "      <td>2006</td>\n",
       "      <td>Bilingue</td>\n",
       "      <td>592</td>\n",
       "    </tr>\n",
       "    <tr>\n",
       "      <th>7</th>\n",
       "      <td>2006</td>\n",
       "      <td>Français</td>\n",
       "      <td>9628</td>\n",
       "    </tr>\n",
       "    <tr>\n",
       "      <th>8</th>\n",
       "      <td>2007</td>\n",
       "      <td>Anglais</td>\n",
       "      <td>615</td>\n",
       "    </tr>\n",
       "    <tr>\n",
       "      <th>9</th>\n",
       "      <td>2007</td>\n",
       "      <td>Autres</td>\n",
       "      <td>182</td>\n",
       "    </tr>\n",
       "  </tbody>\n",
       "</table>\n",
       "</div>"
      ],
      "text/plain": [
       "   Date language.rec  these\n",
       "0  2005      Anglais    437\n",
       "1  2005       Autres    121\n",
       "2  2005     Bilingue    611\n",
       "3  2005     Français   9352\n",
       "4  2006      Anglais    527\n",
       "5  2006       Autres    179\n",
       "6  2006     Bilingue    592\n",
       "7  2006     Français   9628\n",
       "8  2007      Anglais    615\n",
       "9  2007       Autres    182"
      ]
     },
     "execution_count": 87,
     "metadata": {},
     "output_type": "execute_result"
    }
   ],
   "source": [
    "dist_lang.head(10)"
   ]
  },
  {
   "cell_type": "code",
   "execution_count": 88,
   "id": "89de8581-217b-4185-a1a6-b11448bc3d3e",
   "metadata": {},
   "outputs": [],
   "source": [
    "# Nombre total de theses par année\n",
    "total_annee = dist_lang.groupby(\"Date\").sum()\n",
    "\n",
    "# Jointure des 2 tableaux\n",
    "Phd = dist_lang.merge(total_annee, on=\"Date\", how=\"inner\", suffixes=[\"_dist\", \"_total\"])\n",
    "\n",
    "# Proportion des langues par année\n",
    "Phd[\"pourcentage\"] = round(Phd[\"these_dist\"] / Phd[\"these_total\"] * 100, 2)"
   ]
  },
  {
   "cell_type": "code",
   "execution_count": 89,
   "id": "044c95d4-2c4a-49c3-9eb9-3b10677eb340",
   "metadata": {},
   "outputs": [
    {
     "data": {
      "text/html": [
       "<div>\n",
       "<style scoped>\n",
       "    .dataframe tbody tr th:only-of-type {\n",
       "        vertical-align: middle;\n",
       "    }\n",
       "\n",
       "    .dataframe tbody tr th {\n",
       "        vertical-align: top;\n",
       "    }\n",
       "\n",
       "    .dataframe thead th {\n",
       "        text-align: right;\n",
       "    }\n",
       "</style>\n",
       "<table border=\"1\" class=\"dataframe\">\n",
       "  <thead>\n",
       "    <tr style=\"text-align: right;\">\n",
       "      <th></th>\n",
       "      <th>Date</th>\n",
       "      <th>language.rec</th>\n",
       "      <th>these_dist</th>\n",
       "      <th>these_total</th>\n",
       "      <th>pourcentage</th>\n",
       "    </tr>\n",
       "  </thead>\n",
       "  <tbody>\n",
       "    <tr>\n",
       "      <th>0</th>\n",
       "      <td>2005</td>\n",
       "      <td>Anglais</td>\n",
       "      <td>437</td>\n",
       "      <td>10521</td>\n",
       "      <td>4.15</td>\n",
       "    </tr>\n",
       "    <tr>\n",
       "      <th>1</th>\n",
       "      <td>2005</td>\n",
       "      <td>Autres</td>\n",
       "      <td>121</td>\n",
       "      <td>10521</td>\n",
       "      <td>1.15</td>\n",
       "    </tr>\n",
       "    <tr>\n",
       "      <th>2</th>\n",
       "      <td>2005</td>\n",
       "      <td>Bilingue</td>\n",
       "      <td>611</td>\n",
       "      <td>10521</td>\n",
       "      <td>5.81</td>\n",
       "    </tr>\n",
       "    <tr>\n",
       "      <th>3</th>\n",
       "      <td>2005</td>\n",
       "      <td>Français</td>\n",
       "      <td>9352</td>\n",
       "      <td>10521</td>\n",
       "      <td>88.89</td>\n",
       "    </tr>\n",
       "    <tr>\n",
       "      <th>4</th>\n",
       "      <td>2006</td>\n",
       "      <td>Anglais</td>\n",
       "      <td>527</td>\n",
       "      <td>10926</td>\n",
       "      <td>4.82</td>\n",
       "    </tr>\n",
       "  </tbody>\n",
       "</table>\n",
       "</div>"
      ],
      "text/plain": [
       "   Date language.rec  these_dist  these_total  pourcentage\n",
       "0  2005      Anglais         437        10521         4.15\n",
       "1  2005       Autres         121        10521         1.15\n",
       "2  2005     Bilingue         611        10521         5.81\n",
       "3  2005     Français        9352        10521        88.89\n",
       "4  2006      Anglais         527        10926         4.82"
      ]
     },
     "execution_count": 89,
     "metadata": {},
     "output_type": "execute_result"
    }
   ],
   "source": [
    "Phd.head()"
   ]
  },
  {
   "cell_type": "code",
   "execution_count": 90,
   "id": "3c6ce389-fac1-4b8f-9b7d-d5d1f619023f",
   "metadata": {},
   "outputs": [
    {
     "name": "stdout",
     "output_type": "stream",
     "text": [
      "    Date language.rec  these_dist  these_total  pourcentage\n",
      "3   2005     Français        9352        10521        88.89\n",
      "55  2018     Français        7807        12132        64.35\n",
      "    Date language.rec  these_dist  these_total  pourcentage\n",
      "0   2005      Anglais         437        10521         4.15\n",
      "52  2018      Anglais        3429        12132        28.26\n",
      "    Date language.rec  these_dist  these_total  pourcentage\n",
      "2   2005     Bilingue         611        10521         5.81\n",
      "54  2018     Bilingue         741        12132         6.11\n",
      "    Date language.rec  these_dist  these_total  pourcentage\n",
      "1   2005       Autres         121        10521         1.15\n",
      "53  2018       Autres         155        12132         1.28\n"
     ]
    }
   ],
   "source": [
    "for lang in [\"Français\", \"Anglais\", \"Bilingue\", \"Autres\"]:\n",
    "    print(Phd[Phd[\"language.rec\"] == lang].iloc[[0,-1]])"
   ]
  },
  {
   "cell_type": "code",
   "execution_count": 91,
   "id": "1f597c09-4fb9-4242-bcbd-58b7ae8e28b4",
   "metadata": {},
   "outputs": [
    {
     "data": {
      "image/png": "[encoded data removed]",
      "text/plain": [
       "<Figure size 432x288 with 1 Axes>"
      ]
     },
     "metadata": {
      "needs_background": "light"
     },
     "output_type": "display_data"
    }
   ],
   "source": [
    "sns.lineplot(data=Phd, x=\"Date\", y=\"pourcentage\", hue=\"language.rec\",hue_order=[\"Français\", \n",
    "                                                                                 \"Anglais\", \n",
    "                                                                                 \"Bilingue\", \n",
    "                                                                                 \"Autres\"])\n",
    "#plt.title(\"Proportion des langues\")\n",
    "plt.xlabel(\"Année\")\n",
    "plt.ylabel(\"Pourcentage des langues\")\n",
    "plt.savefig(\"/home/mertes/Documents/DU_Data_Analyst/graphs/proportion_langues.png\")\n",
    "plt.show()"
   ]
  },
  {
   "cell_type": "code",
   "execution_count": 92,
   "id": "e9aef81e-1042-4038-91b1-0875f324648d",
   "metadata": {},
   "outputs": [],
   "source": [
    "### graphique de type area stacked ###\n",
    "\n",
    "# axe des années en abscisse \n",
    "annee = Phd.Date.unique()\n",
    "\n",
    "# proportion des langues en ordonnée\n",
    "p_fr = Phd[Phd[\"language.rec\"] == \"Français\"][\"pourcentage\"]\n",
    "p_en = Phd[Phd[\"language.rec\"] == \"Anglais\"][\"pourcentage\"]\n",
    "p_bi = Phd[Phd[\"language.rec\"] == \"Bilingue\"][\"pourcentage\"]\n",
    "p_au = Phd[Phd[\"language.rec\"] == \"Autres\"][\"pourcentage\"]"
   ]
  },
  {
   "cell_type": "code",
   "execution_count": 93,
   "id": "3681a822-8c71-4613-a154-2df6cb06dcdb",
   "metadata": {},
   "outputs": [
    {
     "data": {
      "image/png": "[encoded data removed]",
      "text/plain": [
       "<Figure size 432x288 with 1 Axes>"
      ]
     },
     "metadata": {
      "needs_background": "light"
     },
     "output_type": "display_data"
    }
   ],
   "source": [
    "fig, ax = plt.subplots()\n",
    "ax.stackplot(annee, p_au, p_bi, p_en, p_fr, labels=['Autres', 'Bilingue', 'Anglais', 'Français'], \n",
    "              colors=[\"red\", \"green\", \"orange\", \"tab:blue\"])\n",
    "fig.legend(loc=\"center right\", bbox_to_anchor=(1.12, 0.7), ncol=1)\n",
    "plt.xlabel(\"Année\")\n",
    "plt.ylabel(\"Pourcentage\")\n",
    "fig.savefig(\"/home/mertes/Documents/DU_Data_Analyst/graphs/stackplot_langue.png\", bbox_inches='tight')\n",
    "plt.show()"
   ]
  }
 ],
 "metadata": {
  "kernelspec": {
   "display_name": "Python 3 (ipykernel)",
   "language": "python",
   "name": "python3"
  },
  "language_info": {
   "codemirror_mode": {
    "name": "ipython",
    "version": 3
   },
   "file_extension": ".py",
   "mimetype": "text/x-python",
   "name": "python",
   "nbconvert_exporter": "python",
   "pygments_lexer": "ipython3",
   "version": "3.9.12"
  }
 },
 "nbformat": 4,
 "nbformat_minor": 5
}
