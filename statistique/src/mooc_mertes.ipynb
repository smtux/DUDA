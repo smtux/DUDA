{
 "cells": [
  {
   "cell_type": "code",
   "execution_count": 2,
   "id": "c1703fd6-dd9e-4a89-b485-03b69b13fd9a",
   "metadata": {},
   "outputs": [],
   "source": [
    "import pandas as pd\n",
    "import numpy as np\n",
    "import matplotlib.pyplot as plt\n",
    "import seaborn as sns\n",
    "import statsmodels.api as sm\n",
    "import forestplot as fp\n",
    "import missingno as msno\n",
    "from statsmodels.graphics.mosaicplot import mosaic\n",
    "from statsmodels.formula.api import ols\n",
    "from statsmodels.formula.api import logit\n",
    "from statsmodels.formula.api import glm\n",
    "from statsmodels.api import qqplot\n",
    "from scipy.stats import ttest_ind as t_student\n",
    "from scipy.stats import mannwhitneyu\n",
    "from scipy.stats import chi2_contingency\n",
    "from scipy.stats import pearsonr\n",
    "from scipy.stats import spearmanr\n",
    "from scipy.stats import kstest\n",
    "from scipy.stats import norm\n",
    "from matplotlib.patches import Rectangle"
   ]
  },
  {
   "cell_type": "code",
   "execution_count": 3,
   "id": "bff1c6ef-ead2-4890-869b-e7271aa6a773",
   "metadata": {},
   "outputs": [],
   "source": [
    "# Chargement des données\n",
    "effec1 = pd.read_csv(\"../csv/effec1.quest.compil.csv\", encoding=\"ISO-8859-1\")\n",
    "effec2 = pd.read_csv(\"../csv/effec2.quest.compil.csv\", encoding=\"ISO-8859-1\")\n",
    "effec3 = pd.read_csv(\"../csv/effec3.quest.compil.csv\", encoding=\"ISO-8859-1\")\n",
    "#\n",
    "usage1 = pd.read_csv(\"../csv/usages.effec1.csv\", encoding=\"ISO-8859-1\")\n",
    "usage2 = pd.read_csv(\"../csv/usages.effec2.csv\", encoding=\"ISO-8859-1\")\n",
    "usage3 = pd.read_csv(\"../csv/usages.effec3.csv\", encoding=\"ISO-8859-1\")"
   ]
  },
  {
   "cell_type": "code",
   "execution_count": 4,
   "id": "12a0b156-4e66-4b02-8426-096eb66a3da3",
   "metadata": {},
   "outputs": [
    {
     "name": "stdout",
     "output_type": "stream",
     "text": [
      "<class 'pandas.core.frame.DataFrame'>\n",
      "RangeIndex: 4233 entries, 0 to 4232\n",
      "Data columns (total 26 columns):\n",
      " #   Column            Non-Null Count  Dtype  \n",
      "---  ------            --------------  -----  \n",
      " 0   Student_ID        3883 non-null   float64\n",
      " 1   Certif.bin        3883 non-null   float64\n",
      " 2   Section           1587 non-null   object \n",
      " 3   Gender            1577 non-null   object \n",
      " 4   birth.year        1543 non-null   float64\n",
      " 5   Country           1575 non-null   object \n",
      " 6   Diploma           1574 non-null   object \n",
      " 7   EMLYON.et         1567 non-null   object \n",
      " 8   Formation         1562 non-null   object \n",
      " 9   CSP               1572 non-null   object \n",
      " 10  How.heard         1571 non-null   object \n",
      " 11  Exp.crea          1570 non-null   object \n",
      " 12  Curiosity.MOOC    1569 non-null   object \n",
      " 13  Certif.self.sat   1561 non-null   float64\n",
      " 14  Rencontres        1551 non-null   object \n",
      " 15  Certif.work       1562 non-null   float64\n",
      " 16  Incitation        1564 non-null   float64\n",
      " 17  Temps.Dispo       1561 non-null   object \n",
      " 18  Exp.MOOC          1556 non-null   object \n",
      " 19  Completion.proba  1559 non-null   float64\n",
      " 20  EMLyon            1567 non-null   object \n",
      " 21  Country_HDI       1562 non-null   object \n",
      " 22  Country_HDI.fin   1562 non-null   object \n",
      " 23  age               1543 non-null   float64\n",
      " 24  CSP.fin           1572 non-null   object \n",
      " 25  Temps.dispo.fin   1561 non-null   object \n",
      "dtypes: float64(8), object(18)\n",
      "memory usage: 860.0+ KB\n"
     ]
    }
   ],
   "source": [
    "effec3.info()"
   ]
  },
  {
   "cell_type": "code",
   "execution_count": 5,
   "id": "a168a0a7-1795-4cda-a35d-b8faf0dcf3cd",
   "metadata": {},
   "outputs": [],
   "source": [
    "# Fusion des tables effec[n] et usage[n] dans des bases intermédiaires selon les identifiants des étudiants\n",
    "bases_inter = []\n",
    "for tabs in [(effec1, usage1), (effec2, usage2), (effec3, usage3)]:\n",
    "    bases_inter.append(tabs[0].merge(tabs[1], on=\"Student_ID\"))"
   ]
  },
  {
   "cell_type": "code",
   "execution_count": 6,
   "id": "d65992a7-323f-468c-a79b-155220e674ef",
   "metadata": {},
   "outputs": [],
   "source": [
    "# Concaténation des tables intermédiaires afin de créer une seule base commune\n",
    "base = pd.concat(bases_inter, join=\"outer\", \n",
    "                 axis=0, ignore_index=False, \n",
    "                 keys=[1, 2, 3])"
   ]
  },
  {
   "cell_type": "code",
   "execution_count": 7,
   "id": "d8c6c033-99db-4f90-b42d-ff7383b2f848",
   "metadata": {},
   "outputs": [],
   "source": [
    "# Indication de non passage de la certification pour les itération 1 et 2 où seul l'examen existe.\n",
    "base[\"Certif.bin\"].fillna(0, inplace=True)"
   ]
  },
  {
   "cell_type": "code",
   "execution_count": 8,
   "id": "2d9cd41d",
   "metadata": {},
   "outputs": [],
   "source": [
    "base = base.astype({\"Exam.bin\": bool, \"Certif.bin\": bool, \"Student_ID\": int})"
   ]
  },
  {
   "cell_type": "code",
   "execution_count": 9,
   "id": "9eaee9da-4858-4fb1-87f1-a8b39c25b1d3",
   "metadata": {},
   "outputs": [],
   "source": [
    "base = base.copy()\n",
    "# Map des modalités M et H de la variable Country_HDI\n",
    "base[\"New_HDI\"] = np.select([base[\"Country_HDI\"] == \"M\", \n",
    "                             base[\"Country_HDI\"] == \"H\"],\n",
    "                            [\"I\", \"I\"], default=base[\"Country_HDI\"])"
   ]
  },
  {
   "cell_type": "code",
   "execution_count": 10,
   "id": "b586f9fc-fe4b-4ec0-94c1-26bd273156a6",
   "metadata": {},
   "outputs": [],
   "source": [
    "base = base.reset_index(level=0).rename({\"level_0\": \"Itération\"}, axis=1)"
   ]
  },
  {
   "cell_type": "code",
   "execution_count": 11,
   "id": "af5a03ea-802e-4db9-aca6-8602e3b1c773",
   "metadata": {},
   "outputs": [],
   "source": [
    "# Nombre de catégories (videos, quiz, exam...) par apprenant par place de séquence dans la semaine pour les différentes itérations\n",
    "groups = base.groupby([\"Student_ID\", \"Itération\"]).sum()\n",
    "\n",
    "# Nombre de passages à l'examen\n",
    "exam = groups[[\"Exam.bin\"]]\n",
    "\n",
    "# Nombre de Certifications\n",
    "certif = groups[[\"Certif.bin\"]]\n",
    "\n",
    "# Nombre de devoirs par apprenant\n",
    "devoir = groups[[\"Assignment.bin\"]]\n",
    "\n",
    "# Nombre de videos par apprenant par semaine pour chaque itération\n",
    "week_video = [pd.DataFrame(groups.loc[:, 'S1.L1':'S1.L6'].sum(axis=1), columns=[\"video.S1\"]),\n",
    "              pd.DataFrame(groups.loc[:, 'S2.L1':'S2.L6'].sum(axis=1), columns=[\"video.S2\"]),\n",
    "              pd.DataFrame(groups.loc[:, 'S3.L1.1':'S3.L5'].sum(axis=1), columns=[\"video.S3\"]),\n",
    "              pd.DataFrame(groups.loc[:, 'S4.L1.1':'S4.L5'].sum(axis=1), columns=[\"video.S4\"]), \n",
    "              pd.DataFrame(groups.loc[:, 'S5.L1.1':'S5.L5'].sum(axis=1), columns=[\"video.S5\"])]\n",
    "\n",
    "# Nombre de quiz par apprenant par semaine pour chaque itération\n",
    "week_quiz = [groups[[\"Quizz.1.bin\"]],\n",
    "             groups[[\"Quizz.2.bin\"]],\n",
    "             groups[[\"Quizz.3.bin\"]], \n",
    "             groups[[\"Quizz.4.bin\"]], \n",
    "             groups[[\"Quizz.5.bin\"]]]\n"
   ]
  },
  {
   "cell_type": "code",
   "execution_count": 12,
   "id": "9e50ebb4-c63f-4360-a67c-6fe8ca070116",
   "metadata": {},
   "outputs": [],
   "source": [
    "# Concaténation des videos et des questionnaires de l'ensemble des semaines \n",
    "compil_week_video = pd.concat(week_video, axis=1) \n",
    "compil_week_quiz = pd.concat(week_quiz, axis=1) "
   ]
  },
  {
   "cell_type": "code",
   "execution_count": 13,
   "id": "a28fcc6d-bfc5-407c-bac7-b9f133d3fa44",
   "metadata": {},
   "outputs": [
    {
     "data": {
      "text/html": [
       "<div>\n",
       "<style scoped>\n",
       "    .dataframe tbody tr th:only-of-type {\n",
       "        vertical-align: middle;\n",
       "    }\n",
       "\n",
       "    .dataframe tbody tr th {\n",
       "        vertical-align: top;\n",
       "    }\n",
       "\n",
       "    .dataframe thead th {\n",
       "        text-align: right;\n",
       "    }\n",
       "</style>\n",
       "<table border=\"1\" class=\"dataframe\">\n",
       "  <thead>\n",
       "    <tr style=\"text-align: right;\">\n",
       "      <th></th>\n",
       "      <th></th>\n",
       "      <th>video.S1</th>\n",
       "      <th>video.S2</th>\n",
       "      <th>video.S3</th>\n",
       "      <th>video.S4</th>\n",
       "      <th>video.S5</th>\n",
       "    </tr>\n",
       "    <tr>\n",
       "      <th>Student_ID</th>\n",
       "      <th>Itération</th>\n",
       "      <th></th>\n",
       "      <th></th>\n",
       "      <th></th>\n",
       "      <th></th>\n",
       "      <th></th>\n",
       "    </tr>\n",
       "  </thead>\n",
       "  <tbody>\n",
       "    <tr>\n",
       "      <th rowspan=\"2\" valign=\"top\">15</th>\n",
       "      <th>2</th>\n",
       "      <td>2</td>\n",
       "      <td>0</td>\n",
       "      <td>0</td>\n",
       "      <td>0</td>\n",
       "      <td>0</td>\n",
       "    </tr>\n",
       "    <tr>\n",
       "      <th>3</th>\n",
       "      <td>1</td>\n",
       "      <td>0</td>\n",
       "      <td>0</td>\n",
       "      <td>0</td>\n",
       "      <td>0</td>\n",
       "    </tr>\n",
       "    <tr>\n",
       "      <th>28</th>\n",
       "      <th>1</th>\n",
       "      <td>0</td>\n",
       "      <td>0</td>\n",
       "      <td>0</td>\n",
       "      <td>0</td>\n",
       "      <td>0</td>\n",
       "    </tr>\n",
       "    <tr>\n",
       "      <th>34</th>\n",
       "      <th>3</th>\n",
       "      <td>0</td>\n",
       "      <td>0</td>\n",
       "      <td>0</td>\n",
       "      <td>0</td>\n",
       "      <td>0</td>\n",
       "    </tr>\n",
       "    <tr>\n",
       "      <th>36</th>\n",
       "      <th>1</th>\n",
       "      <td>0</td>\n",
       "      <td>0</td>\n",
       "      <td>0</td>\n",
       "      <td>0</td>\n",
       "      <td>0</td>\n",
       "    </tr>\n",
       "  </tbody>\n",
       "</table>\n",
       "</div>"
      ],
      "text/plain": [
       "                      video.S1  video.S2  video.S3  video.S4  video.S5\n",
       "Student_ID Itération                                                  \n",
       "15         2                 2         0         0         0         0\n",
       "           3                 1         0         0         0         0\n",
       "28         1                 0         0         0         0         0\n",
       "34         3                 0         0         0         0         0\n",
       "36         1                 0         0         0         0         0"
      ]
     },
     "execution_count": 13,
     "metadata": {},
     "output_type": "execute_result"
    }
   ],
   "source": [
    "compil_week_video.head()"
   ]
  },
  {
   "cell_type": "code",
   "execution_count": 14,
   "id": "5f4824b5-e34d-4137-b036-e8548fbbedd7",
   "metadata": {},
   "outputs": [
    {
     "data": {
      "text/html": [
       "<div>\n",
       "<style scoped>\n",
       "    .dataframe tbody tr th:only-of-type {\n",
       "        vertical-align: middle;\n",
       "    }\n",
       "\n",
       "    .dataframe tbody tr th {\n",
       "        vertical-align: top;\n",
       "    }\n",
       "\n",
       "    .dataframe thead th {\n",
       "        text-align: right;\n",
       "    }\n",
       "</style>\n",
       "<table border=\"1\" class=\"dataframe\">\n",
       "  <thead>\n",
       "    <tr style=\"text-align: right;\">\n",
       "      <th></th>\n",
       "      <th></th>\n",
       "      <th>Quizz.1.bin</th>\n",
       "      <th>Quizz.2.bin</th>\n",
       "      <th>Quizz.3.bin</th>\n",
       "      <th>Quizz.4.bin</th>\n",
       "      <th>Quizz.5.bin</th>\n",
       "    </tr>\n",
       "    <tr>\n",
       "      <th>Student_ID</th>\n",
       "      <th>Itération</th>\n",
       "      <th></th>\n",
       "      <th></th>\n",
       "      <th></th>\n",
       "      <th></th>\n",
       "      <th></th>\n",
       "    </tr>\n",
       "  </thead>\n",
       "  <tbody>\n",
       "    <tr>\n",
       "      <th rowspan=\"2\" valign=\"top\">15</th>\n",
       "      <th>2</th>\n",
       "      <td>0</td>\n",
       "      <td>0</td>\n",
       "      <td>0</td>\n",
       "      <td>0</td>\n",
       "      <td>0</td>\n",
       "    </tr>\n",
       "    <tr>\n",
       "      <th>3</th>\n",
       "      <td>0</td>\n",
       "      <td>0</td>\n",
       "      <td>0</td>\n",
       "      <td>0</td>\n",
       "      <td>0</td>\n",
       "    </tr>\n",
       "    <tr>\n",
       "      <th>28</th>\n",
       "      <th>1</th>\n",
       "      <td>0</td>\n",
       "      <td>0</td>\n",
       "      <td>0</td>\n",
       "      <td>0</td>\n",
       "      <td>0</td>\n",
       "    </tr>\n",
       "    <tr>\n",
       "      <th>34</th>\n",
       "      <th>3</th>\n",
       "      <td>0</td>\n",
       "      <td>0</td>\n",
       "      <td>0</td>\n",
       "      <td>0</td>\n",
       "      <td>0</td>\n",
       "    </tr>\n",
       "    <tr>\n",
       "      <th>36</th>\n",
       "      <th>1</th>\n",
       "      <td>0</td>\n",
       "      <td>0</td>\n",
       "      <td>0</td>\n",
       "      <td>0</td>\n",
       "      <td>0</td>\n",
       "    </tr>\n",
       "  </tbody>\n",
       "</table>\n",
       "</div>"
      ],
      "text/plain": [
       "                      Quizz.1.bin  Quizz.2.bin  Quizz.3.bin  Quizz.4.bin  \\\n",
       "Student_ID Itération                                                       \n",
       "15         2                    0            0            0            0   \n",
       "           3                    0            0            0            0   \n",
       "28         1                    0            0            0            0   \n",
       "34         3                    0            0            0            0   \n",
       "36         1                    0            0            0            0   \n",
       "\n",
       "                      Quizz.5.bin  \n",
       "Student_ID Itération               \n",
       "15         2                    0  \n",
       "           3                    0  \n",
       "28         1                    0  \n",
       "34         3                    0  \n",
       "36         1                    0  "
      ]
     },
     "execution_count": 14,
     "metadata": {},
     "output_type": "execute_result"
    }
   ],
   "source": [
    "compil_week_quiz.head()"
   ]
  },
  {
   "cell_type": "code",
   "execution_count": 15,
   "id": "fd8af3f1-5ccf-40e5-8a6f-1eb6f4080ee7",
   "metadata": {},
   "outputs": [],
   "source": [
    "# Nombre de videos et questionnaires par itération par apprenant pour l'ensemble du MOOC.\n",
    "total_video = pd.DataFrame(compil_week_video.sum(axis=1), columns=[\"video\"])\n",
    "\n",
    "# Nombre de questionnaires par itération par apprenant pour l'ensemble du MOOC.\n",
    "total_quiz = pd.DataFrame(compil_week_quiz.sum(axis=1), columns=[\"quiz\"])"
   ]
  },
  {
   "cell_type": "code",
   "execution_count": 16,
   "id": "c714a629-a1de-4be3-99c8-8fe0ce7839e2",
   "metadata": {},
   "outputs": [
    {
     "data": {
      "text/html": [
       "<div>\n",
       "<style scoped>\n",
       "    .dataframe tbody tr th:only-of-type {\n",
       "        vertical-align: middle;\n",
       "    }\n",
       "\n",
       "    .dataframe tbody tr th {\n",
       "        vertical-align: top;\n",
       "    }\n",
       "\n",
       "    .dataframe thead th {\n",
       "        text-align: right;\n",
       "    }\n",
       "</style>\n",
       "<table border=\"1\" class=\"dataframe\">\n",
       "  <thead>\n",
       "    <tr style=\"text-align: right;\">\n",
       "      <th></th>\n",
       "      <th></th>\n",
       "      <th>video</th>\n",
       "    </tr>\n",
       "    <tr>\n",
       "      <th>Student_ID</th>\n",
       "      <th>Itération</th>\n",
       "      <th></th>\n",
       "    </tr>\n",
       "  </thead>\n",
       "  <tbody>\n",
       "    <tr>\n",
       "      <th rowspan=\"2\" valign=\"top\">15</th>\n",
       "      <th>2</th>\n",
       "      <td>2</td>\n",
       "    </tr>\n",
       "    <tr>\n",
       "      <th>3</th>\n",
       "      <td>1</td>\n",
       "    </tr>\n",
       "    <tr>\n",
       "      <th>28</th>\n",
       "      <th>1</th>\n",
       "      <td>0</td>\n",
       "    </tr>\n",
       "    <tr>\n",
       "      <th>34</th>\n",
       "      <th>3</th>\n",
       "      <td>0</td>\n",
       "    </tr>\n",
       "    <tr>\n",
       "      <th>36</th>\n",
       "      <th>1</th>\n",
       "      <td>0</td>\n",
       "    </tr>\n",
       "  </tbody>\n",
       "</table>\n",
       "</div>"
      ],
      "text/plain": [
       "                      video\n",
       "Student_ID Itération       \n",
       "15         2              2\n",
       "           3              1\n",
       "28         1              0\n",
       "34         3              0\n",
       "36         1              0"
      ]
     },
     "execution_count": 16,
     "metadata": {},
     "output_type": "execute_result"
    }
   ],
   "source": [
    "total_video.head()"
   ]
  },
  {
   "cell_type": "code",
   "execution_count": 17,
   "id": "58e9a246-5f2d-4724-839a-7e4e9cd2d945",
   "metadata": {},
   "outputs": [
    {
     "data": {
      "text/html": [
       "<div>\n",
       "<style scoped>\n",
       "    .dataframe tbody tr th:only-of-type {\n",
       "        vertical-align: middle;\n",
       "    }\n",
       "\n",
       "    .dataframe tbody tr th {\n",
       "        vertical-align: top;\n",
       "    }\n",
       "\n",
       "    .dataframe thead th {\n",
       "        text-align: right;\n",
       "    }\n",
       "</style>\n",
       "<table border=\"1\" class=\"dataframe\">\n",
       "  <thead>\n",
       "    <tr style=\"text-align: right;\">\n",
       "      <th></th>\n",
       "      <th></th>\n",
       "      <th>quiz</th>\n",
       "    </tr>\n",
       "    <tr>\n",
       "      <th>Student_ID</th>\n",
       "      <th>Itération</th>\n",
       "      <th></th>\n",
       "    </tr>\n",
       "  </thead>\n",
       "  <tbody>\n",
       "    <tr>\n",
       "      <th rowspan=\"2\" valign=\"top\">15</th>\n",
       "      <th>2</th>\n",
       "      <td>0</td>\n",
       "    </tr>\n",
       "    <tr>\n",
       "      <th>3</th>\n",
       "      <td>0</td>\n",
       "    </tr>\n",
       "    <tr>\n",
       "      <th>28</th>\n",
       "      <th>1</th>\n",
       "      <td>0</td>\n",
       "    </tr>\n",
       "    <tr>\n",
       "      <th>34</th>\n",
       "      <th>3</th>\n",
       "      <td>0</td>\n",
       "    </tr>\n",
       "    <tr>\n",
       "      <th>36</th>\n",
       "      <th>1</th>\n",
       "      <td>0</td>\n",
       "    </tr>\n",
       "  </tbody>\n",
       "</table>\n",
       "</div>"
      ],
      "text/plain": [
       "                      quiz\n",
       "Student_ID Itération      \n",
       "15         2             0\n",
       "           3             0\n",
       "28         1             0\n",
       "34         3             0\n",
       "36         1             0"
      ]
     },
     "execution_count": 17,
     "metadata": {},
     "output_type": "execute_result"
    }
   ],
   "source": [
    "total_quiz.head()"
   ]
  },
  {
   "cell_type": "code",
   "execution_count": 18,
   "id": "c8256030-9dac-4959-b9f7-b426beddb4ec",
   "metadata": {},
   "outputs": [],
   "source": [
    "# Création de la table regroupant toutes la variables pour mesurer l'engagement de chaque apprenant pour chaque itération\n",
    "total_student = pd.concat([total_video, total_quiz, devoir, exam, certif], axis=1)"
   ]
  },
  {
   "cell_type": "code",
   "execution_count": 19,
   "id": "6e46928f-6756-4c2e-9a3a-c83a40f2aa2d",
   "metadata": {},
   "outputs": [
    {
     "data": {
      "text/html": [
       "<div>\n",
       "<style scoped>\n",
       "    .dataframe tbody tr th:only-of-type {\n",
       "        vertical-align: middle;\n",
       "    }\n",
       "\n",
       "    .dataframe tbody tr th {\n",
       "        vertical-align: top;\n",
       "    }\n",
       "\n",
       "    .dataframe thead th {\n",
       "        text-align: right;\n",
       "    }\n",
       "</style>\n",
       "<table border=\"1\" class=\"dataframe\">\n",
       "  <thead>\n",
       "    <tr style=\"text-align: right;\">\n",
       "      <th></th>\n",
       "      <th></th>\n",
       "      <th>video</th>\n",
       "      <th>quiz</th>\n",
       "      <th>Assignment.bin</th>\n",
       "      <th>Exam.bin</th>\n",
       "      <th>Certif.bin</th>\n",
       "    </tr>\n",
       "    <tr>\n",
       "      <th>Student_ID</th>\n",
       "      <th>Itération</th>\n",
       "      <th></th>\n",
       "      <th></th>\n",
       "      <th></th>\n",
       "      <th></th>\n",
       "      <th></th>\n",
       "    </tr>\n",
       "  </thead>\n",
       "  <tbody>\n",
       "    <tr>\n",
       "      <th rowspan=\"2\" valign=\"top\">15</th>\n",
       "      <th>2</th>\n",
       "      <td>2</td>\n",
       "      <td>0</td>\n",
       "      <td>0</td>\n",
       "      <td>0</td>\n",
       "      <td>0</td>\n",
       "    </tr>\n",
       "    <tr>\n",
       "      <th>3</th>\n",
       "      <td>1</td>\n",
       "      <td>0</td>\n",
       "      <td>0</td>\n",
       "      <td>0</td>\n",
       "      <td>0</td>\n",
       "    </tr>\n",
       "    <tr>\n",
       "      <th>28</th>\n",
       "      <th>1</th>\n",
       "      <td>0</td>\n",
       "      <td>0</td>\n",
       "      <td>0</td>\n",
       "      <td>0</td>\n",
       "      <td>0</td>\n",
       "    </tr>\n",
       "    <tr>\n",
       "      <th>34</th>\n",
       "      <th>3</th>\n",
       "      <td>0</td>\n",
       "      <td>0</td>\n",
       "      <td>0</td>\n",
       "      <td>0</td>\n",
       "      <td>0</td>\n",
       "    </tr>\n",
       "    <tr>\n",
       "      <th>36</th>\n",
       "      <th>1</th>\n",
       "      <td>0</td>\n",
       "      <td>0</td>\n",
       "      <td>0</td>\n",
       "      <td>0</td>\n",
       "      <td>0</td>\n",
       "    </tr>\n",
       "  </tbody>\n",
       "</table>\n",
       "</div>"
      ],
      "text/plain": [
       "                      video  quiz  Assignment.bin  Exam.bin  Certif.bin\n",
       "Student_ID Itération                                                   \n",
       "15         2              2     0               0         0           0\n",
       "           3              1     0               0         0           0\n",
       "28         1              0     0               0         0           0\n",
       "34         3              0     0               0         0           0\n",
       "36         1              0     0               0         0           0"
      ]
     },
     "execution_count": 19,
     "metadata": {},
     "output_type": "execute_result"
    }
   ],
   "source": [
    "total_student.head()"
   ]
  },
  {
   "cell_type": "code",
   "execution_count": 20,
   "id": "aa354dd3-d9c4-4a5f-8f2f-a1b0c4498624",
   "metadata": {},
   "outputs": [],
   "source": [
    "# Sélection des itérations\n",
    "#total_student.xs(1, level=1)"
   ]
  },
  {
   "cell_type": "code",
   "execution_count": 21,
   "id": "5dde79e8-1727-441e-aa44-13c3684f91ec",
   "metadata": {},
   "outputs": [],
   "source": [
    "# selection des types d'apprenant\n",
    "def student_type(col):\n",
    "    video, quiz, devoir, exam, certif = col\n",
    "    if (exam >= 1 or certif >= 1):\n",
    "        return \"Completer\"\n",
    "    elif quiz > 0 and devoir > 0:\n",
    "        return \"Disengaging\"\n",
    "    elif video > 6:\n",
    "        return \"Auditing\"\n",
    "    else:\n",
    "        return \"Bystander\"    "
   ]
  },
  {
   "cell_type": "code",
   "execution_count": 22,
   "id": "36f98ead-9eb7-4d87-83cb-2507c915c4f3",
   "metadata": {},
   "outputs": [],
   "source": [
    "total_student[\"Type\"] = total_student.apply(student_type, axis=1)"
   ]
  },
  {
   "cell_type": "code",
   "execution_count": 23,
   "id": "9d1134f9-c554-4649-920c-eb4cf9614ff7",
   "metadata": {},
   "outputs": [
    {
     "data": {
      "text/html": [
       "<div>\n",
       "<style scoped>\n",
       "    .dataframe tbody tr th:only-of-type {\n",
       "        vertical-align: middle;\n",
       "    }\n",
       "\n",
       "    .dataframe tbody tr th {\n",
       "        vertical-align: top;\n",
       "    }\n",
       "\n",
       "    .dataframe thead th {\n",
       "        text-align: right;\n",
       "    }\n",
       "</style>\n",
       "<table border=\"1\" class=\"dataframe\">\n",
       "  <thead>\n",
       "    <tr style=\"text-align: right;\">\n",
       "      <th></th>\n",
       "      <th></th>\n",
       "      <th>video</th>\n",
       "      <th>quiz</th>\n",
       "      <th>Assignment.bin</th>\n",
       "      <th>Exam.bin</th>\n",
       "      <th>Certif.bin</th>\n",
       "      <th>Type</th>\n",
       "    </tr>\n",
       "    <tr>\n",
       "      <th>Student_ID</th>\n",
       "      <th>Itération</th>\n",
       "      <th></th>\n",
       "      <th></th>\n",
       "      <th></th>\n",
       "      <th></th>\n",
       "      <th></th>\n",
       "      <th></th>\n",
       "    </tr>\n",
       "  </thead>\n",
       "  <tbody>\n",
       "    <tr>\n",
       "      <th rowspan=\"2\" valign=\"top\">15</th>\n",
       "      <th>2</th>\n",
       "      <td>2</td>\n",
       "      <td>0</td>\n",
       "      <td>0</td>\n",
       "      <td>0</td>\n",
       "      <td>0</td>\n",
       "      <td>Bystander</td>\n",
       "    </tr>\n",
       "    <tr>\n",
       "      <th>3</th>\n",
       "      <td>1</td>\n",
       "      <td>0</td>\n",
       "      <td>0</td>\n",
       "      <td>0</td>\n",
       "      <td>0</td>\n",
       "      <td>Bystander</td>\n",
       "    </tr>\n",
       "    <tr>\n",
       "      <th>28</th>\n",
       "      <th>1</th>\n",
       "      <td>0</td>\n",
       "      <td>0</td>\n",
       "      <td>0</td>\n",
       "      <td>0</td>\n",
       "      <td>0</td>\n",
       "      <td>Bystander</td>\n",
       "    </tr>\n",
       "    <tr>\n",
       "      <th>34</th>\n",
       "      <th>3</th>\n",
       "      <td>0</td>\n",
       "      <td>0</td>\n",
       "      <td>0</td>\n",
       "      <td>0</td>\n",
       "      <td>0</td>\n",
       "      <td>Bystander</td>\n",
       "    </tr>\n",
       "    <tr>\n",
       "      <th>36</th>\n",
       "      <th>1</th>\n",
       "      <td>0</td>\n",
       "      <td>0</td>\n",
       "      <td>0</td>\n",
       "      <td>0</td>\n",
       "      <td>0</td>\n",
       "      <td>Bystander</td>\n",
       "    </tr>\n",
       "    <tr>\n",
       "      <th>45</th>\n",
       "      <th>1</th>\n",
       "      <td>25</td>\n",
       "      <td>5</td>\n",
       "      <td>0</td>\n",
       "      <td>0</td>\n",
       "      <td>0</td>\n",
       "      <td>Auditing</td>\n",
       "    </tr>\n",
       "    <tr>\n",
       "      <th>83</th>\n",
       "      <th>1</th>\n",
       "      <td>22</td>\n",
       "      <td>5</td>\n",
       "      <td>1</td>\n",
       "      <td>0</td>\n",
       "      <td>0</td>\n",
       "      <td>Disengaging</td>\n",
       "    </tr>\n",
       "    <tr>\n",
       "      <th>84</th>\n",
       "      <th>1</th>\n",
       "      <td>8</td>\n",
       "      <td>2</td>\n",
       "      <td>0</td>\n",
       "      <td>0</td>\n",
       "      <td>0</td>\n",
       "      <td>Auditing</td>\n",
       "    </tr>\n",
       "    <tr>\n",
       "      <th>87</th>\n",
       "      <th>1</th>\n",
       "      <td>1</td>\n",
       "      <td>0</td>\n",
       "      <td>0</td>\n",
       "      <td>0</td>\n",
       "      <td>0</td>\n",
       "      <td>Bystander</td>\n",
       "    </tr>\n",
       "    <tr>\n",
       "      <th>88</th>\n",
       "      <th>3</th>\n",
       "      <td>1</td>\n",
       "      <td>0</td>\n",
       "      <td>0</td>\n",
       "      <td>0</td>\n",
       "      <td>0</td>\n",
       "      <td>Bystander</td>\n",
       "    </tr>\n",
       "  </tbody>\n",
       "</table>\n",
       "</div>"
      ],
      "text/plain": [
       "                      video  quiz  Assignment.bin  Exam.bin  Certif.bin  \\\n",
       "Student_ID Itération                                                      \n",
       "15         2              2     0               0         0           0   \n",
       "           3              1     0               0         0           0   \n",
       "28         1              0     0               0         0           0   \n",
       "34         3              0     0               0         0           0   \n",
       "36         1              0     0               0         0           0   \n",
       "45         1             25     5               0         0           0   \n",
       "83         1             22     5               1         0           0   \n",
       "84         1              8     2               0         0           0   \n",
       "87         1              1     0               0         0           0   \n",
       "88         3              1     0               0         0           0   \n",
       "\n",
       "                             Type  \n",
       "Student_ID Itération               \n",
       "15         2            Bystander  \n",
       "           3            Bystander  \n",
       "28         1            Bystander  \n",
       "34         3            Bystander  \n",
       "36         1            Bystander  \n",
       "45         1             Auditing  \n",
       "83         1          Disengaging  \n",
       "84         1             Auditing  \n",
       "87         1            Bystander  \n",
       "88         3            Bystander  "
      ]
     },
     "execution_count": 23,
     "metadata": {},
     "output_type": "execute_result"
    }
   ],
   "source": [
    "total_student.head(10)"
   ]
  },
  {
   "cell_type": "code",
   "execution_count": 24,
   "id": "643206f8-0553-4904-95b3-1b9fd9d4c03a",
   "metadata": {},
   "outputs": [],
   "source": [
    "student = total_student.reset_index()[[\"Student_ID\", \"Type\", \"Itération\"]]"
   ]
  },
  {
   "cell_type": "code",
   "execution_count": 25,
   "id": "77a5d9ec-4054-4d69-a5ee-47d68014a25d",
   "metadata": {},
   "outputs": [
    {
     "data": {
      "text/plain": [
       "Bystander      8691\n",
       "Disengaging    2643\n",
       "Auditing       2120\n",
       "Completer      1728\n",
       "Name: Type, dtype: int64"
      ]
     },
     "execution_count": 25,
     "metadata": {},
     "output_type": "execute_result"
    }
   ],
   "source": [
    "student[\"Type\"].value_counts()"
   ]
  },
  {
   "cell_type": "code",
   "execution_count": 26,
   "id": "4aae8268-d2a3-4bd6-8078-7a659898c08b",
   "metadata": {},
   "outputs": [],
   "source": [
    "# Calcul du nombre d'apprenants par type et par itération\n",
    "df_type = student.groupby([\"Itération\", \"Type\"])[[\"Type\"]].count().rename({'Type': 'total'}, axis=1)"
   ]
  },
  {
   "cell_type": "code",
   "execution_count": 27,
   "id": "9c463b86-ccc1-4996-89b4-81f862ee5757",
   "metadata": {},
   "outputs": [
    {
     "data": {
      "text/html": [
       "<div>\n",
       "<style scoped>\n",
       "    .dataframe tbody tr th:only-of-type {\n",
       "        vertical-align: middle;\n",
       "    }\n",
       "\n",
       "    .dataframe tbody tr th {\n",
       "        vertical-align: top;\n",
       "    }\n",
       "\n",
       "    .dataframe thead th {\n",
       "        text-align: right;\n",
       "    }\n",
       "</style>\n",
       "<table border=\"1\" class=\"dataframe\">\n",
       "  <thead>\n",
       "    <tr style=\"text-align: right;\">\n",
       "      <th></th>\n",
       "      <th></th>\n",
       "      <th>total</th>\n",
       "    </tr>\n",
       "    <tr>\n",
       "      <th>Itération</th>\n",
       "      <th>Type</th>\n",
       "      <th></th>\n",
       "    </tr>\n",
       "  </thead>\n",
       "  <tbody>\n",
       "    <tr>\n",
       "      <th rowspan=\"4\" valign=\"top\">1</th>\n",
       "      <th>Auditing</th>\n",
       "      <td>1207</td>\n",
       "    </tr>\n",
       "    <tr>\n",
       "      <th>Bystander</th>\n",
       "      <td>4285</td>\n",
       "    </tr>\n",
       "    <tr>\n",
       "      <th>Completer</th>\n",
       "      <td>20</td>\n",
       "    </tr>\n",
       "    <tr>\n",
       "      <th>Disengaging</th>\n",
       "      <td>2453</td>\n",
       "    </tr>\n",
       "    <tr>\n",
       "      <th rowspan=\"4\" valign=\"top\">2</th>\n",
       "      <th>Auditing</th>\n",
       "      <td>538</td>\n",
       "    </tr>\n",
       "    <tr>\n",
       "      <th>Bystander</th>\n",
       "      <td>2168</td>\n",
       "    </tr>\n",
       "    <tr>\n",
       "      <th>Completer</th>\n",
       "      <td>876</td>\n",
       "    </tr>\n",
       "    <tr>\n",
       "      <th>Disengaging</th>\n",
       "      <td>120</td>\n",
       "    </tr>\n",
       "    <tr>\n",
       "      <th rowspan=\"4\" valign=\"top\">3</th>\n",
       "      <th>Auditing</th>\n",
       "      <td>375</td>\n",
       "    </tr>\n",
       "    <tr>\n",
       "      <th>Bystander</th>\n",
       "      <td>2238</td>\n",
       "    </tr>\n",
       "    <tr>\n",
       "      <th>Completer</th>\n",
       "      <td>832</td>\n",
       "    </tr>\n",
       "    <tr>\n",
       "      <th>Disengaging</th>\n",
       "      <td>70</td>\n",
       "    </tr>\n",
       "  </tbody>\n",
       "</table>\n",
       "</div>"
      ],
      "text/plain": [
       "                       total\n",
       "Itération Type              \n",
       "1         Auditing      1207\n",
       "          Bystander     4285\n",
       "          Completer       20\n",
       "          Disengaging   2453\n",
       "2         Auditing       538\n",
       "          Bystander     2168\n",
       "          Completer      876\n",
       "          Disengaging    120\n",
       "3         Auditing       375\n",
       "          Bystander     2238\n",
       "          Completer      832\n",
       "          Disengaging     70"
      ]
     },
     "execution_count": 27,
     "metadata": {},
     "output_type": "execute_result"
    }
   ],
   "source": [
    "df_type"
   ]
  },
  {
   "cell_type": "code",
   "execution_count": 28,
   "id": "f6244c3e-5d71-4342-9a71-a402005f1b8b",
   "metadata": {},
   "outputs": [],
   "source": [
    "df_type.reset_index(\"Type\", inplace=True)"
   ]
  },
  {
   "cell_type": "code",
   "execution_count": 29,
   "id": "b4260027-f78b-4682-9001-e2e8de6ce8c0",
   "metadata": {},
   "outputs": [],
   "source": [
    "# Nombre total d'apprenants par itération\n",
    "df_iter = df_type.groupby(\"Itération\").sum()"
   ]
  },
  {
   "cell_type": "code",
   "execution_count": 30,
   "id": "35f6aa69-f671-4281-a14b-81150bafb406",
   "metadata": {},
   "outputs": [
    {
     "data": {
      "text/html": [
       "<div>\n",
       "<style scoped>\n",
       "    .dataframe tbody tr th:only-of-type {\n",
       "        vertical-align: middle;\n",
       "    }\n",
       "\n",
       "    .dataframe tbody tr th {\n",
       "        vertical-align: top;\n",
       "    }\n",
       "\n",
       "    .dataframe thead th {\n",
       "        text-align: right;\n",
       "    }\n",
       "</style>\n",
       "<table border=\"1\" class=\"dataframe\">\n",
       "  <thead>\n",
       "    <tr style=\"text-align: right;\">\n",
       "      <th></th>\n",
       "      <th>total</th>\n",
       "    </tr>\n",
       "    <tr>\n",
       "      <th>Itération</th>\n",
       "      <th></th>\n",
       "    </tr>\n",
       "  </thead>\n",
       "  <tbody>\n",
       "    <tr>\n",
       "      <th>1</th>\n",
       "      <td>7965</td>\n",
       "    </tr>\n",
       "    <tr>\n",
       "      <th>2</th>\n",
       "      <td>3702</td>\n",
       "    </tr>\n",
       "    <tr>\n",
       "      <th>3</th>\n",
       "      <td>3515</td>\n",
       "    </tr>\n",
       "  </tbody>\n",
       "</table>\n",
       "</div>"
      ],
      "text/plain": [
       "           total\n",
       "Itération       \n",
       "1           7965\n",
       "2           3702\n",
       "3           3515"
      ]
     },
     "execution_count": 30,
     "metadata": {},
     "output_type": "execute_result"
    }
   ],
   "source": [
    "df_iter"
   ]
  },
  {
   "cell_type": "code",
   "execution_count": 31,
   "id": "2b23265f-ac4f-498f-a1d5-03ed2aa2a8ef",
   "metadata": {},
   "outputs": [],
   "source": [
    "total_iter = df_type.merge(df_iter, on=\"Itération\", suffixes=[\"_type\", \"_iter\"])"
   ]
  },
  {
   "cell_type": "code",
   "execution_count": 32,
   "id": "fc93b8d5-2b6b-4211-b9f6-b78ca4022943",
   "metadata": {},
   "outputs": [
    {
     "data": {
      "text/html": [
       "<div>\n",
       "<style scoped>\n",
       "    .dataframe tbody tr th:only-of-type {\n",
       "        vertical-align: middle;\n",
       "    }\n",
       "\n",
       "    .dataframe tbody tr th {\n",
       "        vertical-align: top;\n",
       "    }\n",
       "\n",
       "    .dataframe thead th {\n",
       "        text-align: right;\n",
       "    }\n",
       "</style>\n",
       "<table border=\"1\" class=\"dataframe\">\n",
       "  <thead>\n",
       "    <tr style=\"text-align: right;\">\n",
       "      <th></th>\n",
       "      <th>Type</th>\n",
       "      <th>total_type</th>\n",
       "      <th>total_iter</th>\n",
       "    </tr>\n",
       "    <tr>\n",
       "      <th>Itération</th>\n",
       "      <th></th>\n",
       "      <th></th>\n",
       "      <th></th>\n",
       "    </tr>\n",
       "  </thead>\n",
       "  <tbody>\n",
       "    <tr>\n",
       "      <th>1</th>\n",
       "      <td>Auditing</td>\n",
       "      <td>1207</td>\n",
       "      <td>7965</td>\n",
       "    </tr>\n",
       "    <tr>\n",
       "      <th>1</th>\n",
       "      <td>Bystander</td>\n",
       "      <td>4285</td>\n",
       "      <td>7965</td>\n",
       "    </tr>\n",
       "    <tr>\n",
       "      <th>1</th>\n",
       "      <td>Completer</td>\n",
       "      <td>20</td>\n",
       "      <td>7965</td>\n",
       "    </tr>\n",
       "    <tr>\n",
       "      <th>1</th>\n",
       "      <td>Disengaging</td>\n",
       "      <td>2453</td>\n",
       "      <td>7965</td>\n",
       "    </tr>\n",
       "    <tr>\n",
       "      <th>2</th>\n",
       "      <td>Auditing</td>\n",
       "      <td>538</td>\n",
       "      <td>3702</td>\n",
       "    </tr>\n",
       "    <tr>\n",
       "      <th>2</th>\n",
       "      <td>Bystander</td>\n",
       "      <td>2168</td>\n",
       "      <td>3702</td>\n",
       "    </tr>\n",
       "    <tr>\n",
       "      <th>2</th>\n",
       "      <td>Completer</td>\n",
       "      <td>876</td>\n",
       "      <td>3702</td>\n",
       "    </tr>\n",
       "    <tr>\n",
       "      <th>2</th>\n",
       "      <td>Disengaging</td>\n",
       "      <td>120</td>\n",
       "      <td>3702</td>\n",
       "    </tr>\n",
       "    <tr>\n",
       "      <th>3</th>\n",
       "      <td>Auditing</td>\n",
       "      <td>375</td>\n",
       "      <td>3515</td>\n",
       "    </tr>\n",
       "    <tr>\n",
       "      <th>3</th>\n",
       "      <td>Bystander</td>\n",
       "      <td>2238</td>\n",
       "      <td>3515</td>\n",
       "    </tr>\n",
       "    <tr>\n",
       "      <th>3</th>\n",
       "      <td>Completer</td>\n",
       "      <td>832</td>\n",
       "      <td>3515</td>\n",
       "    </tr>\n",
       "    <tr>\n",
       "      <th>3</th>\n",
       "      <td>Disengaging</td>\n",
       "      <td>70</td>\n",
       "      <td>3515</td>\n",
       "    </tr>\n",
       "  </tbody>\n",
       "</table>\n",
       "</div>"
      ],
      "text/plain": [
       "                  Type  total_type  total_iter\n",
       "Itération                                     \n",
       "1             Auditing        1207        7965\n",
       "1            Bystander        4285        7965\n",
       "1            Completer          20        7965\n",
       "1          Disengaging        2453        7965\n",
       "2             Auditing         538        3702\n",
       "2            Bystander        2168        3702\n",
       "2            Completer         876        3702\n",
       "2          Disengaging         120        3702\n",
       "3             Auditing         375        3515\n",
       "3            Bystander        2238        3515\n",
       "3            Completer         832        3515\n",
       "3          Disengaging          70        3515"
      ]
     },
     "execution_count": 32,
     "metadata": {},
     "output_type": "execute_result"
    }
   ],
   "source": [
    "total_iter"
   ]
  },
  {
   "cell_type": "code",
   "execution_count": 33,
   "id": "dfb8b08d-982c-4604-9a17-98d92b1d9a8b",
   "metadata": {},
   "outputs": [],
   "source": [
    "# Proportion d'apprenants par types d'apprenants et par itération\n",
    "total_iter[\"proportion/iter\"] = round(total_iter[\"total_type\"] / total_iter[\"total_iter\"] * 100, 1)"
   ]
  },
  {
   "cell_type": "code",
   "execution_count": 34,
   "id": "ebe2a31a-3f71-4b51-8d80-acf149d6d78a",
   "metadata": {},
   "outputs": [
    {
     "data": {
      "text/html": [
       "<div>\n",
       "<style scoped>\n",
       "    .dataframe tbody tr th:only-of-type {\n",
       "        vertical-align: middle;\n",
       "    }\n",
       "\n",
       "    .dataframe tbody tr th {\n",
       "        vertical-align: top;\n",
       "    }\n",
       "\n",
       "    .dataframe thead th {\n",
       "        text-align: right;\n",
       "    }\n",
       "</style>\n",
       "<table border=\"1\" class=\"dataframe\">\n",
       "  <thead>\n",
       "    <tr style=\"text-align: right;\">\n",
       "      <th></th>\n",
       "      <th>Type</th>\n",
       "      <th>total_type</th>\n",
       "      <th>total_iter</th>\n",
       "      <th>proportion/iter</th>\n",
       "    </tr>\n",
       "    <tr>\n",
       "      <th>Itération</th>\n",
       "      <th></th>\n",
       "      <th></th>\n",
       "      <th></th>\n",
       "      <th></th>\n",
       "    </tr>\n",
       "  </thead>\n",
       "  <tbody>\n",
       "    <tr>\n",
       "      <th>1</th>\n",
       "      <td>Auditing</td>\n",
       "      <td>1207</td>\n",
       "      <td>7965</td>\n",
       "      <td>15.2</td>\n",
       "    </tr>\n",
       "    <tr>\n",
       "      <th>1</th>\n",
       "      <td>Bystander</td>\n",
       "      <td>4285</td>\n",
       "      <td>7965</td>\n",
       "      <td>53.8</td>\n",
       "    </tr>\n",
       "    <tr>\n",
       "      <th>1</th>\n",
       "      <td>Completer</td>\n",
       "      <td>20</td>\n",
       "      <td>7965</td>\n",
       "      <td>0.3</td>\n",
       "    </tr>\n",
       "    <tr>\n",
       "      <th>1</th>\n",
       "      <td>Disengaging</td>\n",
       "      <td>2453</td>\n",
       "      <td>7965</td>\n",
       "      <td>30.8</td>\n",
       "    </tr>\n",
       "    <tr>\n",
       "      <th>2</th>\n",
       "      <td>Auditing</td>\n",
       "      <td>538</td>\n",
       "      <td>3702</td>\n",
       "      <td>14.5</td>\n",
       "    </tr>\n",
       "    <tr>\n",
       "      <th>2</th>\n",
       "      <td>Bystander</td>\n",
       "      <td>2168</td>\n",
       "      <td>3702</td>\n",
       "      <td>58.6</td>\n",
       "    </tr>\n",
       "    <tr>\n",
       "      <th>2</th>\n",
       "      <td>Completer</td>\n",
       "      <td>876</td>\n",
       "      <td>3702</td>\n",
       "      <td>23.7</td>\n",
       "    </tr>\n",
       "    <tr>\n",
       "      <th>2</th>\n",
       "      <td>Disengaging</td>\n",
       "      <td>120</td>\n",
       "      <td>3702</td>\n",
       "      <td>3.2</td>\n",
       "    </tr>\n",
       "    <tr>\n",
       "      <th>3</th>\n",
       "      <td>Auditing</td>\n",
       "      <td>375</td>\n",
       "      <td>3515</td>\n",
       "      <td>10.7</td>\n",
       "    </tr>\n",
       "    <tr>\n",
       "      <th>3</th>\n",
       "      <td>Bystander</td>\n",
       "      <td>2238</td>\n",
       "      <td>3515</td>\n",
       "      <td>63.7</td>\n",
       "    </tr>\n",
       "    <tr>\n",
       "      <th>3</th>\n",
       "      <td>Completer</td>\n",
       "      <td>832</td>\n",
       "      <td>3515</td>\n",
       "      <td>23.7</td>\n",
       "    </tr>\n",
       "    <tr>\n",
       "      <th>3</th>\n",
       "      <td>Disengaging</td>\n",
       "      <td>70</td>\n",
       "      <td>3515</td>\n",
       "      <td>2.0</td>\n",
       "    </tr>\n",
       "  </tbody>\n",
       "</table>\n",
       "</div>"
      ],
      "text/plain": [
       "                  Type  total_type  total_iter  proportion/iter\n",
       "Itération                                                      \n",
       "1             Auditing        1207        7965             15.2\n",
       "1            Bystander        4285        7965             53.8\n",
       "1            Completer          20        7965              0.3\n",
       "1          Disengaging        2453        7965             30.8\n",
       "2             Auditing         538        3702             14.5\n",
       "2            Bystander        2168        3702             58.6\n",
       "2            Completer         876        3702             23.7\n",
       "2          Disengaging         120        3702              3.2\n",
       "3             Auditing         375        3515             10.7\n",
       "3            Bystander        2238        3515             63.7\n",
       "3            Completer         832        3515             23.7\n",
       "3          Disengaging          70        3515              2.0"
      ]
     },
     "execution_count": 34,
     "metadata": {},
     "output_type": "execute_result"
    }
   ],
   "source": [
    "total_iter"
   ]
  },
  {
   "cell_type": "code",
   "execution_count": 35,
   "id": "6ed28c98-5a32-44d6-a8fc-91688b7c7ac7",
   "metadata": {},
   "outputs": [],
   "source": [
    "base[\"Genre\"] = base[\"Gender\"].map({\"un homme\": \"Homme\", \"une femme\": \"Femme\"})"
   ]
  },
  {
   "cell_type": "code",
   "execution_count": 36,
   "id": "fbe60321-a403-432a-a957-adc9ed487a42",
   "metadata": {},
   "outputs": [],
   "source": [
    "# Tableau de contingence (croisement des 2 variables catégorielles)\n",
    "tab_obs = pd.crosstab(index=base[\"Genre\"], columns=base[\"New_HDI\"])"
   ]
  },
  {
   "cell_type": "code",
   "execution_count": 37,
   "id": "c592289d-878c-4e9c-a47a-bfcf1e5f5628",
   "metadata": {},
   "outputs": [],
   "source": [
    "tab_obs.rename(columns={\"un homme\": \"H\", \"une femme\": \"F\"}, inplace=True)"
   ]
  },
  {
   "cell_type": "code",
   "execution_count": 38,
   "id": "88de88d1-7dc0-463c-ba51-50c7d17a0f2b",
   "metadata": {},
   "outputs": [
    {
     "data": {
      "text/html": [
       "<div>\n",
       "<style scoped>\n",
       "    .dataframe tbody tr th:only-of-type {\n",
       "        vertical-align: middle;\n",
       "    }\n",
       "\n",
       "    .dataframe tbody tr th {\n",
       "        vertical-align: top;\n",
       "    }\n",
       "\n",
       "    .dataframe thead th {\n",
       "        text-align: right;\n",
       "    }\n",
       "</style>\n",
       "<table border=\"1\" class=\"dataframe\">\n",
       "  <thead>\n",
       "    <tr style=\"text-align: right;\">\n",
       "      <th>New_HDI</th>\n",
       "      <th>B</th>\n",
       "      <th>I</th>\n",
       "      <th>TH</th>\n",
       "    </tr>\n",
       "    <tr>\n",
       "      <th>Genre</th>\n",
       "      <th></th>\n",
       "      <th></th>\n",
       "      <th></th>\n",
       "    </tr>\n",
       "  </thead>\n",
       "  <tbody>\n",
       "    <tr>\n",
       "      <th>Femme</th>\n",
       "      <td>147</td>\n",
       "      <td>233</td>\n",
       "      <td>2545</td>\n",
       "    </tr>\n",
       "    <tr>\n",
       "      <th>Homme</th>\n",
       "      <td>883</td>\n",
       "      <td>432</td>\n",
       "      <td>4711</td>\n",
       "    </tr>\n",
       "  </tbody>\n",
       "</table>\n",
       "</div>"
      ],
      "text/plain": [
       "New_HDI    B    I    TH\n",
       "Genre                  \n",
       "Femme    147  233  2545\n",
       "Homme    883  432  4711"
      ]
     },
     "execution_count": 38,
     "metadata": {},
     "output_type": "execute_result"
    }
   ],
   "source": [
    "tab_obs"
   ]
  },
  {
   "cell_type": "code",
   "execution_count": 39,
   "id": "bc48c6e2-1158-4c12-90dc-581a6c810b26",
   "metadata": {},
   "outputs": [],
   "source": [
    "# Test d'indépendance (chi2)\n",
    "chi2, p_value, degres_liberte, tableau_attendu = chi2_contingency(tab_obs)"
   ]
  },
  {
   "cell_type": "code",
   "execution_count": 40,
   "id": "8a9ad5d2-32c8-4ae6-a3f8-37db8d5d85fb",
   "metadata": {},
   "outputs": [
    {
     "data": {
      "text/plain": [
       "array([[ 336.58250475,  217.308122  , 2371.10937325],\n",
       "       [ 693.41749525,  447.691878  , 4884.89062675]])"
      ]
     },
     "execution_count": 40,
     "metadata": {},
     "output_type": "execute_result"
    }
   ],
   "source": [
    "tableau_attendu"
   ]
  },
  {
   "cell_type": "code",
   "execution_count": 41,
   "id": "1cb6760d-b39b-4d51-a558-3feb1d3e7d80",
   "metadata": {},
   "outputs": [
    {
     "data": {
      "text/plain": [
       "179.2420322171424"
      ]
     },
     "execution_count": 41,
     "metadata": {},
     "output_type": "execute_result"
    }
   ],
   "source": [
    "chi2"
   ]
  },
  {
   "cell_type": "code",
   "execution_count": 42,
   "id": "b4385d55-faad-4b44-aac7-5d8331e159fa",
   "metadata": {},
   "outputs": [
    {
     "data": {
      "text/plain": [
       "1.196980957821505e-39"
      ]
     },
     "execution_count": 42,
     "metadata": {},
     "output_type": "execute_result"
    }
   ],
   "source": [
    "p_value"
   ]
  },
  {
   "attachments": {},
   "cell_type": "markdown",
   "id": "42132b4a-6b32-4fb2-b45c-ce282de83c4c",
   "metadata": {},
   "source": [
    "La p value est < 5% indiquerait que l'index HDI serait significativement lié au genre puisqu'il y a moins de 5 % de chance que les 2 variables soient indépendantes."
   ]
  },
  {
   "cell_type": "code",
   "execution_count": 43,
   "id": "32d5942e-4a76-4d17-9b7c-90118c17c391",
   "metadata": {},
   "outputs": [],
   "source": [
    "#residus = (tab_HDI_gender - tableau_attendu) / tableau_attendu\n",
    "residus = tab_obs - tableau_attendu"
   ]
  },
  {
   "cell_type": "code",
   "execution_count": 44,
   "id": "640abdaa-b67c-4766-974a-653754d5d9a0",
   "metadata": {},
   "outputs": [
    {
     "data": {
      "text/html": [
       "<div>\n",
       "<style scoped>\n",
       "    .dataframe tbody tr th:only-of-type {\n",
       "        vertical-align: middle;\n",
       "    }\n",
       "\n",
       "    .dataframe tbody tr th {\n",
       "        vertical-align: top;\n",
       "    }\n",
       "\n",
       "    .dataframe thead th {\n",
       "        text-align: right;\n",
       "    }\n",
       "</style>\n",
       "<table border=\"1\" class=\"dataframe\">\n",
       "  <thead>\n",
       "    <tr style=\"text-align: right;\">\n",
       "      <th>New_HDI</th>\n",
       "      <th>B</th>\n",
       "      <th>I</th>\n",
       "      <th>TH</th>\n",
       "    </tr>\n",
       "    <tr>\n",
       "      <th>Genre</th>\n",
       "      <th></th>\n",
       "      <th></th>\n",
       "      <th></th>\n",
       "    </tr>\n",
       "  </thead>\n",
       "  <tbody>\n",
       "    <tr>\n",
       "      <th>Femme</th>\n",
       "      <td>-189.582505</td>\n",
       "      <td>15.691878</td>\n",
       "      <td>173.890627</td>\n",
       "    </tr>\n",
       "    <tr>\n",
       "      <th>Homme</th>\n",
       "      <td>189.582505</td>\n",
       "      <td>-15.691878</td>\n",
       "      <td>-173.890627</td>\n",
       "    </tr>\n",
       "  </tbody>\n",
       "</table>\n",
       "</div>"
      ],
      "text/plain": [
       "New_HDI           B          I          TH\n",
       "Genre                                     \n",
       "Femme   -189.582505  15.691878  173.890627\n",
       "Homme    189.582505 -15.691878 -173.890627"
      ]
     },
     "execution_count": 44,
     "metadata": {},
     "output_type": "execute_result"
    }
   ],
   "source": [
    "residus"
   ]
  },
  {
   "cell_type": "code",
   "execution_count": 45,
   "id": "89233505-388d-46de-8747-73b964e3d962",
   "metadata": {},
   "outputs": [
    {
     "data": {
      "image/png": "[encoded data removed]",
      "text/plain": [
       "<Figure size 576x360 with 3 Axes>"
      ]
     },
     "metadata": {
      "needs_background": "light"
     },
     "output_type": "display_data"
    }
   ],
   "source": [
    "# Mosaic du tableau de contingence\n",
    "#props = lambda key: {'color': 'red' if residus(key[0]) > 0 else 'blue'},\n",
    "fig, ax = plt.subplots(figsize=(8,5))\n",
    "mosaic(tab_obs.stack(), statistic=True, gap=0.02, horizontal=False, ax=ax)\n",
    "ax.set_xlabel(\"HDI\")\n",
    "ax.set_ylabel(\"Genre\")\n",
    "plt.savefig(\"../graph/mosaic_contingence.png\")\n",
    "plt.show()"
   ]
  },
  {
   "cell_type": "code",
   "execution_count": 46,
   "id": "023507ca-470c-44b9-bb36-1355297b4294",
   "metadata": {},
   "outputs": [],
   "source": [
    "# valeurs attendues sous l'hypothèse nulle (H0).\n",
    "x = tableau_attendu.flatten()"
   ]
  },
  {
   "cell_type": "code",
   "execution_count": 47,
   "id": "c47d3704-e6ed-4b34-b1be-90cd06d8a8ae",
   "metadata": {},
   "outputs": [
    {
     "data": {
      "text/plain": [
       "array([ 336.58250475,  217.308122  , 2371.10937325,  693.41749525,\n",
       "        447.691878  , 4884.89062675])"
      ]
     },
     "execution_count": 47,
     "metadata": {},
     "output_type": "execute_result"
    }
   ],
   "source": [
    "x"
   ]
  },
  {
   "cell_type": "code",
   "execution_count": 48,
   "id": "0c9087e5-e185-4c6e-a481-81a67a489345",
   "metadata": {},
   "outputs": [],
   "source": [
    "# valeurs observées\n",
    "y = tab_obs.stack().values"
   ]
  },
  {
   "cell_type": "code",
   "execution_count": 49,
   "id": "c2655e02-4db5-4f5a-8898-a654fe3c9f30",
   "metadata": {},
   "outputs": [
    {
     "data": {
      "text/plain": [
       "array([ 147,  233, 2545,  883,  432, 4711])"
      ]
     },
     "execution_count": 49,
     "metadata": {},
     "output_type": "execute_result"
    }
   ],
   "source": [
    "y"
   ]
  },
  {
   "cell_type": "code",
   "execution_count": 50,
   "id": "bd1e8cd2-8887-4ab6-a6db-cfff76ee0c62",
   "metadata": {},
   "outputs": [
    {
     "data": {
      "image/png": "[encoded data removed]",
      "text/plain": [
       "<Figure size 432x288 with 1 Axes>"
      ]
     },
     "metadata": {
      "needs_background": "light"
     },
     "output_type": "display_data"
    }
   ],
   "source": [
    "# Résidus du modèle de prédiction\n",
    "fig, ax = plt.subplots()\n",
    "sns.residplot(x=x, y=y, ax=ax)\n",
    "#ax.set_title(\"Résidus du modèle observé\")\n",
    "ax.set_ylabel(\"Résidu\")\n",
    "ax.set_xlabel(\"Valeur prédite\")\n",
    "plt.savefig(\"../graph/residus_chi2.png\")\n",
    "plt.show()"
   ]
  },
  {
   "attachments": {},
   "cell_type": "markdown",
   "id": "ba7b5fa0-af78-49f2-b04f-922b46b8629a",
   "metadata": {},
   "source": [
    "fig, ax = plt.subplots()\n",
    "sns.heatmap(residus, annot=True, cmap='coolwarm', cbar=True, ax=ax)\n",
    "ax.set_ylabel(\"Genre\")\n",
    "ax.set_ylabel(\"HDI\")\n",
    "plt.show()"
   ]
  },
  {
   "attachments": {},
   "cell_type": "markdown",
   "id": "2d3014e3-6ace-4bd3-ac72-6789f2064640",
   "metadata": {},
   "source": [
    "formule du V de Cramer :\n",
    "\n",
    "V = √(χ² / (n * (min(r, c) - 1)))\n",
    "\n",
    "Dans cette formule :\n",
    "\n",
    "V représente le coefficient de Cramer.\n",
    "χ² est la statistique du chi carré.\n",
    "n est la taille de l'échantillon.\n",
    "r est le nombre de niveaux ou de catégories de la première variable.\n",
    "c est le nombre de niveaux ou de catégories de la deuxième variable."
   ]
  },
  {
   "cell_type": "code",
   "execution_count": 51,
   "id": "1677f6c8-8830-4987-a5ea-6203eaa5ddb6",
   "metadata": {},
   "outputs": [],
   "source": [
    "# Fonction de calcul du V de Cramer\n",
    "# data = tab ndarray\n",
    "def V_Cramer(data):\n",
    "    # somme de chaque colonne\n",
    "    n = np.sum(data)\n",
    "    # taille du tableau de contingence des variables catégorielles (taille de chaque échantillon pour chaque variable)\n",
    "    row, col = tab_obs.shape\n",
    "    # Formule du V de Cramer\n",
    "    V = np.sqrt(chi2 / (n * (min([row, col]) - 1)))\n",
    "    return V\n",
    "    "
   ]
  },
  {
   "cell_type": "code",
   "execution_count": 52,
   "id": "c50392bf-511b-442c-ad01-610aa153a39a",
   "metadata": {},
   "outputs": [
    {
     "data": {
      "text/plain": [
       "0.14150902903141144"
      ]
     },
     "execution_count": 52,
     "metadata": {},
     "output_type": "execute_result"
    }
   ],
   "source": [
    "V_Cramer(np.array(tab_obs))"
   ]
  },
  {
   "cell_type": "code",
   "execution_count": 53,
   "id": "cad07dd4-feb6-4a86-b2bd-fd22fec0a177",
   "metadata": {},
   "outputs": [
    {
     "data": {
      "text/plain": [
       "0.14150902903141144"
      ]
     },
     "execution_count": 53,
     "metadata": {},
     "output_type": "execute_result"
    }
   ],
   "source": [
    "V_Cramer(tableau_attendu)"
   ]
  },
  {
   "attachments": {},
   "cell_type": "markdown",
   "id": "cbdcf73d-69f5-4ce5-954d-90cec60c1be4",
   "metadata": {},
   "source": [
    "La valeur V de Cramer étant faible il y a aurait une faible dépendance entre l'index HDI et le genre. Il y aurait donc statistiquement une association entre ses deux variables catégorielles, indiquée par la p-value du chi2, mais la valeur du V de Cramer indiquerait que cette dépendance serait faible. "
   ]
  },
  {
   "cell_type": "code",
   "execution_count": 54,
   "id": "842b29d7-e71a-4b70-96e1-ec64247136eb",
   "metadata": {},
   "outputs": [],
   "source": [
    "# tableau du genre par étudiant\n",
    "genre_etu = base[[\"Student_ID\", \"Genre\"]].drop_duplicates(subset=\"Student_ID\").dropna()"
   ]
  },
  {
   "cell_type": "code",
   "execution_count": 55,
   "id": "006404fa-fca2-439a-807f-f10ae51942e5",
   "metadata": {},
   "outputs": [
    {
     "data": {
      "text/html": [
       "<div>\n",
       "<style scoped>\n",
       "    .dataframe tbody tr th:only-of-type {\n",
       "        vertical-align: middle;\n",
       "    }\n",
       "\n",
       "    .dataframe tbody tr th {\n",
       "        vertical-align: top;\n",
       "    }\n",
       "\n",
       "    .dataframe thead th {\n",
       "        text-align: right;\n",
       "    }\n",
       "</style>\n",
       "<table border=\"1\" class=\"dataframe\">\n",
       "  <thead>\n",
       "    <tr style=\"text-align: right;\">\n",
       "      <th></th>\n",
       "      <th>Student_ID</th>\n",
       "      <th>Genre</th>\n",
       "    </tr>\n",
       "  </thead>\n",
       "  <tbody>\n",
       "    <tr>\n",
       "      <th>1</th>\n",
       "      <td>19178</td>\n",
       "      <td>Femme</td>\n",
       "    </tr>\n",
       "    <tr>\n",
       "      <th>2</th>\n",
       "      <td>1086</td>\n",
       "      <td>Femme</td>\n",
       "    </tr>\n",
       "    <tr>\n",
       "      <th>3</th>\n",
       "      <td>1948</td>\n",
       "      <td>Femme</td>\n",
       "    </tr>\n",
       "    <tr>\n",
       "      <th>4</th>\n",
       "      <td>16209</td>\n",
       "      <td>Femme</td>\n",
       "    </tr>\n",
       "    <tr>\n",
       "      <th>5</th>\n",
       "      <td>6685</td>\n",
       "      <td>Homme</td>\n",
       "    </tr>\n",
       "  </tbody>\n",
       "</table>\n",
       "</div>"
      ],
      "text/plain": [
       "   Student_ID  Genre\n",
       "1       19178  Femme\n",
       "2        1086  Femme\n",
       "3        1948  Femme\n",
       "4       16209  Femme\n",
       "5        6685  Homme"
      ]
     },
     "execution_count": 55,
     "metadata": {},
     "output_type": "execute_result"
    }
   ],
   "source": [
    "genre_etu.head()"
   ]
  },
  {
   "cell_type": "code",
   "execution_count": 56,
   "id": "1462bbff-c824-4888-8924-331454989d09",
   "metadata": {},
   "outputs": [],
   "source": [
    "# Nombre total de videos par étudiant\n",
    "total_video_etu = total_video.groupby(\"Student_ID\").sum()"
   ]
  },
  {
   "cell_type": "code",
   "execution_count": 57,
   "id": "eca17a32-1783-4b08-bf06-0e897c7e7245",
   "metadata": {},
   "outputs": [
    {
     "data": {
      "text/html": [
       "<div>\n",
       "<style scoped>\n",
       "    .dataframe tbody tr th:only-of-type {\n",
       "        vertical-align: middle;\n",
       "    }\n",
       "\n",
       "    .dataframe tbody tr th {\n",
       "        vertical-align: top;\n",
       "    }\n",
       "\n",
       "    .dataframe thead th {\n",
       "        text-align: right;\n",
       "    }\n",
       "</style>\n",
       "<table border=\"1\" class=\"dataframe\">\n",
       "  <thead>\n",
       "    <tr style=\"text-align: right;\">\n",
       "      <th></th>\n",
       "      <th>video</th>\n",
       "    </tr>\n",
       "    <tr>\n",
       "      <th>Student_ID</th>\n",
       "      <th></th>\n",
       "    </tr>\n",
       "  </thead>\n",
       "  <tbody>\n",
       "    <tr>\n",
       "      <th>15</th>\n",
       "      <td>3</td>\n",
       "    </tr>\n",
       "    <tr>\n",
       "      <th>28</th>\n",
       "      <td>0</td>\n",
       "    </tr>\n",
       "    <tr>\n",
       "      <th>34</th>\n",
       "      <td>0</td>\n",
       "    </tr>\n",
       "    <tr>\n",
       "      <th>36</th>\n",
       "      <td>0</td>\n",
       "    </tr>\n",
       "    <tr>\n",
       "      <th>45</th>\n",
       "      <td>25</td>\n",
       "    </tr>\n",
       "  </tbody>\n",
       "</table>\n",
       "</div>"
      ],
      "text/plain": [
       "            video\n",
       "Student_ID       \n",
       "15              3\n",
       "28              0\n",
       "34              0\n",
       "36              0\n",
       "45             25"
      ]
     },
     "execution_count": 57,
     "metadata": {},
     "output_type": "execute_result"
    }
   ],
   "source": [
    "total_video_etu.head()"
   ]
  },
  {
   "cell_type": "code",
   "execution_count": 58,
   "id": "4381c471-569b-4705-91c5-d46a5c7ffc00",
   "metadata": {},
   "outputs": [],
   "source": [
    "# tableau du genre et du nombre total de videos visionnées par étudiant\n",
    "etu_genre_video = total_video_etu.merge(genre_etu, on='Student_ID')"
   ]
  },
  {
   "cell_type": "code",
   "execution_count": 59,
   "id": "5a4a46b3-99f8-4232-8733-2397c3a0cd3e",
   "metadata": {},
   "outputs": [
    {
     "data": {
      "text/html": [
       "<div>\n",
       "<style scoped>\n",
       "    .dataframe tbody tr th:only-of-type {\n",
       "        vertical-align: middle;\n",
       "    }\n",
       "\n",
       "    .dataframe tbody tr th {\n",
       "        vertical-align: top;\n",
       "    }\n",
       "\n",
       "    .dataframe thead th {\n",
       "        text-align: right;\n",
       "    }\n",
       "</style>\n",
       "<table border=\"1\" class=\"dataframe\">\n",
       "  <thead>\n",
       "    <tr style=\"text-align: right;\">\n",
       "      <th></th>\n",
       "      <th>Student_ID</th>\n",
       "      <th>video</th>\n",
       "      <th>Genre</th>\n",
       "    </tr>\n",
       "  </thead>\n",
       "  <tbody>\n",
       "    <tr>\n",
       "      <th>0</th>\n",
       "      <td>45</td>\n",
       "      <td>25</td>\n",
       "      <td>Femme</td>\n",
       "    </tr>\n",
       "    <tr>\n",
       "      <th>1</th>\n",
       "      <td>83</td>\n",
       "      <td>22</td>\n",
       "      <td>Homme</td>\n",
       "    </tr>\n",
       "    <tr>\n",
       "      <th>2</th>\n",
       "      <td>84</td>\n",
       "      <td>8</td>\n",
       "      <td>Homme</td>\n",
       "    </tr>\n",
       "    <tr>\n",
       "      <th>3</th>\n",
       "      <td>87</td>\n",
       "      <td>1</td>\n",
       "      <td>Homme</td>\n",
       "    </tr>\n",
       "    <tr>\n",
       "      <th>4</th>\n",
       "      <td>94</td>\n",
       "      <td>2</td>\n",
       "      <td>Homme</td>\n",
       "    </tr>\n",
       "  </tbody>\n",
       "</table>\n",
       "</div>"
      ],
      "text/plain": [
       "   Student_ID  video  Genre\n",
       "0          45     25  Femme\n",
       "1          83     22  Homme\n",
       "2          84      8  Homme\n",
       "3          87      1  Homme\n",
       "4          94      2  Homme"
      ]
     },
     "execution_count": 59,
     "metadata": {},
     "output_type": "execute_result"
    }
   ],
   "source": [
    "etu_genre_video.head()"
   ]
  },
  {
   "cell_type": "code",
   "execution_count": 60,
   "id": "9ececc6f-2769-464c-b3b5-30e9b3f54c0b",
   "metadata": {},
   "outputs": [
    {
     "data": {
      "text/html": [
       "<div>\n",
       "<style scoped>\n",
       "    .dataframe tbody tr th:only-of-type {\n",
       "        vertical-align: middle;\n",
       "    }\n",
       "\n",
       "    .dataframe tbody tr th {\n",
       "        vertical-align: top;\n",
       "    }\n",
       "\n",
       "    .dataframe thead th {\n",
       "        text-align: right;\n",
       "    }\n",
       "</style>\n",
       "<table border=\"1\" class=\"dataframe\">\n",
       "  <thead>\n",
       "    <tr style=\"text-align: right;\">\n",
       "      <th></th>\n",
       "      <th>video</th>\n",
       "    </tr>\n",
       "    <tr>\n",
       "      <th>Genre</th>\n",
       "      <th></th>\n",
       "    </tr>\n",
       "  </thead>\n",
       "  <tbody>\n",
       "    <tr>\n",
       "      <th>Femme</th>\n",
       "      <td>14.855376</td>\n",
       "    </tr>\n",
       "    <tr>\n",
       "      <th>Homme</th>\n",
       "      <td>13.867276</td>\n",
       "    </tr>\n",
       "  </tbody>\n",
       "</table>\n",
       "</div>"
      ],
      "text/plain": [
       "           video\n",
       "Genre           \n",
       "Femme  14.855376\n",
       "Homme  13.867276"
      ]
     },
     "execution_count": 60,
     "metadata": {},
     "output_type": "execute_result"
    }
   ],
   "source": [
    "# moyenne du nombre de videos visionnées par genre\n",
    "total_video_etu.merge(genre_etu, on=\"Student_ID\").groupby(\"Genre\")[[\"video\"]].mean()"
   ]
  },
  {
   "cell_type": "code",
   "execution_count": 61,
   "id": "4ef7201e-e7d2-4d06-8ce6-024f57ca4b40",
   "metadata": {},
   "outputs": [
    {
     "data": {
      "image/png": "[encoded data removed]",
      "text/plain": [
       "<Figure size 432x288 with 1 Axes>"
      ]
     },
     "metadata": {
      "needs_background": "light"
     },
     "output_type": "display_data"
    }
   ],
   "source": [
    "# Figure de la distribution du nombre de video par rapport au genre \n",
    "fig, ax = plt.subplots()\n",
    "sns.barplot(data=etu_genre_video, x=\"Genre\", y=\"video\", ax=ax)\n",
    "ax.set_xlabel(\"Genre\")\n",
    "ax.set_ylabel(\"Nombre moyen de Videos\")\n",
    "plt.savefig(\"../graph/mean_video.png\")\n",
    "plt.show()"
   ]
  },
  {
   "attachments": {},
   "cell_type": "markdown",
   "id": "9479d1e1-c9ae-4f2c-a7fa-5a014382ed63",
   "metadata": {},
   "source": [
    "H0 (Hypothèse nulle) : il n'y a pas de différence sur le nombre de video visionnées entre les hommes et les femmes"
   ]
  },
  {
   "cell_type": "code",
   "execution_count": 62,
   "id": "fe1b83ae-bb84-468a-b836-5dec5ba3fcc8",
   "metadata": {},
   "outputs": [],
   "source": [
    "tab_stat = etu_genre_video.pivot_table(columns=\"Genre\", index=\"Student_ID\", values=\"video\").fillna(0)"
   ]
  },
  {
   "cell_type": "code",
   "execution_count": 63,
   "id": "131bf6b1-c366-4ac4-bf5d-fffc663c4010",
   "metadata": {},
   "outputs": [
    {
     "data": {
      "text/html": [
       "<div>\n",
       "<style scoped>\n",
       "    .dataframe tbody tr th:only-of-type {\n",
       "        vertical-align: middle;\n",
       "    }\n",
       "\n",
       "    .dataframe tbody tr th {\n",
       "        vertical-align: top;\n",
       "    }\n",
       "\n",
       "    .dataframe thead th {\n",
       "        text-align: right;\n",
       "    }\n",
       "</style>\n",
       "<table border=\"1\" class=\"dataframe\">\n",
       "  <thead>\n",
       "    <tr style=\"text-align: right;\">\n",
       "      <th>Genre</th>\n",
       "      <th>Femme</th>\n",
       "      <th>Homme</th>\n",
       "    </tr>\n",
       "    <tr>\n",
       "      <th>Student_ID</th>\n",
       "      <th></th>\n",
       "      <th></th>\n",
       "    </tr>\n",
       "  </thead>\n",
       "  <tbody>\n",
       "    <tr>\n",
       "      <th>45</th>\n",
       "      <td>25.0</td>\n",
       "      <td>0.0</td>\n",
       "    </tr>\n",
       "    <tr>\n",
       "      <th>83</th>\n",
       "      <td>0.0</td>\n",
       "      <td>22.0</td>\n",
       "    </tr>\n",
       "    <tr>\n",
       "      <th>84</th>\n",
       "      <td>0.0</td>\n",
       "      <td>8.0</td>\n",
       "    </tr>\n",
       "    <tr>\n",
       "      <th>87</th>\n",
       "      <td>0.0</td>\n",
       "      <td>1.0</td>\n",
       "    </tr>\n",
       "    <tr>\n",
       "      <th>94</th>\n",
       "      <td>0.0</td>\n",
       "      <td>2.0</td>\n",
       "    </tr>\n",
       "  </tbody>\n",
       "</table>\n",
       "</div>"
      ],
      "text/plain": [
       "Genre       Femme  Homme\n",
       "Student_ID              \n",
       "45           25.0    0.0\n",
       "83            0.0   22.0\n",
       "84            0.0    8.0\n",
       "87            0.0    1.0\n",
       "94            0.0    2.0"
      ]
     },
     "execution_count": 63,
     "metadata": {},
     "output_type": "execute_result"
    }
   ],
   "source": [
    "tab_stat.head()"
   ]
  },
  {
   "cell_type": "code",
   "execution_count": 64,
   "id": "52ae5356-a7c2-4172-bca3-bfff53548e99",
   "metadata": {},
   "outputs": [],
   "source": [
    "# Test de Student\n",
    "statistique, p_value = t_student(tab_stat[\"Homme\"], tab_stat[\"Femme\"])"
   ]
  },
  {
   "cell_type": "code",
   "execution_count": 65,
   "id": "ab998dcb-168b-47dc-835a-dbd6b19b1463",
   "metadata": {},
   "outputs": [
    {
     "data": {
      "text/plain": [
       "26.98492395204523"
      ]
     },
     "execution_count": 65,
     "metadata": {},
     "output_type": "execute_result"
    }
   ],
   "source": [
    "statistique"
   ]
  },
  {
   "cell_type": "code",
   "execution_count": 66,
   "id": "b1491965-ce47-4293-af22-86d6b216ba5d",
   "metadata": {},
   "outputs": [
    {
     "data": {
      "text/plain": [
       "3.4121378553908065e-157"
      ]
     },
     "execution_count": 66,
     "metadata": {},
     "output_type": "execute_result"
    }
   ],
   "source": [
    "p_value"
   ]
  },
  {
   "attachments": {},
   "cell_type": "markdown",
   "id": "6269d004-6066-49c2-b250-3db40e5bceb6",
   "metadata": {},
   "source": [
    "Il y a moins de 5% de chance qu'il n'y ait pas de différence du nombre de visionnages entre les femmes et les hommes. Il y aurait significativement un lien entre le nombre de visionnages et le genre."
   ]
  },
  {
   "cell_type": "code",
   "execution_count": 67,
   "id": "5a29006b-21db-4a1c-97ed-ded94caeb207",
   "metadata": {},
   "outputs": [],
   "source": [
    "# Sélection par genre\n",
    "df_hom = etu_genre_video[etu_genre_video[\"Genre\"] == \"Homme\"]\n",
    "df_fem = etu_genre_video[etu_genre_video[\"Genre\"] == \"Femme\"]"
   ]
  },
  {
   "cell_type": "code",
   "execution_count": 68,
   "id": "daa8416c-06ad-40e5-b0b5-7120f88cdad5",
   "metadata": {},
   "outputs": [
    {
     "data": {
      "text/html": [
       "<div>\n",
       "<style scoped>\n",
       "    .dataframe tbody tr th:only-of-type {\n",
       "        vertical-align: middle;\n",
       "    }\n",
       "\n",
       "    .dataframe tbody tr th {\n",
       "        vertical-align: top;\n",
       "    }\n",
       "\n",
       "    .dataframe thead th {\n",
       "        text-align: right;\n",
       "    }\n",
       "</style>\n",
       "<table border=\"1\" class=\"dataframe\">\n",
       "  <thead>\n",
       "    <tr style=\"text-align: right;\">\n",
       "      <th></th>\n",
       "      <th>Student_ID</th>\n",
       "      <th>video</th>\n",
       "      <th>Genre</th>\n",
       "    </tr>\n",
       "  </thead>\n",
       "  <tbody>\n",
       "    <tr>\n",
       "      <th>1</th>\n",
       "      <td>83</td>\n",
       "      <td>22</td>\n",
       "      <td>Homme</td>\n",
       "    </tr>\n",
       "    <tr>\n",
       "      <th>2</th>\n",
       "      <td>84</td>\n",
       "      <td>8</td>\n",
       "      <td>Homme</td>\n",
       "    </tr>\n",
       "    <tr>\n",
       "      <th>3</th>\n",
       "      <td>87</td>\n",
       "      <td>1</td>\n",
       "      <td>Homme</td>\n",
       "    </tr>\n",
       "    <tr>\n",
       "      <th>4</th>\n",
       "      <td>94</td>\n",
       "      <td>2</td>\n",
       "      <td>Homme</td>\n",
       "    </tr>\n",
       "    <tr>\n",
       "      <th>5</th>\n",
       "      <td>98</td>\n",
       "      <td>23</td>\n",
       "      <td>Homme</td>\n",
       "    </tr>\n",
       "    <tr>\n",
       "      <th>...</th>\n",
       "      <td>...</td>\n",
       "      <td>...</td>\n",
       "      <td>...</td>\n",
       "    </tr>\n",
       "    <tr>\n",
       "      <th>8807</th>\n",
       "      <td>68205</td>\n",
       "      <td>30</td>\n",
       "      <td>Homme</td>\n",
       "    </tr>\n",
       "    <tr>\n",
       "      <th>8808</th>\n",
       "      <td>68220</td>\n",
       "      <td>30</td>\n",
       "      <td>Homme</td>\n",
       "    </tr>\n",
       "    <tr>\n",
       "      <th>8809</th>\n",
       "      <td>68223</td>\n",
       "      <td>0</td>\n",
       "      <td>Homme</td>\n",
       "    </tr>\n",
       "    <tr>\n",
       "      <th>8811</th>\n",
       "      <td>68265</td>\n",
       "      <td>14</td>\n",
       "      <td>Homme</td>\n",
       "    </tr>\n",
       "    <tr>\n",
       "      <th>8813</th>\n",
       "      <td>68282</td>\n",
       "      <td>1</td>\n",
       "      <td>Homme</td>\n",
       "    </tr>\n",
       "  </tbody>\n",
       "</table>\n",
       "<p>5907 rows × 3 columns</p>\n",
       "</div>"
      ],
      "text/plain": [
       "      Student_ID  video  Genre\n",
       "1             83     22  Homme\n",
       "2             84      8  Homme\n",
       "3             87      1  Homme\n",
       "4             94      2  Homme\n",
       "5             98     23  Homme\n",
       "...          ...    ...    ...\n",
       "8807       68205     30  Homme\n",
       "8808       68220     30  Homme\n",
       "8809       68223      0  Homme\n",
       "8811       68265     14  Homme\n",
       "8813       68282      1  Homme\n",
       "\n",
       "[5907 rows x 3 columns]"
      ]
     },
     "execution_count": 68,
     "metadata": {},
     "output_type": "execute_result"
    }
   ],
   "source": [
    "df_hom"
   ]
  },
  {
   "cell_type": "code",
   "execution_count": 69,
   "id": "6c2d0009-3c14-4f1d-b379-3c28c78af3e8",
   "metadata": {},
   "outputs": [],
   "source": [
    "# Calcul des paramètres de la distribution normale pour chaque groupe\n",
    "mu_hommes, std_hommes = np.mean(df_hom[\"video\"]), np.std(df_hom[\"video\"])\n",
    "mu_femmes, std_femmes = np.mean(df_fem[\"video\"]), np.std(df_fem[\"video\"])\n",
    "\n",
    "# Création des valeurs x pour tracer la courbe théorique\n",
    "x_hommes = np.linspace(min(df_hom[\"video\"]), max(df_hom[\"video\"]), 100)\n",
    "x_femmes = np.linspace(min(df_fem[\"video\"]), max(df_fem[\"video\"]), 100)\n",
    "\n",
    "# Calcul des valeurs y correspondantes en utilisant la PDF de la distribution normale\n",
    "y_hommes = norm.pdf(x_hommes, mu_hommes, std_hommes)\n",
    "y_femmes = norm.pdf(x_femmes, mu_femmes, std_femmes)"
   ]
  },
  {
   "cell_type": "code",
   "execution_count": 70,
   "id": "56e5cd65-ee91-4f7f-866a-8aab212c31ec",
   "metadata": {},
   "outputs": [
    {
     "data": {
      "image/png": "[encoded data removed]",
      "text/plain": [
       "<Figure size 432x288 with 2 Axes>"
      ]
     },
     "metadata": {
      "needs_background": "light"
     },
     "output_type": "display_data"
    }
   ],
   "source": [
    "figure, ax1 = plt.subplots()\n",
    "sns.histplot(data=df_hom, x=\"video\", bins=10, color=\"tab:blue\", ax=ax1, label=\"H\")\n",
    "sns.histplot(data=df_fem, x=\"video\", bins=10, color=\"pink\", ax=ax1, label=\"F\")\n",
    "ax1.set_xlabel(\"video\")\n",
    "ax1.set_ylabel(\"Nombre d'étudiants\")\n",
    "ax1.legend(title=\"Genre\")\n",
    "ax2 = ax1.twinx()\n",
    "ax2.plot(x_hommes, y_hommes, color='blue')\n",
    "ax2.plot(x_femmes, y_femmes, color='pink')\n",
    "plt.savefig(\"../graph/distribution_video.png\")\n",
    "plt.show()"
   ]
  },
  {
   "cell_type": "code",
   "execution_count": 71,
   "id": "736eb84b-615c-47ab-81f9-a4e2d8862392",
   "metadata": {},
   "outputs": [
    {
     "data": {
      "image/png": "[encoded data removed]",
      "text/plain": [
       "<Figure size 432x288 with 1 Axes>"
      ]
     },
     "metadata": {
      "needs_background": "light"
     },
     "output_type": "display_data"
    }
   ],
   "source": [
    "# visualisation de la normalité de la distribution des données (histogramme de distribution)\n",
    "data = pd.concat([df_hom[\"video\"], df_fem[\"video\"]])\n",
    "figure, ax = plt.subplots()\n",
    "sns.histplot(data=df_hom, x=\"video\", bins=10, color=\"tab:blue\", ax=ax, label=\"homme\")\n",
    "sns.histplot(data=df_fem, x=\"video\", bins=10, color=\"pink\", ax=ax, label=\"femme\")\n",
    "sns.histplot(data=data, bins=10, color=\"green\", ax=ax, label=\"hom/fem\", alpha=0.1)\n",
    "ax.set_xlabel(\"video\")\n",
    "ax.set_ylabel(\"Nombre d'étudiants\")\n",
    "ax.legend(title=\"Genre\")\n",
    "plt.savefig(\"../graph/distribution_video2.png\")\n",
    "plt.show()"
   ]
  },
  {
   "attachments": {},
   "cell_type": "markdown",
   "id": "51509a78-8c8e-4305-b3fd-e14f3e41aeec",
   "metadata": {},
   "source": [
    "La distribution des données ne suit pas une loi normale. Ce qui ne permet pas de faire un test t-Student puisque la condition première est que les données doivent être normalement distribuées."
   ]
  },
  {
   "cell_type": "code",
   "execution_count": 72,
   "id": "11b32320-0600-4e0a-91e2-ccf4949ef045",
   "metadata": {},
   "outputs": [],
   "source": [
    "# Models de regression du nombre de video selon le genre\n",
    "mdl_video_vs_genre = ols(\"video ~ Genre\", data=etu_genre_video).fit()"
   ]
  },
  {
   "cell_type": "code",
   "execution_count": 73,
   "id": "56ded05c-76f9-4cc2-95a3-2f129ea5b24a",
   "metadata": {},
   "outputs": [
    {
     "data": {
      "text/html": [
       "<table class=\"simpletable\">\n",
       "<caption>OLS Regression Results</caption>\n",
       "<tr>\n",
       "  <th>Dep. Variable:</th>          <td>video</td>      <th>  R-squared:         </th> <td>   0.002</td> \n",
       "</tr>\n",
       "<tr>\n",
       "  <th>Model:</th>                   <td>OLS</td>       <th>  Adj. R-squared:    </th> <td>   0.001</td> \n",
       "</tr>\n",
       "<tr>\n",
       "  <th>Method:</th>             <td>Least Squares</td>  <th>  F-statistic:       </th> <td>   13.45</td> \n",
       "</tr>\n",
       "<tr>\n",
       "  <th>Date:</th>             <td>Sat, 24 Jun 2023</td> <th>  Prob (F-statistic):</th> <td>0.000247</td> \n",
       "</tr>\n",
       "<tr>\n",
       "  <th>Time:</th>                 <td>19:27:39</td>     <th>  Log-Likelihood:    </th> <td> -34348.</td> \n",
       "</tr>\n",
       "<tr>\n",
       "  <th>No. Observations:</th>      <td>  8818</td>      <th>  AIC:               </th> <td>6.870e+04</td>\n",
       "</tr>\n",
       "<tr>\n",
       "  <th>Df Residuals:</th>          <td>  8816</td>      <th>  BIC:               </th> <td>6.871e+04</td>\n",
       "</tr>\n",
       "<tr>\n",
       "  <th>Df Model:</th>              <td>     1</td>      <th>                     </th>     <td> </td>    \n",
       "</tr>\n",
       "<tr>\n",
       "  <th>Covariance Type:</th>      <td>nonrobust</td>    <th>                     </th>     <td> </td>    \n",
       "</tr>\n",
       "</table>\n",
       "<table class=\"simpletable\">\n",
       "<tr>\n",
       "         <td></td>           <th>coef</th>     <th>std err</th>      <th>t</th>      <th>P>|t|</th>  <th>[0.025</th>    <th>0.975]</th>  \n",
       "</tr>\n",
       "<tr>\n",
       "  <th>Intercept</th>      <td>   14.8554</td> <td>    0.221</td> <td>   67.365</td> <td> 0.000</td> <td>   14.423</td> <td>   15.288</td>\n",
       "</tr>\n",
       "<tr>\n",
       "  <th>Genre[T.Homme]</th> <td>   -0.9881</td> <td>    0.269</td> <td>   -3.667</td> <td> 0.000</td> <td>   -1.516</td> <td>   -0.460</td>\n",
       "</tr>\n",
       "</table>\n",
       "<table class=\"simpletable\">\n",
       "<tr>\n",
       "  <th>Omnibus:</th>       <td>59307.238</td> <th>  Durbin-Watson:     </th> <td>   1.962</td> \n",
       "</tr>\n",
       "<tr>\n",
       "  <th>Prob(Omnibus):</th>  <td> 0.000</td>   <th>  Jarque-Bera (JB):  </th> <td> 878.417</td> \n",
       "</tr>\n",
       "<tr>\n",
       "  <th>Skew:</th>           <td> 0.240</td>   <th>  Prob(JB):          </th> <td>1.80e-191</td>\n",
       "</tr>\n",
       "<tr>\n",
       "  <th>Kurtosis:</th>       <td> 1.530</td>   <th>  Cond. No.          </th> <td>    3.24</td> \n",
       "</tr>\n",
       "</table><br/><br/>Notes:<br/>[1] Standard Errors assume that the covariance matrix of the errors is correctly specified."
      ],
      "text/plain": [
       "<class 'statsmodels.iolib.summary.Summary'>\n",
       "\"\"\"\n",
       "                            OLS Regression Results                            \n",
       "==============================================================================\n",
       "Dep. Variable:                  video   R-squared:                       0.002\n",
       "Model:                            OLS   Adj. R-squared:                  0.001\n",
       "Method:                 Least Squares   F-statistic:                     13.45\n",
       "Date:                Sat, 24 Jun 2023   Prob (F-statistic):           0.000247\n",
       "Time:                        19:27:39   Log-Likelihood:                -34348.\n",
       "No. Observations:                8818   AIC:                         6.870e+04\n",
       "Df Residuals:                    8816   BIC:                         6.871e+04\n",
       "Df Model:                           1                                         \n",
       "Covariance Type:            nonrobust                                         \n",
       "==================================================================================\n",
       "                     coef    std err          t      P>|t|      [0.025      0.975]\n",
       "----------------------------------------------------------------------------------\n",
       "Intercept         14.8554      0.221     67.365      0.000      14.423      15.288\n",
       "Genre[T.Homme]    -0.9881      0.269     -3.667      0.000      -1.516      -0.460\n",
       "==============================================================================\n",
       "Omnibus:                    59307.238   Durbin-Watson:                   1.962\n",
       "Prob(Omnibus):                  0.000   Jarque-Bera (JB):              878.417\n",
       "Skew:                           0.240   Prob(JB):                    1.80e-191\n",
       "Kurtosis:                       1.530   Cond. No.                         3.24\n",
       "==============================================================================\n",
       "\n",
       "Notes:\n",
       "[1] Standard Errors assume that the covariance matrix of the errors is correctly specified.\n",
       "\"\"\""
      ]
     },
     "execution_count": 73,
     "metadata": {},
     "output_type": "execute_result"
    }
   ],
   "source": [
    "mdl_video_vs_genre.summary()"
   ]
  },
  {
   "attachments": {},
   "cell_type": "markdown",
   "id": "35ed217b-4a16-4c54-af01-ad4ce4d86490",
   "metadata": {},
   "source": [
    "Le coefficient R² étant proche de 0, le model de régression est peu fidèle à l'observation des données. "
   ]
  },
  {
   "cell_type": "code",
   "execution_count": 74,
   "id": "8a411c65-7f93-4489-bb07-6ad5bf29f1da",
   "metadata": {},
   "outputs": [
    {
     "data": {
      "text/plain": [
       "Intercept         14.855376\n",
       "Genre[T.Homme]    -0.988100\n",
       "dtype: float64"
      ]
     },
     "execution_count": 74,
     "metadata": {},
     "output_type": "execute_result"
    }
   ],
   "source": [
    "mdl_video_vs_genre.params"
   ]
  },
  {
   "cell_type": "code",
   "execution_count": 75,
   "id": "819ff875-db80-43d9-9d28-7adc948fd727",
   "metadata": {},
   "outputs": [
    {
     "data": {
      "image/png": "[encoded data removed]",
      "text/plain": [
       "<Figure size 432x288 with 1 Axes>"
      ]
     },
     "metadata": {
      "needs_background": "light"
     },
     "output_type": "display_data"
    }
   ],
   "source": [
    "# Test de normalité de la distribution des données (Q-Q plot)\n",
    "qqplot(data=mdl_video_vs_genre.resid, fit=True, line=\"45\")\n",
    "plt.show()"
   ]
  },
  {
   "cell_type": "code",
   "execution_count": 76,
   "id": "2baeecf7-32fa-4614-9937-e5391877c60b",
   "metadata": {},
   "outputs": [
    {
     "data": {
      "image/png": "[encoded data removed]",
      "text/plain": [
       "<Figure size 432x288 with 1 Axes>"
      ]
     },
     "metadata": {
      "needs_background": "light"
     },
     "output_type": "display_data"
    }
   ],
   "source": [
    "qqplot(data=data, fit=True, line=\"45\")\n",
    "plt.xlabel(\"Quantiles théoriques\")\n",
    "plt.ylabel(\"Quantiles observés \")\n",
    "plt.savefig(\"../graph/distribution_video3.png\")\n",
    "plt.show()"
   ]
  },
  {
   "cell_type": "code",
   "execution_count": 77,
   "id": "e8f309a6-31af-4faf-a7ad-79c7a950e37c",
   "metadata": {},
   "outputs": [],
   "source": [
    "# Test de  Kolmogrov-Smirnov\n",
    "stat, p = kstest(data, 'norm')"
   ]
  },
  {
   "cell_type": "code",
   "execution_count": 78,
   "id": "de55fa43-6037-4fb8-a41b-d9d8a95cb9e8",
   "metadata": {},
   "outputs": [
    {
     "data": {
      "text/plain": [
       "(0.7626887430801719, 0.0)"
      ]
     },
     "execution_count": 78,
     "metadata": {},
     "output_type": "execute_result"
    }
   ],
   "source": [
    "stat, p"
   ]
  },
  {
   "cell_type": "code",
   "execution_count": 79,
   "id": "82ba9170-1f74-4236-b42b-bd4d7589a759",
   "metadata": {},
   "outputs": [
    {
     "data": {
      "text/plain": [
       "MannwhitneyuResult(statistic=8200580.5, pvalue=0.0003907509304995919)"
      ]
     },
     "execution_count": 79,
     "metadata": {},
     "output_type": "execute_result"
    }
   ],
   "source": [
    "# Test non paramétrique de Mann-Whitney U\n",
    "mannwhitneyu(df_hom[\"video\"], df_fem[\"video\"])"
   ]
  },
  {
   "cell_type": "code",
   "execution_count": 80,
   "id": "66896c3c-e684-4ee7-be53-77525dd018a0",
   "metadata": {},
   "outputs": [],
   "source": [
    "# Nombre de quiz par étudiant\n",
    "total_quiz_etu = total_quiz.groupby(\"Student_ID\").sum()"
   ]
  },
  {
   "cell_type": "code",
   "execution_count": 81,
   "id": "86acb5fe-7131-4cb4-9a6e-beadd0b8db3e",
   "metadata": {},
   "outputs": [],
   "source": [
    "# Nombre de Quiz et vidéos par étudiants\n",
    "video_quiz_etu = total_video_etu.merge(total_quiz_etu, on=\"Student_ID\")"
   ]
  },
  {
   "cell_type": "code",
   "execution_count": 82,
   "id": "46005803-3dc9-4950-b804-d53fe0021a83",
   "metadata": {},
   "outputs": [
    {
     "data": {
      "text/plain": [
       "video    48\n",
       "quiz     10\n",
       "Name: 3139, dtype: int64"
      ]
     },
     "execution_count": 82,
     "metadata": {},
     "output_type": "execute_result"
    }
   ],
   "source": [
    "video_quiz_etu.loc[3139]"
   ]
  },
  {
   "cell_type": "code",
   "execution_count": 83,
   "id": "d0685a8c-3233-4df4-bf52-a07342c7f41e",
   "metadata": {},
   "outputs": [],
   "source": [
    "data = pd.concat([video_quiz_etu[\"quiz\"], video_quiz_etu[\"video\"]])"
   ]
  },
  {
   "cell_type": "code",
   "execution_count": 84,
   "id": "e6d7c772-28f0-4126-b5e5-1de6141a3869",
   "metadata": {},
   "outputs": [
    {
     "data": {
      "image/png": "[encoded data removed]",
      "text/plain": [
       "<Figure size 432x288 with 1 Axes>"
      ]
     },
     "metadata": {
      "needs_background": "light"
     },
     "output_type": "display_data"
    }
   ],
   "source": [
    "qqplot(data=data, fit=True, line=\"45\")\n",
    "plt.xlabel(\"Quantiles théoriques\")\n",
    "plt.ylabel(\"Quantiles observés \")\n",
    "plt.savefig(\"../graph/distribution_video4.png\")\n",
    "plt.show()"
   ]
  },
  {
   "cell_type": "code",
   "execution_count": 85,
   "id": "9bd9fa93-bc4c-4e11-a341-ad6fae77d0fc",
   "metadata": {},
   "outputs": [],
   "source": [
    "# Test de Pearson\n",
    "correlation, p_value = pearsonr(video_quiz_etu[\"quiz\"], video_quiz_etu[\"video\"])"
   ]
  },
  {
   "cell_type": "code",
   "execution_count": 86,
   "id": "526a688f-4afd-4e9f-9cb7-848f9ebde7ab",
   "metadata": {},
   "outputs": [
    {
     "data": {
      "text/plain": [
       "(0.8036026075037674, 0.0)"
      ]
     },
     "execution_count": 86,
     "metadata": {},
     "output_type": "execute_result"
    }
   ],
   "source": [
    "correlation, p_value"
   ]
  },
  {
   "cell_type": "code",
   "execution_count": 87,
   "id": "b63e1457-9738-4b04-927f-0f02ffac4a4b",
   "metadata": {},
   "outputs": [],
   "source": [
    "# Test de Spearman\n",
    "correlation, p_value = spearmanr(video_quiz_etu[\"quiz\"], video_quiz_etu[\"video\"])"
   ]
  },
  {
   "cell_type": "code",
   "execution_count": 88,
   "id": "017dd4f3-3853-4e9d-8acd-1889d45c24ba",
   "metadata": {},
   "outputs": [
    {
     "data": {
      "text/plain": [
       "(0.804511796629543, 0.0)"
      ]
     },
     "execution_count": 88,
     "metadata": {},
     "output_type": "execute_result"
    }
   ],
   "source": [
    "correlation, p_value"
   ]
  },
  {
   "attachments": {},
   "cell_type": "markdown",
   "id": "8d7e3046-0a23-4fd8-8695-f8e1f18423f5",
   "metadata": {},
   "source": [
    "Il y a une forte corrélation (0.8) entre le nombre de videos vues et le nombre de quiz réalisés par un étudiant. La corrélation observée est statistiquement significative (p-value=0)."
   ]
  },
  {
   "cell_type": "code",
   "execution_count": 89,
   "id": "02b81ae9-d600-49ff-a710-de04406b0d41",
   "metadata": {},
   "outputs": [],
   "source": [
    "# Modèle de regression sur le nombre de vidéos selon le nombre de quiz\n",
    "mdl_video_vs_quiz = ols(\"quiz ~ video\", data=video_quiz_etu).fit()"
   ]
  },
  {
   "cell_type": "code",
   "execution_count": 90,
   "id": "7f284186-bacc-4268-a5ac-1b63a53b6528",
   "metadata": {},
   "outputs": [
    {
     "data": {
      "text/html": [
       "<table class=\"simpletable\">\n",
       "<caption>OLS Regression Results</caption>\n",
       "<tr>\n",
       "  <th>Dep. Variable:</th>          <td>quiz</td>       <th>  R-squared:         </th> <td>   0.646</td> \n",
       "</tr>\n",
       "<tr>\n",
       "  <th>Model:</th>                   <td>OLS</td>       <th>  Adj. R-squared:    </th> <td>   0.646</td> \n",
       "</tr>\n",
       "<tr>\n",
       "  <th>Method:</th>             <td>Least Squares</td>  <th>  F-statistic:       </th> <td>2.653e+04</td>\n",
       "</tr>\n",
       "<tr>\n",
       "  <th>Date:</th>             <td>Sat, 24 Jun 2023</td> <th>  Prob (F-statistic):</th>  <td>  0.00</td>  \n",
       "</tr>\n",
       "<tr>\n",
       "  <th>Time:</th>                 <td>19:27:40</td>     <th>  Log-Likelihood:    </th> <td> -24981.</td> \n",
       "</tr>\n",
       "<tr>\n",
       "  <th>No. Observations:</th>      <td> 14557</td>      <th>  AIC:               </th> <td>4.997e+04</td>\n",
       "</tr>\n",
       "<tr>\n",
       "  <th>Df Residuals:</th>          <td> 14555</td>      <th>  BIC:               </th> <td>4.998e+04</td>\n",
       "</tr>\n",
       "<tr>\n",
       "  <th>Df Model:</th>              <td>     1</td>      <th>                     </th>     <td> </td>    \n",
       "</tr>\n",
       "<tr>\n",
       "  <th>Covariance Type:</th>      <td>nonrobust</td>    <th>                     </th>     <td> </td>    \n",
       "</tr>\n",
       "</table>\n",
       "<table class=\"simpletable\">\n",
       "<tr>\n",
       "      <td></td>         <th>coef</th>     <th>std err</th>      <th>t</th>      <th>P>|t|</th>  <th>[0.025</th>    <th>0.975]</th>  \n",
       "</tr>\n",
       "<tr>\n",
       "  <th>Intercept</th> <td>    0.5652</td> <td>    0.014</td> <td>   39.183</td> <td> 0.000</td> <td>    0.537</td> <td>    0.594</td>\n",
       "</tr>\n",
       "<tr>\n",
       "  <th>video</th>     <td>    0.1575</td> <td>    0.001</td> <td>  162.896</td> <td> 0.000</td> <td>    0.156</td> <td>    0.159</td>\n",
       "</tr>\n",
       "</table>\n",
       "<table class=\"simpletable\">\n",
       "<tr>\n",
       "  <th>Omnibus:</th>       <td>5315.454</td> <th>  Durbin-Watson:     </th> <td>   1.939</td> \n",
       "</tr>\n",
       "<tr>\n",
       "  <th>Prob(Omnibus):</th>  <td> 0.000</td>  <th>  Jarque-Bera (JB):  </th> <td>20116.783</td>\n",
       "</tr>\n",
       "<tr>\n",
       "  <th>Skew:</th>           <td> 1.821</td>  <th>  Prob(JB):          </th> <td>    0.00</td> \n",
       "</tr>\n",
       "<tr>\n",
       "  <th>Kurtosis:</th>       <td> 7.461</td>  <th>  Cond. No.          </th> <td>    19.3</td> \n",
       "</tr>\n",
       "</table><br/><br/>Notes:<br/>[1] Standard Errors assume that the covariance matrix of the errors is correctly specified."
      ],
      "text/plain": [
       "<class 'statsmodels.iolib.summary.Summary'>\n",
       "\"\"\"\n",
       "                            OLS Regression Results                            \n",
       "==============================================================================\n",
       "Dep. Variable:                   quiz   R-squared:                       0.646\n",
       "Model:                            OLS   Adj. R-squared:                  0.646\n",
       "Method:                 Least Squares   F-statistic:                 2.653e+04\n",
       "Date:                Sat, 24 Jun 2023   Prob (F-statistic):               0.00\n",
       "Time:                        19:27:40   Log-Likelihood:                -24981.\n",
       "No. Observations:               14557   AIC:                         4.997e+04\n",
       "Df Residuals:                   14555   BIC:                         4.998e+04\n",
       "Df Model:                           1                                         \n",
       "Covariance Type:            nonrobust                                         \n",
       "==============================================================================\n",
       "                 coef    std err          t      P>|t|      [0.025      0.975]\n",
       "------------------------------------------------------------------------------\n",
       "Intercept      0.5652      0.014     39.183      0.000       0.537       0.594\n",
       "video          0.1575      0.001    162.896      0.000       0.156       0.159\n",
       "==============================================================================\n",
       "Omnibus:                     5315.454   Durbin-Watson:                   1.939\n",
       "Prob(Omnibus):                  0.000   Jarque-Bera (JB):            20116.783\n",
       "Skew:                           1.821   Prob(JB):                         0.00\n",
       "Kurtosis:                       7.461   Cond. No.                         19.3\n",
       "==============================================================================\n",
       "\n",
       "Notes:\n",
       "[1] Standard Errors assume that the covariance matrix of the errors is correctly specified.\n",
       "\"\"\""
      ]
     },
     "execution_count": 90,
     "metadata": {},
     "output_type": "execute_result"
    }
   ],
   "source": [
    "mdl_video_vs_quiz.summary()"
   ]
  },
  {
   "cell_type": "code",
   "execution_count": 91,
   "id": "d04dabdd",
   "metadata": {},
   "outputs": [
    {
     "data": {
      "image/png": "[encoded data removed]",
      "text/plain": [
       "<Figure size 432x288 with 1 Axes>"
      ]
     },
     "metadata": {
      "needs_background": "light"
     },
     "output_type": "display_data"
    }
   ],
   "source": [
    "intercept, coef = mdl_video_vs_quiz.params\n",
    "sns.scatterplot(data=video_quiz_etu, x=\"video\", y=\"quiz\")\n",
    "plt.axline(xy1=(0,intercept), slope=coef, color=\"red\")\n",
    "plt.savefig(\"../graph/scatter2_regression.png\")\n",
    "plt.show()"
   ]
  },
  {
   "cell_type": "code",
   "execution_count": 92,
   "id": "dcf47f6c-41ac-474e-a6a3-69205efc8365",
   "metadata": {},
   "outputs": [
    {
     "data": {
      "image/png": "[encoded data removed]",
      "text/plain": [
       "<Figure size 432x288 with 1 Axes>"
      ]
     },
     "metadata": {
      "needs_background": "light"
     },
     "output_type": "display_data"
    }
   ],
   "source": [
    "fig, ax = plt.subplots()\n",
    "sns.regplot(data=video_quiz_etu, x=video_quiz_etu[\"video\"], y=video_quiz_etu[\"quiz\"], line_kws={\"color\": \"red\"}, ax=ax)\n",
    "#plt.savefig(\"../graph/scatter_regression.png\")\n",
    "plt.show()"
   ]
  },
  {
   "cell_type": "code",
   "execution_count": 93,
   "id": "f6f2ac71-efd6-495c-9d13-6b30b31c4e31",
   "metadata": {},
   "outputs": [
    {
     "data": {
      "image/png": "[encoded data removed]",
      "text/plain": [
       "<Figure size 432x288 with 1 Axes>"
      ]
     },
     "metadata": {
      "needs_background": "light"
     },
     "output_type": "display_data"
    }
   ],
   "source": [
    "# Résidus du modèle de prédiction\n",
    "fig, ax = plt.subplots()\n",
    "sns.residplot(data=video_quiz_etu, x=\"video\", y=\"quiz\", ax=ax)\n",
    "#ax.set_title(\"Résidus du modèle observé\")\n",
    "ax.set_ylabel(\"Résidu\")\n",
    "ax.set_xlabel(\"Valeur prédite\")\n",
    "plt.savefig(\"../graph/residus_regression.png\")\n",
    "plt.show()"
   ]
  },
  {
   "cell_type": "code",
   "execution_count": 94,
   "id": "7213ea72-746d-4dc3-8fd0-b596ff1edfc6",
   "metadata": {},
   "outputs": [],
   "source": [
    "# HDI des apprenants\n",
    "student_hdi = base[[\"Student_ID\", \"New_HDI\"]].dropna().set_index(\"Student_ID\")\n",
    "student_hdi.sort_values(\"Student_ID\", inplace=True)"
   ]
  },
  {
   "cell_type": "code",
   "execution_count": 95,
   "id": "cb05e124-e330-4d35-a933-5ac1e4178596",
   "metadata": {},
   "outputs": [
    {
     "data": {
      "text/html": [
       "<div>\n",
       "<style scoped>\n",
       "    .dataframe tbody tr th:only-of-type {\n",
       "        vertical-align: middle;\n",
       "    }\n",
       "\n",
       "    .dataframe tbody tr th {\n",
       "        vertical-align: top;\n",
       "    }\n",
       "\n",
       "    .dataframe thead th {\n",
       "        text-align: right;\n",
       "    }\n",
       "</style>\n",
       "<table border=\"1\" class=\"dataframe\">\n",
       "  <thead>\n",
       "    <tr style=\"text-align: right;\">\n",
       "      <th></th>\n",
       "      <th>New_HDI</th>\n",
       "    </tr>\n",
       "    <tr>\n",
       "      <th>Student_ID</th>\n",
       "      <th></th>\n",
       "    </tr>\n",
       "  </thead>\n",
       "  <tbody>\n",
       "    <tr>\n",
       "      <th>45</th>\n",
       "      <td>TH</td>\n",
       "    </tr>\n",
       "    <tr>\n",
       "      <th>83</th>\n",
       "      <td>I</td>\n",
       "    </tr>\n",
       "    <tr>\n",
       "      <th>84</th>\n",
       "      <td>B</td>\n",
       "    </tr>\n",
       "    <tr>\n",
       "      <th>87</th>\n",
       "      <td>TH</td>\n",
       "    </tr>\n",
       "    <tr>\n",
       "      <th>94</th>\n",
       "      <td>TH</td>\n",
       "    </tr>\n",
       "    <tr>\n",
       "      <th>...</th>\n",
       "      <td>...</td>\n",
       "    </tr>\n",
       "    <tr>\n",
       "      <th>68282</th>\n",
       "      <td>B</td>\n",
       "    </tr>\n",
       "    <tr>\n",
       "      <th>68326</th>\n",
       "      <td>TH</td>\n",
       "    </tr>\n",
       "    <tr>\n",
       "      <th>68332</th>\n",
       "      <td>I</td>\n",
       "    </tr>\n",
       "    <tr>\n",
       "      <th>68365</th>\n",
       "      <td>TH</td>\n",
       "    </tr>\n",
       "    <tr>\n",
       "      <th>69565</th>\n",
       "      <td>TH</td>\n",
       "    </tr>\n",
       "  </tbody>\n",
       "</table>\n",
       "<p>8963 rows × 1 columns</p>\n",
       "</div>"
      ],
      "text/plain": [
       "           New_HDI\n",
       "Student_ID        \n",
       "45              TH\n",
       "83               I\n",
       "84               B\n",
       "87              TH\n",
       "94              TH\n",
       "...            ...\n",
       "68282            B\n",
       "68326           TH\n",
       "68332            I\n",
       "68365           TH\n",
       "69565           TH\n",
       "\n",
       "[8963 rows x 1 columns]"
      ]
     },
     "execution_count": 95,
     "metadata": {},
     "output_type": "execute_result"
    }
   ],
   "source": [
    "student_hdi"
   ]
  },
  {
   "cell_type": "code",
   "execution_count": 96,
   "id": "2269b92b-5e4a-48ec-8356-ba79e07347e5",
   "metadata": {},
   "outputs": [],
   "source": [
    "# Tableau des 3 variables dont 2 catégorielles et 1 continue\n",
    "video_genre_hdi = etu_genre_video.merge(student_hdi, on=\"Student_ID\")"
   ]
  },
  {
   "cell_type": "code",
   "execution_count": 97,
   "id": "9b958bda-ca09-4f8f-ba86-c8e9b3aabbd4",
   "metadata": {},
   "outputs": [
    {
     "data": {
      "text/html": [
       "<div>\n",
       "<style scoped>\n",
       "    .dataframe tbody tr th:only-of-type {\n",
       "        vertical-align: middle;\n",
       "    }\n",
       "\n",
       "    .dataframe tbody tr th {\n",
       "        vertical-align: top;\n",
       "    }\n",
       "\n",
       "    .dataframe thead th {\n",
       "        text-align: right;\n",
       "    }\n",
       "</style>\n",
       "<table border=\"1\" class=\"dataframe\">\n",
       "  <thead>\n",
       "    <tr style=\"text-align: right;\">\n",
       "      <th></th>\n",
       "      <th>Student_ID</th>\n",
       "      <th>video</th>\n",
       "      <th>Genre</th>\n",
       "      <th>New_HDI</th>\n",
       "    </tr>\n",
       "  </thead>\n",
       "  <tbody>\n",
       "    <tr>\n",
       "      <th>0</th>\n",
       "      <td>45</td>\n",
       "      <td>25</td>\n",
       "      <td>Femme</td>\n",
       "      <td>TH</td>\n",
       "    </tr>\n",
       "    <tr>\n",
       "      <th>1</th>\n",
       "      <td>83</td>\n",
       "      <td>22</td>\n",
       "      <td>Homme</td>\n",
       "      <td>I</td>\n",
       "    </tr>\n",
       "    <tr>\n",
       "      <th>2</th>\n",
       "      <td>84</td>\n",
       "      <td>8</td>\n",
       "      <td>Homme</td>\n",
       "      <td>B</td>\n",
       "    </tr>\n",
       "    <tr>\n",
       "      <th>3</th>\n",
       "      <td>87</td>\n",
       "      <td>1</td>\n",
       "      <td>Homme</td>\n",
       "      <td>TH</td>\n",
       "    </tr>\n",
       "    <tr>\n",
       "      <th>4</th>\n",
       "      <td>94</td>\n",
       "      <td>2</td>\n",
       "      <td>Homme</td>\n",
       "      <td>TH</td>\n",
       "    </tr>\n",
       "    <tr>\n",
       "      <th>...</th>\n",
       "      <td>...</td>\n",
       "      <td>...</td>\n",
       "      <td>...</td>\n",
       "      <td>...</td>\n",
       "    </tr>\n",
       "    <tr>\n",
       "      <th>8860</th>\n",
       "      <td>68282</td>\n",
       "      <td>1</td>\n",
       "      <td>Homme</td>\n",
       "      <td>B</td>\n",
       "    </tr>\n",
       "    <tr>\n",
       "      <th>8861</th>\n",
       "      <td>68326</td>\n",
       "      <td>30</td>\n",
       "      <td>Femme</td>\n",
       "      <td>TH</td>\n",
       "    </tr>\n",
       "    <tr>\n",
       "      <th>8862</th>\n",
       "      <td>68332</td>\n",
       "      <td>4</td>\n",
       "      <td>Femme</td>\n",
       "      <td>I</td>\n",
       "    </tr>\n",
       "    <tr>\n",
       "      <th>8863</th>\n",
       "      <td>68365</td>\n",
       "      <td>0</td>\n",
       "      <td>Femme</td>\n",
       "      <td>TH</td>\n",
       "    </tr>\n",
       "    <tr>\n",
       "      <th>8864</th>\n",
       "      <td>69565</td>\n",
       "      <td>9</td>\n",
       "      <td>Femme</td>\n",
       "      <td>TH</td>\n",
       "    </tr>\n",
       "  </tbody>\n",
       "</table>\n",
       "<p>8865 rows × 4 columns</p>\n",
       "</div>"
      ],
      "text/plain": [
       "      Student_ID  video  Genre New_HDI\n",
       "0             45     25  Femme      TH\n",
       "1             83     22  Homme       I\n",
       "2             84      8  Homme       B\n",
       "3             87      1  Homme      TH\n",
       "4             94      2  Homme      TH\n",
       "...          ...    ...    ...     ...\n",
       "8860       68282      1  Homme       B\n",
       "8861       68326     30  Femme      TH\n",
       "8862       68332      4  Femme       I\n",
       "8863       68365      0  Femme      TH\n",
       "8864       69565      9  Femme      TH\n",
       "\n",
       "[8865 rows x 4 columns]"
      ]
     },
     "execution_count": 97,
     "metadata": {},
     "output_type": "execute_result"
    }
   ],
   "source": [
    "video_genre_hdi"
   ]
  },
  {
   "cell_type": "code",
   "execution_count": 98,
   "id": "57332da1-d71f-4df7-9e70-ade8184a5ed9",
   "metadata": {},
   "outputs": [],
   "source": [
    "# Modèle linéaire sans interaction(genre, HDI, video)\n",
    "mdl1 = ols(\"video ~ C(Genre) + C(New_HDI)\", data=video_genre_hdi).fit()"
   ]
  },
  {
   "cell_type": "code",
   "execution_count": 99,
   "id": "90504ea0-29d4-4bb0-b0c9-0544d13d8348",
   "metadata": {},
   "outputs": [
    {
     "data": {
      "text/html": [
       "<table class=\"simpletable\">\n",
       "<caption>OLS Regression Results</caption>\n",
       "<tr>\n",
       "  <th>Dep. Variable:</th>          <td>video</td>      <th>  R-squared:         </th> <td>   0.057</td> \n",
       "</tr>\n",
       "<tr>\n",
       "  <th>Model:</th>                   <td>OLS</td>       <th>  Adj. R-squared:    </th> <td>   0.056</td> \n",
       "</tr>\n",
       "<tr>\n",
       "  <th>Method:</th>             <td>Least Squares</td>  <th>  F-statistic:       </th> <td>   177.2</td> \n",
       "</tr>\n",
       "<tr>\n",
       "  <th>Date:</th>             <td>Sat, 24 Jun 2023</td> <th>  Prob (F-statistic):</th> <td>1.41e-111</td>\n",
       "</tr>\n",
       "<tr>\n",
       "  <th>Time:</th>                 <td>19:27:41</td>     <th>  Log-Likelihood:    </th> <td> -34351.</td> \n",
       "</tr>\n",
       "<tr>\n",
       "  <th>No. Observations:</th>      <td>  8865</td>      <th>  AIC:               </th> <td>6.871e+04</td>\n",
       "</tr>\n",
       "<tr>\n",
       "  <th>Df Residuals:</th>          <td>  8861</td>      <th>  BIC:               </th> <td>6.874e+04</td>\n",
       "</tr>\n",
       "<tr>\n",
       "  <th>Df Model:</th>              <td>     3</td>      <th>                     </th>     <td> </td>    \n",
       "</tr>\n",
       "<tr>\n",
       "  <th>Covariance Type:</th>      <td>nonrobust</td>    <th>                     </th>     <td> </td>    \n",
       "</tr>\n",
       "</table>\n",
       "<table class=\"simpletable\">\n",
       "<tr>\n",
       "          <td></td>             <th>coef</th>     <th>std err</th>      <th>t</th>      <th>P>|t|</th>  <th>[0.025</th>    <th>0.975]</th>  \n",
       "</tr>\n",
       "<tr>\n",
       "  <th>Intercept</th>         <td>    7.0011</td> <td>    0.432</td> <td>   16.211</td> <td> 0.000</td> <td>    6.155</td> <td>    7.848</td>\n",
       "</tr>\n",
       "<tr>\n",
       "  <th>C(Genre)[T.Homme]</th> <td>   -0.0959</td> <td>    0.267</td> <td>   -0.360</td> <td> 0.719</td> <td>   -0.618</td> <td>    0.427</td>\n",
       "</tr>\n",
       "<tr>\n",
       "  <th>C(New_HDI)[T.I]</th>   <td>    4.6774</td> <td>    0.586</td> <td>    7.979</td> <td> 0.000</td> <td>    3.528</td> <td>    5.826</td>\n",
       "</tr>\n",
       "<tr>\n",
       "  <th>C(New_HDI)[T.TH]</th>  <td>    8.6728</td> <td>    0.395</td> <td>   21.937</td> <td> 0.000</td> <td>    7.898</td> <td>    9.448</td>\n",
       "</tr>\n",
       "</table>\n",
       "<table class=\"simpletable\">\n",
       "<tr>\n",
       "  <th>Omnibus:</th>       <td>11867.785</td> <th>  Durbin-Watson:     </th> <td>   1.891</td> \n",
       "</tr>\n",
       "<tr>\n",
       "  <th>Prob(Omnibus):</th>  <td> 0.000</td>   <th>  Jarque-Bera (JB):  </th> <td> 639.581</td> \n",
       "</tr>\n",
       "<tr>\n",
       "  <th>Skew:</th>           <td> 0.218</td>   <th>  Prob(JB):          </th> <td>1.31e-139</td>\n",
       "</tr>\n",
       "<tr>\n",
       "  <th>Kurtosis:</th>       <td> 1.759</td>   <th>  Cond. No.          </th> <td>    8.79</td> \n",
       "</tr>\n",
       "</table><br/><br/>Notes:<br/>[1] Standard Errors assume that the covariance matrix of the errors is correctly specified."
      ],
      "text/plain": [
       "<class 'statsmodels.iolib.summary.Summary'>\n",
       "\"\"\"\n",
       "                            OLS Regression Results                            \n",
       "==============================================================================\n",
       "Dep. Variable:                  video   R-squared:                       0.057\n",
       "Model:                            OLS   Adj. R-squared:                  0.056\n",
       "Method:                 Least Squares   F-statistic:                     177.2\n",
       "Date:                Sat, 24 Jun 2023   Prob (F-statistic):          1.41e-111\n",
       "Time:                        19:27:41   Log-Likelihood:                -34351.\n",
       "No. Observations:                8865   AIC:                         6.871e+04\n",
       "Df Residuals:                    8861   BIC:                         6.874e+04\n",
       "Df Model:                           3                                         \n",
       "Covariance Type:            nonrobust                                         \n",
       "=====================================================================================\n",
       "                        coef    std err          t      P>|t|      [0.025      0.975]\n",
       "-------------------------------------------------------------------------------------\n",
       "Intercept             7.0011      0.432     16.211      0.000       6.155       7.848\n",
       "C(Genre)[T.Homme]    -0.0959      0.267     -0.360      0.719      -0.618       0.427\n",
       "C(New_HDI)[T.I]       4.6774      0.586      7.979      0.000       3.528       5.826\n",
       "C(New_HDI)[T.TH]      8.6728      0.395     21.937      0.000       7.898       9.448\n",
       "==============================================================================\n",
       "Omnibus:                    11867.785   Durbin-Watson:                   1.891\n",
       "Prob(Omnibus):                  0.000   Jarque-Bera (JB):              639.581\n",
       "Skew:                           0.218   Prob(JB):                    1.31e-139\n",
       "Kurtosis:                       1.759   Cond. No.                         8.79\n",
       "==============================================================================\n",
       "\n",
       "Notes:\n",
       "[1] Standard Errors assume that the covariance matrix of the errors is correctly specified.\n",
       "\"\"\""
      ]
     },
     "execution_count": 99,
     "metadata": {},
     "output_type": "execute_result"
    }
   ],
   "source": [
    "mdl1.summary()"
   ]
  },
  {
   "cell_type": "code",
   "execution_count": 100,
   "id": "86bb721b-29cc-47b4-9e0a-7049cd430387",
   "metadata": {},
   "outputs": [],
   "source": [
    "# ANOVA sans interaction\n",
    "anova_table = sm.stats.anova_lm(mdl1, typ=1)"
   ]
  },
  {
   "cell_type": "code",
   "execution_count": 101,
   "id": "11d1d11c-44ae-4182-b2a9-4ff207217e9e",
   "metadata": {},
   "outputs": [
    {
     "data": {
      "text/html": [
       "<div>\n",
       "<style scoped>\n",
       "    .dataframe tbody tr th:only-of-type {\n",
       "        vertical-align: middle;\n",
       "    }\n",
       "\n",
       "    .dataframe tbody tr th {\n",
       "        vertical-align: top;\n",
       "    }\n",
       "\n",
       "    .dataframe thead th {\n",
       "        text-align: right;\n",
       "    }\n",
       "</style>\n",
       "<table border=\"1\" class=\"dataframe\">\n",
       "  <thead>\n",
       "    <tr style=\"text-align: right;\">\n",
       "      <th></th>\n",
       "      <th>df</th>\n",
       "      <th>sum_sq</th>\n",
       "      <th>mean_sq</th>\n",
       "      <th>F</th>\n",
       "      <th>PR(&gt;F)</th>\n",
       "    </tr>\n",
       "  </thead>\n",
       "  <tbody>\n",
       "    <tr>\n",
       "      <th>C(Genre)</th>\n",
       "      <td>1.0</td>\n",
       "      <td>1.554895e+03</td>\n",
       "      <td>1554.895102</td>\n",
       "      <td>11.437356</td>\n",
       "      <td>7.229351e-04</td>\n",
       "    </tr>\n",
       "    <tr>\n",
       "      <th>C(New_HDI)</th>\n",
       "      <td>2.0</td>\n",
       "      <td>7.071483e+04</td>\n",
       "      <td>35357.416782</td>\n",
       "      <td>260.078874</td>\n",
       "      <td>1.738249e-110</td>\n",
       "    </tr>\n",
       "    <tr>\n",
       "      <th>Residual</th>\n",
       "      <td>8861.0</td>\n",
       "      <td>1.204643e+06</td>\n",
       "      <td>135.948823</td>\n",
       "      <td>NaN</td>\n",
       "      <td>NaN</td>\n",
       "    </tr>\n",
       "  </tbody>\n",
       "</table>\n",
       "</div>"
      ],
      "text/plain": [
       "                df        sum_sq       mean_sq           F         PR(>F)\n",
       "C(Genre)       1.0  1.554895e+03   1554.895102   11.437356   7.229351e-04\n",
       "C(New_HDI)     2.0  7.071483e+04  35357.416782  260.078874  1.738249e-110\n",
       "Residual    8861.0  1.204643e+06    135.948823         NaN            NaN"
      ]
     },
     "execution_count": 101,
     "metadata": {},
     "output_type": "execute_result"
    }
   ],
   "source": [
    "anova_table"
   ]
  },
  {
   "cell_type": "code",
   "execution_count": 102,
   "id": "3d15e301-fc66-4e69-a07c-0fc2777c78de",
   "metadata": {},
   "outputs": [],
   "source": [
    "# Modèle de regression avec interaction\n",
    "mdl2 = ols(\"video ~ C(Genre)*C(New_HDI)\", data=video_genre_hdi).fit()"
   ]
  },
  {
   "cell_type": "code",
   "execution_count": 103,
   "id": "43aaf006-9f91-480d-9c51-6096afcd4bfc",
   "metadata": {},
   "outputs": [
    {
     "data": {
      "text/html": [
       "<table class=\"simpletable\">\n",
       "<caption>OLS Regression Results</caption>\n",
       "<tr>\n",
       "  <th>Dep. Variable:</th>          <td>video</td>      <th>  R-squared:         </th> <td>   0.057</td> \n",
       "</tr>\n",
       "<tr>\n",
       "  <th>Model:</th>                   <td>OLS</td>       <th>  Adj. R-squared:    </th> <td>   0.057</td> \n",
       "</tr>\n",
       "<tr>\n",
       "  <th>Method:</th>             <td>Least Squares</td>  <th>  F-statistic:       </th> <td>   107.8</td> \n",
       "</tr>\n",
       "<tr>\n",
       "  <th>Date:</th>             <td>Sat, 24 Jun 2023</td> <th>  Prob (F-statistic):</th> <td>7.64e-111</td>\n",
       "</tr>\n",
       "<tr>\n",
       "  <th>Time:</th>                 <td>19:27:42</td>     <th>  Log-Likelihood:    </th> <td> -34347.</td> \n",
       "</tr>\n",
       "<tr>\n",
       "  <th>No. Observations:</th>      <td>  8865</td>      <th>  AIC:               </th> <td>6.871e+04</td>\n",
       "</tr>\n",
       "<tr>\n",
       "  <th>Df Residuals:</th>          <td>  8859</td>      <th>  BIC:               </th> <td>6.875e+04</td>\n",
       "</tr>\n",
       "<tr>\n",
       "  <th>Df Model:</th>              <td>     5</td>      <th>                     </th>     <td> </td>    \n",
       "</tr>\n",
       "<tr>\n",
       "  <th>Covariance Type:</th>      <td>nonrobust</td>    <th>                     </th>     <td> </td>    \n",
       "</tr>\n",
       "</table>\n",
       "<table class=\"simpletable\">\n",
       "<tr>\n",
       "                   <td></td>                     <th>coef</th>     <th>std err</th>      <th>t</th>      <th>P>|t|</th>  <th>[0.025</th>    <th>0.975]</th>  \n",
       "</tr>\n",
       "<tr>\n",
       "  <th>Intercept</th>                          <td>    7.3310</td> <td>    0.968</td> <td>    7.573</td> <td> 0.000</td> <td>    5.434</td> <td>    9.229</td>\n",
       "</tr>\n",
       "<tr>\n",
       "  <th>C(Genre)[T.Homme]</th>                  <td>   -0.4810</td> <td>    1.046</td> <td>   -0.460</td> <td> 0.646</td> <td>   -2.531</td> <td>    1.569</td>\n",
       "</tr>\n",
       "<tr>\n",
       "  <th>C(New_HDI)[T.I]</th>                    <td>    2.7733</td> <td>    1.236</td> <td>    2.244</td> <td> 0.025</td> <td>    0.350</td> <td>    5.196</td>\n",
       "</tr>\n",
       "<tr>\n",
       "  <th>C(New_HDI)[T.TH]</th>                   <td>    8.4673</td> <td>    0.995</td> <td>    8.506</td> <td> 0.000</td> <td>    6.516</td> <td>   10.419</td>\n",
       "</tr>\n",
       "<tr>\n",
       "  <th>C(Genre)[T.Homme]:C(New_HDI)[T.I]</th>  <td>    2.8032</td> <td>    1.415</td> <td>    1.982</td> <td> 0.048</td> <td>    0.030</td> <td>    5.576</td>\n",
       "</tr>\n",
       "<tr>\n",
       "  <th>C(Genre)[T.Homme]:C(New_HDI)[T.TH]</th> <td>    0.1933</td> <td>    1.085</td> <td>    0.178</td> <td> 0.859</td> <td>   -1.933</td> <td>    2.320</td>\n",
       "</tr>\n",
       "</table>\n",
       "<table class=\"simpletable\">\n",
       "<tr>\n",
       "  <th>Omnibus:</th>       <td>11724.976</td> <th>  Durbin-Watson:     </th> <td>   1.891</td> \n",
       "</tr>\n",
       "<tr>\n",
       "  <th>Prob(Omnibus):</th>  <td> 0.000</td>   <th>  Jarque-Bera (JB):  </th> <td> 637.561</td> \n",
       "</tr>\n",
       "<tr>\n",
       "  <th>Skew:</th>           <td> 0.217</td>   <th>  Prob(JB):          </th> <td>3.59e-139</td>\n",
       "</tr>\n",
       "<tr>\n",
       "  <th>Kurtosis:</th>       <td> 1.760</td>   <th>  Cond. No.          </th> <td>    33.0</td> \n",
       "</tr>\n",
       "</table><br/><br/>Notes:<br/>[1] Standard Errors assume that the covariance matrix of the errors is correctly specified."
      ],
      "text/plain": [
       "<class 'statsmodels.iolib.summary.Summary'>\n",
       "\"\"\"\n",
       "                            OLS Regression Results                            \n",
       "==============================================================================\n",
       "Dep. Variable:                  video   R-squared:                       0.057\n",
       "Model:                            OLS   Adj. R-squared:                  0.057\n",
       "Method:                 Least Squares   F-statistic:                     107.8\n",
       "Date:                Sat, 24 Jun 2023   Prob (F-statistic):          7.64e-111\n",
       "Time:                        19:27:42   Log-Likelihood:                -34347.\n",
       "No. Observations:                8865   AIC:                         6.871e+04\n",
       "Df Residuals:                    8859   BIC:                         6.875e+04\n",
       "Df Model:                           5                                         \n",
       "Covariance Type:            nonrobust                                         \n",
       "======================================================================================================\n",
       "                                         coef    std err          t      P>|t|      [0.025      0.975]\n",
       "------------------------------------------------------------------------------------------------------\n",
       "Intercept                              7.3310      0.968      7.573      0.000       5.434       9.229\n",
       "C(Genre)[T.Homme]                     -0.4810      1.046     -0.460      0.646      -2.531       1.569\n",
       "C(New_HDI)[T.I]                        2.7733      1.236      2.244      0.025       0.350       5.196\n",
       "C(New_HDI)[T.TH]                       8.4673      0.995      8.506      0.000       6.516      10.419\n",
       "C(Genre)[T.Homme]:C(New_HDI)[T.I]      2.8032      1.415      1.982      0.048       0.030       5.576\n",
       "C(Genre)[T.Homme]:C(New_HDI)[T.TH]     0.1933      1.085      0.178      0.859      -1.933       2.320\n",
       "==============================================================================\n",
       "Omnibus:                    11724.976   Durbin-Watson:                   1.891\n",
       "Prob(Omnibus):                  0.000   Jarque-Bera (JB):              637.561\n",
       "Skew:                           0.217   Prob(JB):                    3.59e-139\n",
       "Kurtosis:                       1.760   Cond. No.                         33.0\n",
       "==============================================================================\n",
       "\n",
       "Notes:\n",
       "[1] Standard Errors assume that the covariance matrix of the errors is correctly specified.\n",
       "\"\"\""
      ]
     },
     "execution_count": 103,
     "metadata": {},
     "output_type": "execute_result"
    }
   ],
   "source": [
    "mdl2.summary()"
   ]
  },
  {
   "cell_type": "code",
   "execution_count": 104,
   "id": "56ba2a30-5ca6-4b3a-962c-7246e87644c1",
   "metadata": {},
   "outputs": [],
   "source": [
    "# ANOVA avec interaction\n",
    "anova_table = sm.stats.anova_lm(mdl2, typ=1)"
   ]
  },
  {
   "cell_type": "code",
   "execution_count": 105,
   "id": "792545d9-5b06-4fad-8541-058d21c7015f",
   "metadata": {},
   "outputs": [
    {
     "data": {
      "text/html": [
       "<div>\n",
       "<style scoped>\n",
       "    .dataframe tbody tr th:only-of-type {\n",
       "        vertical-align: middle;\n",
       "    }\n",
       "\n",
       "    .dataframe tbody tr th {\n",
       "        vertical-align: top;\n",
       "    }\n",
       "\n",
       "    .dataframe thead th {\n",
       "        text-align: right;\n",
       "    }\n",
       "</style>\n",
       "<table border=\"1\" class=\"dataframe\">\n",
       "  <thead>\n",
       "    <tr style=\"text-align: right;\">\n",
       "      <th></th>\n",
       "      <th>df</th>\n",
       "      <th>sum_sq</th>\n",
       "      <th>mean_sq</th>\n",
       "      <th>F</th>\n",
       "      <th>PR(&gt;F)</th>\n",
       "    </tr>\n",
       "  </thead>\n",
       "  <tbody>\n",
       "    <tr>\n",
       "      <th>C(Genre)</th>\n",
       "      <td>1.0</td>\n",
       "      <td>1.554895e+03</td>\n",
       "      <td>1554.895102</td>\n",
       "      <td>11.443839</td>\n",
       "      <td>7.204212e-04</td>\n",
       "    </tr>\n",
       "    <tr>\n",
       "      <th>C(New_HDI)</th>\n",
       "      <td>2.0</td>\n",
       "      <td>7.071483e+04</td>\n",
       "      <td>35357.416782</td>\n",
       "      <td>260.226287</td>\n",
       "      <td>1.514733e-110</td>\n",
       "    </tr>\n",
       "    <tr>\n",
       "      <th>C(Genre):C(New_HDI)</th>\n",
       "      <td>2.0</td>\n",
       "      <td>9.541531e+02</td>\n",
       "      <td>477.076535</td>\n",
       "      <td>3.511225</td>\n",
       "      <td>2.990187e-02</td>\n",
       "    </tr>\n",
       "    <tr>\n",
       "      <th>Residual</th>\n",
       "      <td>8859.0</td>\n",
       "      <td>1.203688e+06</td>\n",
       "      <td>135.871810</td>\n",
       "      <td>NaN</td>\n",
       "      <td>NaN</td>\n",
       "    </tr>\n",
       "  </tbody>\n",
       "</table>\n",
       "</div>"
      ],
      "text/plain": [
       "                         df        sum_sq       mean_sq           F  \\\n",
       "C(Genre)                1.0  1.554895e+03   1554.895102   11.443839   \n",
       "C(New_HDI)              2.0  7.071483e+04  35357.416782  260.226287   \n",
       "C(Genre):C(New_HDI)     2.0  9.541531e+02    477.076535    3.511225   \n",
       "Residual             8859.0  1.203688e+06    135.871810         NaN   \n",
       "\n",
       "                            PR(>F)  \n",
       "C(Genre)              7.204212e-04  \n",
       "C(New_HDI)           1.514733e-110  \n",
       "C(Genre):C(New_HDI)   2.990187e-02  \n",
       "Residual                       NaN  "
      ]
     },
     "execution_count": 105,
     "metadata": {},
     "output_type": "execute_result"
    }
   ],
   "source": [
    "anova_table"
   ]
  },
  {
   "cell_type": "code",
   "execution_count": 106,
   "id": "76eb6c70-9440-4330-b0af-156c3dacda86",
   "metadata": {},
   "outputs": [],
   "source": [
    "# obtention de l'examen /certification par étudiant par session, selon le genre et l'HDI\n",
    "df_exam = base.groupby([\"Student_ID\", \"Itération\", \"Gender\", \"New_HDI\"])[[\"Exam.bin\", \"Certif.bin\"]].sum().reset_index([\"Gender\", \"New_HDI\"])"
   ]
  },
  {
   "cell_type": "code",
   "execution_count": 107,
   "id": "4aa7f327",
   "metadata": {},
   "outputs": [],
   "source": [
    "df_exam.rename(columns={\"Exam.bin\": \"Exam\", \"Certif.bin\": \"Certif\"}, inplace=True)"
   ]
  },
  {
   "cell_type": "code",
   "execution_count": 108,
   "id": "06ef8d04",
   "metadata": {},
   "outputs": [
    {
     "data": {
      "text/html": [
       "<div>\n",
       "<style scoped>\n",
       "    .dataframe tbody tr th:only-of-type {\n",
       "        vertical-align: middle;\n",
       "    }\n",
       "\n",
       "    .dataframe tbody tr th {\n",
       "        vertical-align: top;\n",
       "    }\n",
       "\n",
       "    .dataframe thead th {\n",
       "        text-align: right;\n",
       "    }\n",
       "</style>\n",
       "<table border=\"1\" class=\"dataframe\">\n",
       "  <thead>\n",
       "    <tr style=\"text-align: right;\">\n",
       "      <th></th>\n",
       "      <th></th>\n",
       "      <th>Gender</th>\n",
       "      <th>New_HDI</th>\n",
       "      <th>Exam</th>\n",
       "      <th>Certif</th>\n",
       "    </tr>\n",
       "    <tr>\n",
       "      <th>Student_ID</th>\n",
       "      <th>Itération</th>\n",
       "      <th></th>\n",
       "      <th></th>\n",
       "      <th></th>\n",
       "      <th></th>\n",
       "    </tr>\n",
       "  </thead>\n",
       "  <tbody>\n",
       "    <tr>\n",
       "      <th>45</th>\n",
       "      <th>1</th>\n",
       "      <td>une femme</td>\n",
       "      <td>TH</td>\n",
       "      <td>0</td>\n",
       "      <td>0</td>\n",
       "    </tr>\n",
       "    <tr>\n",
       "      <th>83</th>\n",
       "      <th>1</th>\n",
       "      <td>un homme</td>\n",
       "      <td>I</td>\n",
       "      <td>0</td>\n",
       "      <td>0</td>\n",
       "    </tr>\n",
       "    <tr>\n",
       "      <th>84</th>\n",
       "      <th>1</th>\n",
       "      <td>un homme</td>\n",
       "      <td>B</td>\n",
       "      <td>0</td>\n",
       "      <td>0</td>\n",
       "    </tr>\n",
       "    <tr>\n",
       "      <th>87</th>\n",
       "      <th>1</th>\n",
       "      <td>un homme</td>\n",
       "      <td>TH</td>\n",
       "      <td>0</td>\n",
       "      <td>0</td>\n",
       "    </tr>\n",
       "    <tr>\n",
       "      <th>94</th>\n",
       "      <th>1</th>\n",
       "      <td>un homme</td>\n",
       "      <td>TH</td>\n",
       "      <td>0</td>\n",
       "      <td>0</td>\n",
       "    </tr>\n",
       "    <tr>\n",
       "      <th>...</th>\n",
       "      <th>...</th>\n",
       "      <td>...</td>\n",
       "      <td>...</td>\n",
       "      <td>...</td>\n",
       "      <td>...</td>\n",
       "    </tr>\n",
       "    <tr>\n",
       "      <th>68282</th>\n",
       "      <th>3</th>\n",
       "      <td>un homme</td>\n",
       "      <td>B</td>\n",
       "      <td>0</td>\n",
       "      <td>0</td>\n",
       "    </tr>\n",
       "    <tr>\n",
       "      <th>68326</th>\n",
       "      <th>3</th>\n",
       "      <td>une femme</td>\n",
       "      <td>TH</td>\n",
       "      <td>1</td>\n",
       "      <td>0</td>\n",
       "    </tr>\n",
       "    <tr>\n",
       "      <th>68332</th>\n",
       "      <th>3</th>\n",
       "      <td>une femme</td>\n",
       "      <td>I</td>\n",
       "      <td>1</td>\n",
       "      <td>1</td>\n",
       "    </tr>\n",
       "    <tr>\n",
       "      <th>68365</th>\n",
       "      <th>3</th>\n",
       "      <td>une femme</td>\n",
       "      <td>TH</td>\n",
       "      <td>0</td>\n",
       "      <td>0</td>\n",
       "    </tr>\n",
       "    <tr>\n",
       "      <th>69565</th>\n",
       "      <th>3</th>\n",
       "      <td>une femme</td>\n",
       "      <td>TH</td>\n",
       "      <td>0</td>\n",
       "      <td>0</td>\n",
       "    </tr>\n",
       "  </tbody>\n",
       "</table>\n",
       "<p>8951 rows × 4 columns</p>\n",
       "</div>"
      ],
      "text/plain": [
       "                         Gender New_HDI  Exam  Certif\n",
       "Student_ID Itération                                 \n",
       "45         1          une femme      TH     0       0\n",
       "83         1           un homme       I     0       0\n",
       "84         1           un homme       B     0       0\n",
       "87         1           un homme      TH     0       0\n",
       "94         1           un homme      TH     0       0\n",
       "...                         ...     ...   ...     ...\n",
       "68282      3           un homme       B     0       0\n",
       "68326      3          une femme      TH     1       0\n",
       "68332      3          une femme       I     1       1\n",
       "68365      3          une femme      TH     0       0\n",
       "69565      3          une femme      TH     0       0\n",
       "\n",
       "[8951 rows x 4 columns]"
      ]
     },
     "execution_count": 108,
     "metadata": {},
     "output_type": "execute_result"
    }
   ],
   "source": [
    "df_exam"
   ]
  },
  {
   "cell_type": "code",
   "execution_count": 109,
   "id": "3f029ec8",
   "metadata": {},
   "outputs": [],
   "source": [
    "# Obtention de l'examen et/ou de la certifcation\n",
    "df_exam[\"Exam_Certif\"] = df_exam[\"Exam\"] | df_exam[\"Certif\"]"
   ]
  },
  {
   "cell_type": "code",
   "execution_count": 110,
   "id": "47905246",
   "metadata": {},
   "outputs": [],
   "source": [
    "# Obtention ou non par itération\n",
    "df_exam_v1 = df_exam.xs(1, level=\"Itération\")\n",
    "df_exam_v2 = df_exam.xs(2, level=\"Itération\")\n",
    "df_exam_v3 = df_exam.xs(3, level=\"Itération\")"
   ]
  },
  {
   "cell_type": "code",
   "execution_count": 111,
   "id": "61dbe19f",
   "metadata": {},
   "outputs": [
    {
     "data": {
      "text/plain": [
       "array([1, 0])"
      ]
     },
     "execution_count": 111,
     "metadata": {},
     "output_type": "execute_result"
    }
   ],
   "source": [
    "df_exam_v3[\"Exam_Certif\"].unique()"
   ]
  },
  {
   "cell_type": "code",
   "execution_count": 112,
   "id": "4f7a9b1e",
   "metadata": {},
   "outputs": [],
   "source": [
    "# Generalized Linear Models (Formula du GLM)\n",
    "formula = \"Exam_Certif ~ Gender + New_HDI\""
   ]
  },
  {
   "cell_type": "code",
   "execution_count": 113,
   "id": "1fac0a84",
   "metadata": {},
   "outputs": [],
   "source": [
    "# Modèle logistic (GLM) de type binomial (variable dépendante binaire)\n",
    "model = []\n",
    "for n, version in enumerate([df_exam_v1, df_exam_v2, df_exam_v3]):\n",
    "    model.append(glm(formula=formula, data=version, family=sm.families.Binomial()))"
   ]
  },
  {
   "cell_type": "code",
   "execution_count": 114,
   "id": "eb7fd220",
   "metadata": {},
   "outputs": [],
   "source": [
    "# résultats de la fonction logistic par itération\n",
    "result_v1 = model[0].fit()\n",
    "result_v2 = model[1].fit()\n",
    "result_v3 = model[2].fit()"
   ]
  },
  {
   "cell_type": "code",
   "execution_count": 115,
   "id": "da96bf84",
   "metadata": {},
   "outputs": [
    {
     "data": {
      "text/html": [
       "<table class=\"simpletable\">\n",
       "<caption>Generalized Linear Model Regression Results</caption>\n",
       "<tr>\n",
       "  <th>Dep. Variable:</th>      <td>Exam_Certif</td>   <th>  No. Observations:  </th>  <td>  5237</td> \n",
       "</tr>\n",
       "<tr>\n",
       "  <th>Model:</th>                  <td>GLM</td>       <th>  Df Residuals:      </th>  <td>  5233</td> \n",
       "</tr>\n",
       "<tr>\n",
       "  <th>Model Family:</th>        <td>Binomial</td>     <th>  Df Model:          </th>  <td>     3</td> \n",
       "</tr>\n",
       "<tr>\n",
       "  <th>Link Function:</th>         <td>Logit</td>      <th>  Scale:             </th> <td>  1.0000</td>\n",
       "</tr>\n",
       "<tr>\n",
       "  <th>Method:</th>                <td>IRLS</td>       <th>  Log-Likelihood:    </th> <td> -128.64</td>\n",
       "</tr>\n",
       "<tr>\n",
       "  <th>Date:</th>            <td>Sat, 24 Jun 2023</td> <th>  Deviance:          </th> <td>  257.28</td>\n",
       "</tr>\n",
       "<tr>\n",
       "  <th>Time:</th>                <td>19:27:42</td>     <th>  Pearson chi2:      </th> <td>4.84e+03</td>\n",
       "</tr>\n",
       "<tr>\n",
       "  <th>No. Iterations:</th>         <td>25</td>        <th>  Pseudo R-squ. (CS):</th> <td>0.001021</td>\n",
       "</tr>\n",
       "<tr>\n",
       "  <th>Covariance Type:</th>     <td>nonrobust</td>    <th>                     </th>     <td> </td>   \n",
       "</tr>\n",
       "</table>\n",
       "<table class=\"simpletable\">\n",
       "<tr>\n",
       "           <td></td>              <th>coef</th>     <th>std err</th>      <th>z</th>      <th>P>|z|</th>  <th>[0.025</th>    <th>0.975]</th>  \n",
       "</tr>\n",
       "<tr>\n",
       "  <th>Intercept</th>           <td>   -5.9120</td> <td>    0.715</td> <td>   -8.266</td> <td> 0.000</td> <td>   -7.314</td> <td>   -4.510</td>\n",
       "</tr>\n",
       "<tr>\n",
       "  <th>Gender[T.une femme]</th> <td>    0.6235</td> <td>    0.456</td> <td>    1.367</td> <td> 0.172</td> <td>   -0.270</td> <td>    1.517</td>\n",
       "</tr>\n",
       "<tr>\n",
       "  <th>New_HDI[T.I]</th>        <td>  -20.8950</td> <td> 1.75e+04</td> <td>   -0.001</td> <td> 0.999</td> <td>-3.43e+04</td> <td> 3.42e+04</td>\n",
       "</tr>\n",
       "<tr>\n",
       "  <th>New_HDI[T.TH]</th>       <td>    0.2241</td> <td>    0.756</td> <td>    0.297</td> <td> 0.767</td> <td>   -1.257</td> <td>    1.705</td>\n",
       "</tr>\n",
       "</table>"
      ],
      "text/plain": [
       "<class 'statsmodels.iolib.summary.Summary'>\n",
       "\"\"\"\n",
       "                 Generalized Linear Model Regression Results                  \n",
       "==============================================================================\n",
       "Dep. Variable:            Exam_Certif   No. Observations:                 5237\n",
       "Model:                            GLM   Df Residuals:                     5233\n",
       "Model Family:                Binomial   Df Model:                            3\n",
       "Link Function:                  Logit   Scale:                          1.0000\n",
       "Method:                          IRLS   Log-Likelihood:                -128.64\n",
       "Date:                Sat, 24 Jun 2023   Deviance:                       257.28\n",
       "Time:                        19:27:42   Pearson chi2:                 4.84e+03\n",
       "No. Iterations:                    25   Pseudo R-squ. (CS):           0.001021\n",
       "Covariance Type:            nonrobust                                         \n",
       "=======================================================================================\n",
       "                          coef    std err          z      P>|z|      [0.025      0.975]\n",
       "---------------------------------------------------------------------------------------\n",
       "Intercept              -5.9120      0.715     -8.266      0.000      -7.314      -4.510\n",
       "Gender[T.une femme]     0.6235      0.456      1.367      0.172      -0.270       1.517\n",
       "New_HDI[T.I]          -20.8950   1.75e+04     -0.001      0.999   -3.43e+04    3.42e+04\n",
       "New_HDI[T.TH]           0.2241      0.756      0.297      0.767      -1.257       1.705\n",
       "=======================================================================================\n",
       "\"\"\""
      ]
     },
     "execution_count": 115,
     "metadata": {},
     "output_type": "execute_result"
    }
   ],
   "source": [
    "result_v1.summary()"
   ]
  },
  {
   "cell_type": "code",
   "execution_count": 116,
   "id": "da78f6eb",
   "metadata": {},
   "outputs": [],
   "source": [
    "mooc = [\"V1\", \"V2\", \"V3\"]"
   ]
  },
  {
   "cell_type": "code",
   "execution_count": 117,
   "id": "26bde100",
   "metadata": {},
   "outputs": [],
   "source": [
    "# Calcul des odds-ratio, p-value et ci pour chaque itération\n",
    "full_odds_r, full_pvalues, full_ci = [], [], []\n",
    "for n, version in enumerate([result_v1, result_v2, result_v3]):\n",
    "    # OR\n",
    "    odds = np.exp(version.params).round(3)\n",
    "    odds_r = odds / odds[\"Intercept\"]\n",
    "    odds_r.name = mooc[n]\n",
    "    full_odds_r.append(odds_r)\n",
    "    # p-value\n",
    "    p_values = version.pvalues.round(3)\n",
    "    p_values.name = mooc[n]\n",
    "    full_pvalues.append(p_values)\n",
    "    # interval de confiance (ci)\n",
    "    ci = version.conf_int(alpha=0.05) # intervalle à 95 %\n",
    "    sup = np.exp(ci[1]) / np.exp(ci.loc[\"Intercept\", 0]) \n",
    "    inf = np.exp(ci[0]) / np.exp(ci.loc[\"Intercept\", 1])\n",
    "    ci = \"[\" + inf.round(3).astype(str) + \", \" + sup.round(3).astype(str) + \"]\"\n",
    "    ci.name = mooc[n]\n",
    "    full_ci.append(ci)"
   ]
  },
  {
   "cell_type": "code",
   "execution_count": 118,
   "id": "f5fc2b4b",
   "metadata": {},
   "outputs": [],
   "source": [
    "tab_coef = pd.concat([pd.DataFrame(full_odds_r).T, pd.DataFrame(full_pvalues).T, pd.DataFrame(full_ci).T])"
   ]
  },
  {
   "cell_type": "code",
   "execution_count": 119,
   "id": "a827fe4a",
   "metadata": {},
   "outputs": [
    {
     "data": {
      "text/html": [
       "<div>\n",
       "<style scoped>\n",
       "    .dataframe tbody tr th:only-of-type {\n",
       "        vertical-align: middle;\n",
       "    }\n",
       "\n",
       "    .dataframe tbody tr th {\n",
       "        vertical-align: top;\n",
       "    }\n",
       "\n",
       "    .dataframe thead th {\n",
       "        text-align: right;\n",
       "    }\n",
       "</style>\n",
       "<table border=\"1\" class=\"dataframe\">\n",
       "  <thead>\n",
       "    <tr style=\"text-align: right;\">\n",
       "      <th></th>\n",
       "      <th>V1</th>\n",
       "      <th>V2</th>\n",
       "      <th>V3</th>\n",
       "    </tr>\n",
       "  </thead>\n",
       "  <tbody>\n",
       "    <tr>\n",
       "      <th>Intercept</th>\n",
       "      <td>1.0</td>\n",
       "      <td>1.0</td>\n",
       "      <td>1.0</td>\n",
       "    </tr>\n",
       "    <tr>\n",
       "      <th>Gender[T.une femme]</th>\n",
       "      <td>621.666667</td>\n",
       "      <td>2.32574</td>\n",
       "      <td>0.641167</td>\n",
       "    </tr>\n",
       "    <tr>\n",
       "      <th>New_HDI[T.I]</th>\n",
       "      <td>0.0</td>\n",
       "      <td>2.382688</td>\n",
       "      <td>0.837539</td>\n",
       "    </tr>\n",
       "    <tr>\n",
       "      <th>New_HDI[T.TH]</th>\n",
       "      <td>417.0</td>\n",
       "      <td>3.548975</td>\n",
       "      <td>0.658517</td>\n",
       "    </tr>\n",
       "    <tr>\n",
       "      <th>Intercept</th>\n",
       "      <td>0.0</td>\n",
       "      <td>0.0</td>\n",
       "      <td>0.157</td>\n",
       "    </tr>\n",
       "    <tr>\n",
       "      <th>Gender[T.une femme]</th>\n",
       "      <td>0.172</td>\n",
       "      <td>0.826</td>\n",
       "      <td>0.053</td>\n",
       "    </tr>\n",
       "    <tr>\n",
       "      <th>New_HDI[T.I]</th>\n",
       "      <td>0.999</td>\n",
       "      <td>0.849</td>\n",
       "      <td>0.813</td>\n",
       "    </tr>\n",
       "    <tr>\n",
       "      <th>New_HDI[T.TH]</th>\n",
       "      <td>0.767</td>\n",
       "      <td>0.004</td>\n",
       "      <td>0.311</td>\n",
       "    </tr>\n",
       "    <tr>\n",
       "      <th>Intercept</th>\n",
       "      <td>[0.061, 16.503]</td>\n",
       "      <td>[0.561, 1.783]</td>\n",
       "      <td>[0.518, 1.931]</td>\n",
       "    </tr>\n",
       "    <tr>\n",
       "      <th>Gender[T.une femme]</th>\n",
       "      <td>[69.397, 6844.388]</td>\n",
       "      <td>[1.451, 3.721]</td>\n",
       "      <td>[0.374, 1.099]</td>\n",
       "    </tr>\n",
       "    <tr>\n",
       "      <th>New_HDI[T.I]</th>\n",
       "      <td>[0.0, inf]</td>\n",
       "      <td>[1.125, 5.04]</td>\n",
       "      <td>[0.367, 1.907]</td>\n",
       "    </tr>\n",
       "    <tr>\n",
       "      <th>New_HDI[T.TH]</th>\n",
       "      <td>[25.872, 8259.698]</td>\n",
       "      <td>[1.959, 6.424]</td>\n",
       "      <td>[0.334, 1.297]</td>\n",
       "    </tr>\n",
       "  </tbody>\n",
       "</table>\n",
       "</div>"
      ],
      "text/plain": [
       "                                     V1              V2              V3\n",
       "Intercept                           1.0             1.0             1.0\n",
       "Gender[T.une femme]          621.666667         2.32574        0.641167\n",
       "New_HDI[T.I]                        0.0        2.382688        0.837539\n",
       "New_HDI[T.TH]                     417.0        3.548975        0.658517\n",
       "Intercept                           0.0             0.0           0.157\n",
       "Gender[T.une femme]               0.172           0.826           0.053\n",
       "New_HDI[T.I]                      0.999           0.849           0.813\n",
       "New_HDI[T.TH]                     0.767           0.004           0.311\n",
       "Intercept               [0.061, 16.503]  [0.561, 1.783]  [0.518, 1.931]\n",
       "Gender[T.une femme]  [69.397, 6844.388]  [1.451, 3.721]  [0.374, 1.099]\n",
       "New_HDI[T.I]                 [0.0, inf]   [1.125, 5.04]  [0.367, 1.907]\n",
       "New_HDI[T.TH]        [25.872, 8259.698]  [1.959, 6.424]  [0.334, 1.297]"
      ]
     },
     "execution_count": 119,
     "metadata": {},
     "output_type": "execute_result"
    }
   ],
   "source": [
    "tab_coef"
   ]
  },
  {
   "cell_type": "code",
   "execution_count": 120,
   "id": "62296439",
   "metadata": {},
   "outputs": [],
   "source": [
    "index = pd.MultiIndex.from_arrays([[\"odds-ratio\", \"odds-ratio\", \"odds-ratio\", \"odds-ratio\", \n",
    "                                    \"p-value\", \"p-value\", \"p-value\", \"p-value\", \n",
    "                                    \"ci\", \"ci\", \"ci\", \"ci\"], \n",
    "                                    tab_coef.index], names=[\"type\", \"coef\"])"
   ]
  },
  {
   "cell_type": "code",
   "execution_count": 121,
   "id": "d8af0fee",
   "metadata": {},
   "outputs": [],
   "source": [
    "tab_full = pd.DataFrame({\"V1\": list(tab_coef[\"V1\"]), \"V2\": list(tab_coef[\"V2\"]), \"V3\": list(tab_coef[\"V3\"])}, index=index)"
   ]
  },
  {
   "cell_type": "code",
   "execution_count": 122,
   "id": "cde9e278",
   "metadata": {},
   "outputs": [],
   "source": [
    "tab_full.reset_index(inplace=True)"
   ]
  },
  {
   "cell_type": "code",
   "execution_count": 123,
   "id": "f46ea3ac",
   "metadata": {},
   "outputs": [],
   "source": [
    "tab_full.set_index([\"type\"], inplace=True)"
   ]
  },
  {
   "cell_type": "code",
   "execution_count": 124,
   "id": "cdff1ed3",
   "metadata": {},
   "outputs": [
    {
     "data": {
      "text/html": [
       "<div>\n",
       "<style scoped>\n",
       "    .dataframe tbody tr th:only-of-type {\n",
       "        vertical-align: middle;\n",
       "    }\n",
       "\n",
       "    .dataframe tbody tr th {\n",
       "        vertical-align: top;\n",
       "    }\n",
       "\n",
       "    .dataframe thead th {\n",
       "        text-align: right;\n",
       "    }\n",
       "</style>\n",
       "<table border=\"1\" class=\"dataframe\">\n",
       "  <thead>\n",
       "    <tr style=\"text-align: right;\">\n",
       "      <th></th>\n",
       "      <th>coef</th>\n",
       "      <th>V1</th>\n",
       "      <th>V2</th>\n",
       "      <th>V3</th>\n",
       "    </tr>\n",
       "    <tr>\n",
       "      <th>type</th>\n",
       "      <th></th>\n",
       "      <th></th>\n",
       "      <th></th>\n",
       "      <th></th>\n",
       "    </tr>\n",
       "  </thead>\n",
       "  <tbody>\n",
       "    <tr>\n",
       "      <th>odds-ratio</th>\n",
       "      <td>Intercept</td>\n",
       "      <td>1.0</td>\n",
       "      <td>1.0</td>\n",
       "      <td>1.0</td>\n",
       "    </tr>\n",
       "    <tr>\n",
       "      <th>odds-ratio</th>\n",
       "      <td>Gender[T.une femme]</td>\n",
       "      <td>621.666667</td>\n",
       "      <td>2.32574</td>\n",
       "      <td>0.641167</td>\n",
       "    </tr>\n",
       "    <tr>\n",
       "      <th>odds-ratio</th>\n",
       "      <td>New_HDI[T.I]</td>\n",
       "      <td>0.0</td>\n",
       "      <td>2.382688</td>\n",
       "      <td>0.837539</td>\n",
       "    </tr>\n",
       "    <tr>\n",
       "      <th>odds-ratio</th>\n",
       "      <td>New_HDI[T.TH]</td>\n",
       "      <td>417.0</td>\n",
       "      <td>3.548975</td>\n",
       "      <td>0.658517</td>\n",
       "    </tr>\n",
       "    <tr>\n",
       "      <th>p-value</th>\n",
       "      <td>Intercept</td>\n",
       "      <td>0.0</td>\n",
       "      <td>0.0</td>\n",
       "      <td>0.157</td>\n",
       "    </tr>\n",
       "    <tr>\n",
       "      <th>p-value</th>\n",
       "      <td>Gender[T.une femme]</td>\n",
       "      <td>0.172</td>\n",
       "      <td>0.826</td>\n",
       "      <td>0.053</td>\n",
       "    </tr>\n",
       "    <tr>\n",
       "      <th>p-value</th>\n",
       "      <td>New_HDI[T.I]</td>\n",
       "      <td>0.999</td>\n",
       "      <td>0.849</td>\n",
       "      <td>0.813</td>\n",
       "    </tr>\n",
       "    <tr>\n",
       "      <th>p-value</th>\n",
       "      <td>New_HDI[T.TH]</td>\n",
       "      <td>0.767</td>\n",
       "      <td>0.004</td>\n",
       "      <td>0.311</td>\n",
       "    </tr>\n",
       "    <tr>\n",
       "      <th>ci</th>\n",
       "      <td>Intercept</td>\n",
       "      <td>[0.061, 16.503]</td>\n",
       "      <td>[0.561, 1.783]</td>\n",
       "      <td>[0.518, 1.931]</td>\n",
       "    </tr>\n",
       "    <tr>\n",
       "      <th>ci</th>\n",
       "      <td>Gender[T.une femme]</td>\n",
       "      <td>[69.397, 6844.388]</td>\n",
       "      <td>[1.451, 3.721]</td>\n",
       "      <td>[0.374, 1.099]</td>\n",
       "    </tr>\n",
       "    <tr>\n",
       "      <th>ci</th>\n",
       "      <td>New_HDI[T.I]</td>\n",
       "      <td>[0.0, inf]</td>\n",
       "      <td>[1.125, 5.04]</td>\n",
       "      <td>[0.367, 1.907]</td>\n",
       "    </tr>\n",
       "    <tr>\n",
       "      <th>ci</th>\n",
       "      <td>New_HDI[T.TH]</td>\n",
       "      <td>[25.872, 8259.698]</td>\n",
       "      <td>[1.959, 6.424]</td>\n",
       "      <td>[0.334, 1.297]</td>\n",
       "    </tr>\n",
       "  </tbody>\n",
       "</table>\n",
       "</div>"
      ],
      "text/plain": [
       "                           coef                  V1              V2  \\\n",
       "type                                                                  \n",
       "odds-ratio            Intercept                 1.0             1.0   \n",
       "odds-ratio  Gender[T.une femme]          621.666667         2.32574   \n",
       "odds-ratio         New_HDI[T.I]                 0.0        2.382688   \n",
       "odds-ratio        New_HDI[T.TH]               417.0        3.548975   \n",
       "p-value               Intercept                 0.0             0.0   \n",
       "p-value     Gender[T.une femme]               0.172           0.826   \n",
       "p-value            New_HDI[T.I]               0.999           0.849   \n",
       "p-value           New_HDI[T.TH]               0.767           0.004   \n",
       "ci                    Intercept     [0.061, 16.503]  [0.561, 1.783]   \n",
       "ci          Gender[T.une femme]  [69.397, 6844.388]  [1.451, 3.721]   \n",
       "ci                 New_HDI[T.I]          [0.0, inf]   [1.125, 5.04]   \n",
       "ci                New_HDI[T.TH]  [25.872, 8259.698]  [1.959, 6.424]   \n",
       "\n",
       "                        V3  \n",
       "type                        \n",
       "odds-ratio             1.0  \n",
       "odds-ratio        0.641167  \n",
       "odds-ratio        0.837539  \n",
       "odds-ratio        0.658517  \n",
       "p-value              0.157  \n",
       "p-value              0.053  \n",
       "p-value              0.813  \n",
       "p-value              0.311  \n",
       "ci          [0.518, 1.931]  \n",
       "ci          [0.374, 1.099]  \n",
       "ci          [0.367, 1.907]  \n",
       "ci          [0.334, 1.297]  "
      ]
     },
     "execution_count": 124,
     "metadata": {},
     "output_type": "execute_result"
    }
   ],
   "source": [
    "tab_full"
   ]
  },
  {
   "attachments": {},
   "cell_type": "markdown",
   "id": "7d91f37e",
   "metadata": {},
   "source": [
    "p > 0.05 : Non significatif (pas d'astérisque)\n",
    "0.01 < p ≤ 0.05 : * (un astérisque)\n",
    "0.001 < p ≤ 0.01 : ** (deux astérisques)\n",
    "p ≤ 0.001 : *** (trois astérisques)"
   ]
  },
  {
   "cell_type": "code",
   "execution_count": 125,
   "id": "8686a8c5",
   "metadata": {},
   "outputs": [],
   "source": [
    "ci_v1 = tab_full.loc[\"ci\", [\"coef\", \"V1\"]]\n",
    "or_v1 = tab_full.loc[\"odds-ratio\", [\"coef\", \"V1\"]]\n",
    "pval_v1 = tab_full.loc[\"p-value\", [\"coef\", \"V1\"]]\n",
    "\n",
    "ci_v2 = tab_full.loc[\"ci\", [\"coef\", \"V2\"]]\n",
    "or_v2 = tab_full.loc[\"odds-ratio\", [\"coef\", \"V2\"]]\n",
    "pval_v2 = tab_full.loc[\"p-value\", [\"coef\", \"V2\"]]\n",
    "\n",
    "ci_v3 = tab_full.loc[\"ci\", [\"coef\", \"V3\"]]\n",
    "or_v3 = tab_full.loc[\"odds-ratio\", [\"coef\", \"V3\"]]\n",
    "pval_v3 = tab_full.loc[\"p-value\", [\"coef\", \"V3\"]]"
   ]
  },
  {
   "cell_type": "code",
   "execution_count": 126,
   "id": "6bf4182d",
   "metadata": {},
   "outputs": [],
   "source": [
    "ci_v1.rename(columns={'V1': 'CI'}, inplace=True)\n",
    "ci_v2.rename(columns={'V2': 'CI'}, inplace=True)\n",
    "ci_v3.rename(columns={'V3': 'CI'}, inplace=True)\n",
    "\n",
    "or_v1.rename(columns={'V1': 'OR'}, inplace=True)\n",
    "or_v2.rename(columns={'V2': 'OR'}, inplace=True)\n",
    "or_v3.rename(columns={'V3': 'OR'}, inplace=True)\n",
    "\n",
    "pval_v1.rename(columns={'V1': 'pval'}, inplace=True)\n",
    "pval_v2.rename(columns={'V2': 'pval'}, inplace=True)\n",
    "pval_v3.rename(columns={'V3': 'pval'}, inplace=True)"
   ]
  },
  {
   "cell_type": "code",
   "execution_count": 127,
   "id": "d3ecf2e2",
   "metadata": {},
   "outputs": [],
   "source": [
    "# Extraction des bornes inférieure et supérieure des CI\n",
    "ci_v1[[\"ll\", \"hl\"]] = ci_v1[\"CI\"].str.strip(\"[]\").str.split(\",\", expand=True).astype(float)\n",
    "ci_v2[[\"ll\", \"hl\"]] = ci_v2[\"CI\"].str.strip(\"[]\").str.split(\",\", expand=True).astype(float)\n",
    "ci_v3[[\"ll\", \"hl\"]] = ci_v3[\"CI\"].str.strip(\"[]\").str.split(\",\", expand=True).astype(float)"
   ]
  },
  {
   "cell_type": "code",
   "execution_count": 128,
   "id": "61491a0b",
   "metadata": {},
   "outputs": [],
   "source": [
    "# Tableaux des valeurs pour créer le forestplot\n",
    "forest_v1 = ci_v1.merge(or_v1, on=\"coef\").merge(pval_v1, on=\"coef\")\n",
    "forest_v2 = ci_v2.merge(or_v2, on=\"coef\").merge(pval_v2, on=\"coef\")\n",
    "forest_v3 = ci_v3.merge(or_v3, on=\"coef\").merge(pval_v3, on=\"coef\")"
   ]
  },
  {
   "cell_type": "code",
   "execution_count": 129,
   "id": "588a48a2",
   "metadata": {},
   "outputs": [],
   "source": [
    "# Renommage de l'intercept\n",
    "forest_v1.iloc[0, 0] = \"Réf (homme/HDI B)\"\n",
    "forest_v2.iloc[0, 0] = \"Réf (homme/HDI B)\"\n",
    "forest_v3.iloc[0, 0] = \"Réf (homme/HDI B)\""
   ]
  },
  {
   "cell_type": "code",
   "execution_count": 130,
   "id": "ea2b02b9",
   "metadata": {},
   "outputs": [],
   "source": [
    "# Mise à zero des intervalle de confiance de l'intercept\n",
    "forest_v1.loc[0, \"ll\"] = 0 \n",
    "forest_v1.loc[0, \"hl\"] = 0\n",
    "forest_v2.loc[0, \"ll\"] = 0 \n",
    "forest_v2.loc[0, \"hl\"] = 0\n",
    "forest_v3.loc[0, \"ll\"] = 0 \n",
    "forest_v3.loc[0, \"hl\"] = 0"
   ]
  },
  {
   "cell_type": "code",
   "execution_count": 131,
   "id": "6af5b839",
   "metadata": {},
   "outputs": [
    {
     "data": {
      "text/html": [
       "<div>\n",
       "<style scoped>\n",
       "    .dataframe tbody tr th:only-of-type {\n",
       "        vertical-align: middle;\n",
       "    }\n",
       "\n",
       "    .dataframe tbody tr th {\n",
       "        vertical-align: top;\n",
       "    }\n",
       "\n",
       "    .dataframe thead th {\n",
       "        text-align: right;\n",
       "    }\n",
       "</style>\n",
       "<table border=\"1\" class=\"dataframe\">\n",
       "  <thead>\n",
       "    <tr style=\"text-align: right;\">\n",
       "      <th></th>\n",
       "      <th>coef</th>\n",
       "      <th>CI</th>\n",
       "      <th>ll</th>\n",
       "      <th>hl</th>\n",
       "      <th>OR</th>\n",
       "      <th>pval</th>\n",
       "    </tr>\n",
       "  </thead>\n",
       "  <tbody>\n",
       "    <tr>\n",
       "      <th>0</th>\n",
       "      <td>Réf (homme/HDI B)</td>\n",
       "      <td>[0.061, 16.503]</td>\n",
       "      <td>0.000</td>\n",
       "      <td>0.000</td>\n",
       "      <td>1.0</td>\n",
       "      <td>0.0</td>\n",
       "    </tr>\n",
       "    <tr>\n",
       "      <th>1</th>\n",
       "      <td>Gender[T.une femme]</td>\n",
       "      <td>[69.397, 6844.388]</td>\n",
       "      <td>69.397</td>\n",
       "      <td>6844.388</td>\n",
       "      <td>621.666667</td>\n",
       "      <td>0.172</td>\n",
       "    </tr>\n",
       "    <tr>\n",
       "      <th>2</th>\n",
       "      <td>New_HDI[T.I]</td>\n",
       "      <td>[0.0, inf]</td>\n",
       "      <td>0.000</td>\n",
       "      <td>inf</td>\n",
       "      <td>0.0</td>\n",
       "      <td>0.999</td>\n",
       "    </tr>\n",
       "    <tr>\n",
       "      <th>3</th>\n",
       "      <td>New_HDI[T.TH]</td>\n",
       "      <td>[25.872, 8259.698]</td>\n",
       "      <td>25.872</td>\n",
       "      <td>8259.698</td>\n",
       "      <td>417.0</td>\n",
       "      <td>0.767</td>\n",
       "    </tr>\n",
       "  </tbody>\n",
       "</table>\n",
       "</div>"
      ],
      "text/plain": [
       "                  coef                  CI      ll        hl          OR  \\\n",
       "0    Réf (homme/HDI B)     [0.061, 16.503]   0.000     0.000         1.0   \n",
       "1  Gender[T.une femme]  [69.397, 6844.388]  69.397  6844.388  621.666667   \n",
       "2         New_HDI[T.I]          [0.0, inf]   0.000       inf         0.0   \n",
       "3        New_HDI[T.TH]  [25.872, 8259.698]  25.872  8259.698       417.0   \n",
       "\n",
       "    pval  \n",
       "0    0.0  \n",
       "1  0.172  \n",
       "2  0.999  \n",
       "3  0.767  "
      ]
     },
     "execution_count": 131,
     "metadata": {},
     "output_type": "execute_result"
    }
   ],
   "source": [
    "forest_v1"
   ]
  },
  {
   "cell_type": "code",
   "execution_count": 132,
   "id": "57688430",
   "metadata": {},
   "outputs": [
    {
     "data": {
      "text/html": [
       "<div>\n",
       "<style scoped>\n",
       "    .dataframe tbody tr th:only-of-type {\n",
       "        vertical-align: middle;\n",
       "    }\n",
       "\n",
       "    .dataframe tbody tr th {\n",
       "        vertical-align: top;\n",
       "    }\n",
       "\n",
       "    .dataframe thead th {\n",
       "        text-align: right;\n",
       "    }\n",
       "</style>\n",
       "<table border=\"1\" class=\"dataframe\">\n",
       "  <thead>\n",
       "    <tr style=\"text-align: right;\">\n",
       "      <th></th>\n",
       "      <th>coef</th>\n",
       "      <th>CI</th>\n",
       "      <th>ll</th>\n",
       "      <th>hl</th>\n",
       "      <th>OR</th>\n",
       "      <th>pval</th>\n",
       "    </tr>\n",
       "  </thead>\n",
       "  <tbody>\n",
       "    <tr>\n",
       "      <th>0</th>\n",
       "      <td>Réf (homme/HDI B)</td>\n",
       "      <td>[0.561, 1.783]</td>\n",
       "      <td>0.000</td>\n",
       "      <td>0.000</td>\n",
       "      <td>1.0</td>\n",
       "      <td>0.0</td>\n",
       "    </tr>\n",
       "    <tr>\n",
       "      <th>1</th>\n",
       "      <td>Gender[T.une femme]</td>\n",
       "      <td>[1.451, 3.721]</td>\n",
       "      <td>1.451</td>\n",
       "      <td>3.721</td>\n",
       "      <td>2.32574</td>\n",
       "      <td>0.826</td>\n",
       "    </tr>\n",
       "    <tr>\n",
       "      <th>2</th>\n",
       "      <td>New_HDI[T.I]</td>\n",
       "      <td>[1.125, 5.04]</td>\n",
       "      <td>1.125</td>\n",
       "      <td>5.040</td>\n",
       "      <td>2.382688</td>\n",
       "      <td>0.849</td>\n",
       "    </tr>\n",
       "    <tr>\n",
       "      <th>3</th>\n",
       "      <td>New_HDI[T.TH]</td>\n",
       "      <td>[1.959, 6.424]</td>\n",
       "      <td>1.959</td>\n",
       "      <td>6.424</td>\n",
       "      <td>3.548975</td>\n",
       "      <td>0.004</td>\n",
       "    </tr>\n",
       "  </tbody>\n",
       "</table>\n",
       "</div>"
      ],
      "text/plain": [
       "                  coef              CI     ll     hl        OR   pval\n",
       "0    Réf (homme/HDI B)  [0.561, 1.783]  0.000  0.000       1.0    0.0\n",
       "1  Gender[T.une femme]  [1.451, 3.721]  1.451  3.721   2.32574  0.826\n",
       "2         New_HDI[T.I]   [1.125, 5.04]  1.125  5.040  2.382688  0.849\n",
       "3        New_HDI[T.TH]  [1.959, 6.424]  1.959  6.424  3.548975  0.004"
      ]
     },
     "execution_count": 132,
     "metadata": {},
     "output_type": "execute_result"
    }
   ],
   "source": [
    "forest_v2"
   ]
  },
  {
   "cell_type": "code",
   "execution_count": 133,
   "id": "1fe0792d",
   "metadata": {},
   "outputs": [
    {
     "data": {
      "text/html": [
       "<div>\n",
       "<style scoped>\n",
       "    .dataframe tbody tr th:only-of-type {\n",
       "        vertical-align: middle;\n",
       "    }\n",
       "\n",
       "    .dataframe tbody tr th {\n",
       "        vertical-align: top;\n",
       "    }\n",
       "\n",
       "    .dataframe thead th {\n",
       "        text-align: right;\n",
       "    }\n",
       "</style>\n",
       "<table border=\"1\" class=\"dataframe\">\n",
       "  <thead>\n",
       "    <tr style=\"text-align: right;\">\n",
       "      <th></th>\n",
       "      <th>coef</th>\n",
       "      <th>CI</th>\n",
       "      <th>ll</th>\n",
       "      <th>hl</th>\n",
       "      <th>OR</th>\n",
       "      <th>pval</th>\n",
       "    </tr>\n",
       "  </thead>\n",
       "  <tbody>\n",
       "    <tr>\n",
       "      <th>0</th>\n",
       "      <td>Réf (homme/HDI B)</td>\n",
       "      <td>[0.518, 1.931]</td>\n",
       "      <td>0.000</td>\n",
       "      <td>0.000</td>\n",
       "      <td>1.0</td>\n",
       "      <td>0.157</td>\n",
       "    </tr>\n",
       "    <tr>\n",
       "      <th>1</th>\n",
       "      <td>Gender[T.une femme]</td>\n",
       "      <td>[0.374, 1.099]</td>\n",
       "      <td>0.374</td>\n",
       "      <td>1.099</td>\n",
       "      <td>0.641167</td>\n",
       "      <td>0.053</td>\n",
       "    </tr>\n",
       "    <tr>\n",
       "      <th>2</th>\n",
       "      <td>New_HDI[T.I]</td>\n",
       "      <td>[0.367, 1.907]</td>\n",
       "      <td>0.367</td>\n",
       "      <td>1.907</td>\n",
       "      <td>0.837539</td>\n",
       "      <td>0.813</td>\n",
       "    </tr>\n",
       "    <tr>\n",
       "      <th>3</th>\n",
       "      <td>New_HDI[T.TH]</td>\n",
       "      <td>[0.334, 1.297]</td>\n",
       "      <td>0.334</td>\n",
       "      <td>1.297</td>\n",
       "      <td>0.658517</td>\n",
       "      <td>0.311</td>\n",
       "    </tr>\n",
       "  </tbody>\n",
       "</table>\n",
       "</div>"
      ],
      "text/plain": [
       "                  coef              CI     ll     hl        OR   pval\n",
       "0    Réf (homme/HDI B)  [0.518, 1.931]  0.000  0.000       1.0  0.157\n",
       "1  Gender[T.une femme]  [0.374, 1.099]  0.374  1.099  0.641167  0.053\n",
       "2         New_HDI[T.I]  [0.367, 1.907]  0.367  1.907  0.837539  0.813\n",
       "3        New_HDI[T.TH]  [0.334, 1.297]  0.334  1.297  0.658517  0.311"
      ]
     },
     "execution_count": 133,
     "metadata": {},
     "output_type": "execute_result"
    }
   ],
   "source": [
    "forest_v3"
   ]
  },
  {
   "cell_type": "code",
   "execution_count": 172,
   "id": "aa079f14",
   "metadata": {},
   "outputs": [
    {
     "data": {
      "image/png": "[encoded data removed]",
      "text/plain": [
       "<Figure size 432x288 with 1 Axes>"
      ]
     },
     "metadata": {
      "needs_background": "light"
     },
     "output_type": "display_data"
    },
    {
     "data": {
      "image/png": "[encoded data removed]",
      "text/plain": [
       "<Figure size 432x288 with 1 Axes>"
      ]
     },
     "metadata": {
      "needs_background": "light"
     },
     "output_type": "display_data"
    },
    {
     "data": {
      "image/png": "[encoded data removed]",
      "text/plain": [
       "<Figure size 432x288 with 1 Axes>"
      ]
     },
     "metadata": {
      "needs_background": "light"
     },
     "output_type": "display_data"
    }
   ],
   "source": [
    "for n, version in enumerate([forest_v1, forest_v2, forest_v3]):\n",
    "    # Données de la régression logistique\n",
    "    odds_ratios = version[\"OR\"].tolist()\n",
    "    ci = list(zip(version[\"ll\"], version[\"hl\"]))\n",
    "    ci_inf = version[\"ll\"].astype(str)\n",
    "    ci_sup = version[\"hl\"].astype(str)\n",
    "    labels = version[\"coef\"] + \" (\" + ci_inf + \" - \" + ci_sup + \", p=\" + version[\"pval\"].astype(str)\n",
    "    \n",
    "    # Création du forest plot\n",
    "    fig, ax = plt.subplots()\n",
    "\n",
    "    # OR, intervalles de confiance\n",
    "    for i, (or_val, (ci_low, ci_high), label) in enumerate(zip(odds_ratios, ci, labels)):\n",
    "        ax.plot([ci_low, ci_high], [i, i], color=\"black\", linewidth=2)\n",
    "        ax.plot(or_val, i, 'ro')\n",
    "\n",
    "    # Réglages des axes\n",
    "    ax.set_xlim(left=0.5)\n",
    "    ax.set_yticks(range(len(labels)))\n",
    "    ax.set_yticklabels(labels)\n",
    "    ax.set_xlabel('Odds Ratios')\n",
    "    ax.axvline(1, color='black', linestyle='--')\n",
    "    ax.spines[\"top\"].set_visible(False)\n",
    "    ax.spines[\"left\"].set_visible(False)\n",
    "    ax.spines[\"right\"].set_visible(False)\n",
    "    plt.title('Forest Plot of Odds Ratios')\n",
    "    #file_name = \"../graph/forestplot_V\" + str(n) + \"_binomiale.png\"\n",
    "    plt.savefig(file_name)\n",
    "    #plt.show()"
   ]
  },
  {
   "cell_type": "code",
   "execution_count": 146,
   "id": "4f5aedcd",
   "metadata": {},
   "outputs": [],
   "source": [
    "# Regression de Poisson\n",
    "model = []\n",
    "for n, version in enumerate([df_exam_v1, df_exam_v2, df_exam_v3]):\n",
    "    model.append(glm(formula=formula, data=version, family=sm.families.Poisson()))"
   ]
  },
  {
   "cell_type": "code",
   "execution_count": 147,
   "id": "210a9f8f",
   "metadata": {},
   "outputs": [],
   "source": [
    "# résultats de la fonction logistic par itération\n",
    "result_v1 = model[0].fit()\n",
    "result_v2 = model[1].fit()\n",
    "result_v3 = model[2].fit()"
   ]
  },
  {
   "cell_type": "code",
   "execution_count": 148,
   "id": "5622ea71",
   "metadata": {},
   "outputs": [],
   "source": [
    "# Calcul des odds-ratio, p-value et ci pour chaque itération\n",
    "full_odds_r, full_pvalues, full_ci = [], [], []\n",
    "for n, version in enumerate([result_v1, result_v2, result_v3]):\n",
    "    # OR\n",
    "    odds = np.exp(version.params).round(3)\n",
    "    odds_r = odds / odds[\"Intercept\"]\n",
    "    odds_r.name = mooc[n]\n",
    "    full_odds_r.append(odds_r)\n",
    "    # p-value\n",
    "    p_values = version.pvalues.round(3)\n",
    "    p_values.name = mooc[n]\n",
    "    full_pvalues.append(p_values)\n",
    "    # interval de confiance (ci)\n",
    "    ci = version.conf_int(alpha=0.05) # intervalle à 95 %\n",
    "    sup = np.exp(ci[1]) / np.exp(ci.loc[\"Intercept\", 0]) \n",
    "    inf = np.exp(ci[0]) / np.exp(ci.loc[\"Intercept\", 1])\n",
    "    ci = \"[\" + inf.round(3).astype(str) + \", \" + sup.round(3).astype(str) + \"]\"\n",
    "    ci.name = mooc[n]\n",
    "    full_ci.append(ci)"
   ]
  },
  {
   "cell_type": "code",
   "execution_count": 149,
   "id": "4b5fd6ef",
   "metadata": {},
   "outputs": [],
   "source": [
    "tab_coef = pd.concat([pd.DataFrame(full_odds_r).T, pd.DataFrame(full_pvalues).T, pd.DataFrame(full_ci).T])"
   ]
  },
  {
   "cell_type": "code",
   "execution_count": 150,
   "id": "9a3ed0d8",
   "metadata": {},
   "outputs": [],
   "source": [
    "index = pd.MultiIndex.from_arrays([[\"odds-ratio\", \"odds-ratio\", \"odds-ratio\", \"odds-ratio\", \n",
    "                                    \"p-value\", \"p-value\", \"p-value\", \"p-value\", \n",
    "                                    \"ci\", \"ci\", \"ci\", \"ci\"], \n",
    "                                    tab_coef.index], names=[\"type\", \"coef\"])"
   ]
  },
  {
   "cell_type": "code",
   "execution_count": 151,
   "id": "1187ecc4",
   "metadata": {},
   "outputs": [],
   "source": [
    "tab_full = pd.DataFrame({\"V1\": list(tab_coef[\"V1\"]), \"V2\": list(tab_coef[\"V2\"]), \"V3\": list(tab_coef[\"V3\"])}, index=index)\n",
    "tab_full.reset_index(inplace=True)\n",
    "tab_full.set_index([\"type\"], inplace=True)"
   ]
  },
  {
   "cell_type": "code",
   "execution_count": 152,
   "id": "6f894495",
   "metadata": {},
   "outputs": [],
   "source": [
    "ci_v1 = tab_full.loc[\"ci\", [\"coef\", \"V1\"]]\n",
    "or_v1 = tab_full.loc[\"odds-ratio\", [\"coef\", \"V1\"]]\n",
    "pval_v1 = tab_full.loc[\"p-value\", [\"coef\", \"V1\"]]\n",
    "\n",
    "ci_v2 = tab_full.loc[\"ci\", [\"coef\", \"V2\"]]\n",
    "or_v2 = tab_full.loc[\"odds-ratio\", [\"coef\", \"V2\"]]\n",
    "pval_v2 = tab_full.loc[\"p-value\", [\"coef\", \"V2\"]]\n",
    "\n",
    "ci_v3 = tab_full.loc[\"ci\", [\"coef\", \"V3\"]]\n",
    "or_v3 = tab_full.loc[\"odds-ratio\", [\"coef\", \"V3\"]]\n",
    "pval_v3 = tab_full.loc[\"p-value\", [\"coef\", \"V3\"]]"
   ]
  },
  {
   "cell_type": "code",
   "execution_count": 153,
   "id": "1b979964",
   "metadata": {},
   "outputs": [],
   "source": [
    "ci_v1.rename(columns={'V1': 'CI'}, inplace=True)\n",
    "ci_v2.rename(columns={'V2': 'CI'}, inplace=True)\n",
    "ci_v3.rename(columns={'V3': 'CI'}, inplace=True)\n",
    "\n",
    "or_v1.rename(columns={'V1': 'OR'}, inplace=True)\n",
    "or_v2.rename(columns={'V2': 'OR'}, inplace=True)\n",
    "or_v3.rename(columns={'V3': 'OR'}, inplace=True)\n",
    "\n",
    "pval_v1.rename(columns={'V1': 'pval'}, inplace=True)\n",
    "pval_v2.rename(columns={'V2': 'pval'}, inplace=True)\n",
    "pval_v3.rename(columns={'V3': 'pval'}, inplace=True)"
   ]
  },
  {
   "cell_type": "code",
   "execution_count": 154,
   "id": "652c532e",
   "metadata": {},
   "outputs": [],
   "source": [
    "# Extraction des bornes inférieure et supérieure des CI\n",
    "ci_v1[[\"ll\", \"hl\"]] = ci_v1[\"CI\"].str.strip(\"[]\").str.split(\",\", expand=True).astype(float)\n",
    "ci_v2[[\"ll\", \"hl\"]] = ci_v2[\"CI\"].str.strip(\"[]\").str.split(\",\", expand=True).astype(float)\n",
    "ci_v3[[\"ll\", \"hl\"]] = ci_v3[\"CI\"].str.strip(\"[]\").str.split(\",\", expand=True).astype(float)"
   ]
  },
  {
   "cell_type": "code",
   "execution_count": 155,
   "id": "a45542ac",
   "metadata": {},
   "outputs": [],
   "source": [
    "# Tableaux des valeurs pour créer le forestplot\n",
    "forest_v1 = ci_v1.merge(or_v1, on=\"coef\").merge(pval_v1, on=\"coef\")\n",
    "forest_v2 = ci_v2.merge(or_v2, on=\"coef\").merge(pval_v2, on=\"coef\")\n",
    "forest_v3 = ci_v3.merge(or_v3, on=\"coef\").merge(pval_v3, on=\"coef\")"
   ]
  },
  {
   "cell_type": "code",
   "execution_count": 156,
   "id": "ee7638b9",
   "metadata": {},
   "outputs": [],
   "source": [
    "# Renommage de l'intercept\n",
    "forest_v1.iloc[0, 0] = \"Réf (homme/HDI B)\"\n",
    "forest_v2.iloc[0, 0] = \"Réf (homme/HDI B)\"\n",
    "forest_v3.iloc[0, 0] = \"Réf (homme/HDI B)\""
   ]
  },
  {
   "cell_type": "code",
   "execution_count": 157,
   "id": "8aef3bd1",
   "metadata": {},
   "outputs": [],
   "source": [
    "# Mise à zero des intervalle de confiance de l'intercept\n",
    "forest_v1.loc[0, \"ll\"] = 0 \n",
    "forest_v1.loc[0, \"hl\"] = 0\n",
    "forest_v2.loc[0, \"ll\"] = 0 \n",
    "forest_v2.loc[0, \"hl\"] = 0\n",
    "forest_v3.loc[0, \"ll\"] = 0 \n",
    "forest_v3.loc[0, \"hl\"] = 0"
   ]
  },
  {
   "cell_type": "code",
   "execution_count": 158,
   "id": "4c9066e1",
   "metadata": {},
   "outputs": [
    {
     "data": {
      "image/png": "[encoded data removed]",
      "text/plain": [
       "<Figure size 432x288 with 1 Axes>"
      ]
     },
     "metadata": {
      "needs_background": "light"
     },
     "output_type": "display_data"
    },
    {
     "data": {
      "image/png": "[encoded data removed]",
      "text/plain": [
       "<Figure size 432x288 with 1 Axes>"
      ]
     },
     "metadata": {
      "needs_background": "light"
     },
     "output_type": "display_data"
    },
    {
     "data": {
      "image/png": "[encoded data removed]",
      "text/plain": [
       "<Figure size 432x288 with 1 Axes>"
      ]
     },
     "metadata": {
      "needs_background": "light"
     },
     "output_type": "display_data"
    }
   ],
   "source": [
    "for n, version in enumerate([forest_v1, forest_v2, forest_v3]):\n",
    "    # Données de la régression logistique\n",
    "    odds_ratios = version[\"OR\"].tolist()\n",
    "    ci = list(zip(version[\"ll\"], version[\"hl\"]))\n",
    "    ci_inf = version[\"ll\"].astype(str)\n",
    "    ci_sup = version[\"hl\"].astype(str)\n",
    "    labels = version[\"coef\"] + \" (\" + ci_inf + \" - \" + ci_sup + \", p=\" + version[\"pval\"].astype(str)\n",
    "    \n",
    "    # Création du forest plot\n",
    "    fig, ax = plt.subplots()\n",
    "\n",
    "    # OR, intervalles de confiance\n",
    "    for i, (or_val, (ci_low, ci_high), label) in enumerate(zip(odds_ratios, ci, labels)):\n",
    "        ax.plot([ci_low, ci_high], [i, i], color=\"black\", linewidth=2)\n",
    "        ax.plot(or_val, i, 'ro')\n",
    "\n",
    "    # Réglages des axes\n",
    "    ax.set_xlim(left=0.5)\n",
    "    ax.set_yticks(range(len(labels)))\n",
    "    ax.set_yticklabels(labels)\n",
    "    ax.set_xlabel('Odds Ratios')\n",
    "    ax.axvline(1, color='black', linestyle='--')\n",
    "    ax.spines[\"top\"].set_visible(False)\n",
    "    ax.spines[\"left\"].set_visible(False)\n",
    "    ax.spines[\"right\"].set_visible(False)\n",
    "    plt.title('Forest Plot of Odds Ratios')\n",
    "    file_name = \"../graph/forestplot_V\" + str(n) + \"_poisson.png\"\n",
    "    #plt.savefig(file_name)\n",
    "    plt.show()"
   ]
  }
 ],
 "metadata": {
  "kernelspec": {
   "display_name": "Python 3 (ipykernel)",
   "language": "python",
   "name": "python3"
  },
  "language_info": {
   "codemirror_mode": {
    "name": "ipython",
    "version": 3
   },
   "file_extension": ".py",
   "mimetype": "text/x-python",
   "name": "python",
   "nbconvert_exporter": "python",
   "pygments_lexer": "ipython3",
   "version": "3.9.12"
  }
 },
 "nbformat": 4,
 "nbformat_minor": 5
}
